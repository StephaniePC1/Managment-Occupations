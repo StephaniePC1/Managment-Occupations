{
  "nbformat": 4,
  "nbformat_minor": 0,
  "metadata": {
    "kernelspec": {
      "display_name": "Python 3",
      "language": "python",
      "name": "python3"
    },
    "language_info": {
      "codemirror_mode": {
        "name": "ipython",
        "version": 3
      },
      "file_extension": ".py",
      "mimetype": "text/x-python",
      "name": "python",
      "nbconvert_exporter": "python",
      "pygments_lexer": "ipython3",
      "version": "3.4.3"
    },
    "colab": {
      "name": "GPII.ipynb",
      "provenance": [],
      "collapsed_sections": [],
      "include_colab_link": true
    }
  },
  "cells": [
    {
      "cell_type": "markdown",
      "metadata": {
        "id": "view-in-github",
        "colab_type": "text"
      },
      "source": [
        "<a href=\"https://colab.research.google.com/github/StephaniePC1/ThisIsWhatIDoNow/blob/master/GPII.ipynb\" target=\"_parent\"><img src=\"https://colab.research.google.com/assets/colab-badge.svg\" alt=\"Open In Colab\"/></a>"
      ]
    },
    {
      "cell_type": "markdown",
      "metadata": {
        "id": "aw-ieXcPMGtk",
        "colab_type": "text"
      },
      "source": [
        "# Exploring Hacker News Posts\n",
        "In this project we will be exploring and analyzing user-sumbitted stories (AKA \"posts\"). We are interested in posts that begin with `ASK HN` and `SHOW HN`. \n",
        "  * `ASK HN` posts are submitted by users in order to ask the Hacker News community a question.\n",
        "  * `SHOW HN` posts are used to share a project, a product or something else of interest to the Hacker News community. \n",
        "\n",
        "Our goal is answer these questions:\n",
        "* What type of post recieves more commments on average, `ASK HN` or `SHOW HN`?\n",
        "* Do posts submitted at a particular time recieve more comments on average?"
      ]
    },
    {
      "cell_type": "code",
      "metadata": {
        "id": "tz_lXJ6D49t2",
        "colab_type": "code",
        "colab": {}
      },
      "source": [
        "import pandas as pd\n",
        "\n",
        "path = 'https://github.com/StephaniePC1/ThisIsWhatIDoNow/raw/master/197_419_bundle_archive%20(1).zip'\n",
        "hackernews = pd.read_csv(path, compression='zip')\n",
        "# differnt data importing"
      ],
      "execution_count": 8,
      "outputs": []
    },
    {
      "cell_type": "code",
      "metadata": {
        "id": "FGbLd0cpN-Us",
        "colab_type": "code",
        "colab": {
          "base_uri": "https://localhost:8080/",
          "height": 513
        },
        "outputId": "c5ee4ade-c30b-4b83-fe70-5f1b8255d0f7"
      },
      "source": [
        "hackernews.head()"
      ],
      "execution_count": 9,
      "outputs": [
        {
          "output_type": "execute_result",
          "data": {
            "text/html": [
              "<div>\n",
              "<style scoped>\n",
              "    .dataframe tbody tr th:only-of-type {\n",
              "        vertical-align: middle;\n",
              "    }\n",
              "\n",
              "    .dataframe tbody tr th {\n",
              "        vertical-align: top;\n",
              "    }\n",
              "\n",
              "    .dataframe thead th {\n",
              "        text-align: right;\n",
              "    }\n",
              "</style>\n",
              "<table border=\"1\" class=\"dataframe\">\n",
              "  <thead>\n",
              "    <tr style=\"text-align: right;\">\n",
              "      <th></th>\n",
              "      <th>id</th>\n",
              "      <th>title</th>\n",
              "      <th>url</th>\n",
              "      <th>num_points</th>\n",
              "      <th>num_comments</th>\n",
              "      <th>author</th>\n",
              "      <th>created_at</th>\n",
              "    </tr>\n",
              "  </thead>\n",
              "  <tbody>\n",
              "    <tr>\n",
              "      <th>0</th>\n",
              "      <td>12579008</td>\n",
              "      <td>You have two days to comment if you want stem ...</td>\n",
              "      <td>http://www.regulations.gov/document?D=FDA-2015...</td>\n",
              "      <td>1</td>\n",
              "      <td>0</td>\n",
              "      <td>altstar</td>\n",
              "      <td>9/26/2016 3:26</td>\n",
              "    </tr>\n",
              "    <tr>\n",
              "      <th>1</th>\n",
              "      <td>12579005</td>\n",
              "      <td>SQLAR  the SQLite Archiver</td>\n",
              "      <td>https://www.sqlite.org/sqlar/doc/trunk/README.md</td>\n",
              "      <td>1</td>\n",
              "      <td>0</td>\n",
              "      <td>blacksqr</td>\n",
              "      <td>9/26/2016 3:24</td>\n",
              "    </tr>\n",
              "    <tr>\n",
              "      <th>2</th>\n",
              "      <td>12578997</td>\n",
              "      <td>What if we just printed a flatscreen televisio...</td>\n",
              "      <td>https://medium.com/vanmoof/our-secrets-out-f21...</td>\n",
              "      <td>1</td>\n",
              "      <td>0</td>\n",
              "      <td>pavel_lishin</td>\n",
              "      <td>9/26/2016 3:19</td>\n",
              "    </tr>\n",
              "    <tr>\n",
              "      <th>3</th>\n",
              "      <td>12578989</td>\n",
              "      <td>algorithmic music</td>\n",
              "      <td>http://cacm.acm.org/magazines/2011/7/109891-al...</td>\n",
              "      <td>1</td>\n",
              "      <td>0</td>\n",
              "      <td>poindontcare</td>\n",
              "      <td>9/26/2016 3:16</td>\n",
              "    </tr>\n",
              "    <tr>\n",
              "      <th>4</th>\n",
              "      <td>12578979</td>\n",
              "      <td>How the Data Vault Enables the Next-Gen Data W...</td>\n",
              "      <td>https://www.talend.com/blog/2016/05/12/talend-...</td>\n",
              "      <td>1</td>\n",
              "      <td>0</td>\n",
              "      <td>markgainor1</td>\n",
              "      <td>9/26/2016 3:14</td>\n",
              "    </tr>\n",
              "  </tbody>\n",
              "</table>\n",
              "</div>"
            ],
            "text/plain": [
              "         id  ...      created_at\n",
              "0  12579008  ...  9/26/2016 3:26\n",
              "1  12579005  ...  9/26/2016 3:24\n",
              "2  12578997  ...  9/26/2016 3:19\n",
              "3  12578989  ...  9/26/2016 3:16\n",
              "4  12578979  ...  9/26/2016 3:14\n",
              "\n",
              "[5 rows x 7 columns]"
            ]
          },
          "metadata": {
            "tags": []
          },
          "execution_count": 9
        }
      ]
    },
    {
      "cell_type": "code",
      "metadata": {
        "id": "RYdF6Z0kmffr",
        "colab_type": "code",
        "colab": {}
      },
      "source": [
        "hn = [hackernews.columns.values.tolist()] + hackernews.values.tolist()\n",
        "# Converted the Pandas DataFrame to a list of list"
      ],
      "execution_count": 10,
      "outputs": []
    },
    {
      "cell_type": "code",
      "metadata": {
        "id": "aJQkvTKWmffv",
        "colab_type": "code",
        "colab": {
          "base_uri": "https://localhost:8080/",
          "height": 34
        },
        "outputId": "dc4a8510-d9a7-4f08-be1b-801a5f9b49d6"
      },
      "source": [
        "headers = hn[0]\n",
        "print(headers)"
      ],
      "execution_count": 11,
      "outputs": [
        {
          "output_type": "stream",
          "text": [
            "['id', 'title', 'url', 'num_points', 'num_comments', 'author', 'created_at']\n"
          ],
          "name": "stdout"
        }
      ]
    },
    {
      "cell_type": "code",
      "metadata": {
        "id": "pn2zC_2Dmffy",
        "colab_type": "code",
        "colab": {
          "base_uri": "https://localhost:8080/",
          "height": 54
        },
        "outputId": "2e48c5fc-630a-426f-e19e-99f8da795067"
      },
      "source": [
        "hn = hn[1:]\n",
        "print(hn[:5])"
      ],
      "execution_count": 12,
      "outputs": [
        {
          "output_type": "stream",
          "text": [
            "[[12579008, 'You have two days to comment if you want stem cells to be classified as your own', 'http://www.regulations.gov/document?D=FDA-2015-D-3719-0018', 1, 0, 'altstar', '9/26/2016 3:26'], [12579005, 'SQLAR  the SQLite Archiver', 'https://www.sqlite.org/sqlar/doc/trunk/README.md', 1, 0, 'blacksqr', '9/26/2016 3:24'], [12578997, 'What if we just printed a flatscreen television on the side of our boxes?', 'https://medium.com/vanmoof/our-secrets-out-f21c1f03fdc8#.ietxmez43', 1, 0, 'pavel_lishin', '9/26/2016 3:19'], [12578989, 'algorithmic music', 'http://cacm.acm.org/magazines/2011/7/109891-algorithmic-composition/fulltext', 1, 0, 'poindontcare', '9/26/2016 3:16'], [12578979, 'How the Data Vault Enables the Next-Gen Data Warehouse and Data Lake', 'https://www.talend.com/blog/2016/05/12/talend-and-Â\\x93the-data-vaultÂ\\x94', 1, 0, 'markgainor1', '9/26/2016 3:14']]\n"
          ],
          "name": "stdout"
        }
      ]
    },
    {
      "cell_type": "code",
      "metadata": {
        "id": "sTEKtaYbmff1",
        "colab_type": "code",
        "colab": {}
      },
      "source": [
        "ask_posts=[]\n",
        "show_posts=[]\n",
        "other_posts=[]"
      ],
      "execution_count": 13,
      "outputs": []
    },
    {
      "cell_type": "code",
      "metadata": {
        "id": "sMF5fzEumff4",
        "colab_type": "code",
        "colab": {}
      },
      "source": [
        "for post in hn:\n",
        "    title = post[1]\n",
        "    if title.lower().startswith(\"ask hn\"):\n",
        "        ask_posts.append(post)\n",
        "    elif title.lower().startswith(\"show hn\"):\n",
        "        show_posts.append(post)\n",
        "    else:\n",
        "        other_posts.append(post)"
      ],
      "execution_count": 14,
      "outputs": []
    },
    {
      "cell_type": "code",
      "metadata": {
        "id": "0DgXBvBWmff6",
        "colab_type": "code",
        "colab": {
          "base_uri": "https://localhost:8080/",
          "height": 68
        },
        "outputId": "79f1bbed-a4f7-49f8-a358-00899812cc7c"
      },
      "source": [
        "print(\"The number of ask hn posts: \", len(ask_posts))\n",
        "print(\"The number of show hn posts: \", len(show_posts))\n",
        "print(\"The number of other posts: \", len(other_posts))\n",
        "# Printed text associated with the solution"
      ],
      "execution_count": 45,
      "outputs": [
        {
          "output_type": "stream",
          "text": [
            "The number of ask hn posts:  9139\n",
            "The number of show hn posts:  10158\n",
            "The number of other posts:  273822\n"
          ],
          "name": "stdout"
        }
      ]
    },
    {
      "cell_type": "code",
      "metadata": {
        "id": "xEyzVMUVmff9",
        "colab_type": "code",
        "colab": {}
      },
      "source": [
        "total_ask_comments = 0"
      ],
      "execution_count": 16,
      "outputs": []
    },
    {
      "cell_type": "code",
      "metadata": {
        "id": "UzEQp2yNmfgA",
        "colab_type": "code",
        "colab": {}
      },
      "source": [
        "for post in ask_posts:\n",
        "    total_ask_comments += int(post[4])"
      ],
      "execution_count": 17,
      "outputs": []
    },
    {
      "cell_type": "code",
      "metadata": {
        "id": "mtiJpnzamfgD",
        "colab_type": "code",
        "colab": {
          "base_uri": "https://localhost:8080/",
          "height": 34
        },
        "outputId": "7cebe04a-c724-40de-8389-c88211a7ed99"
      },
      "source": [
        "avg_ask_comments = round(total_ask_comments / len(ask_posts) ,2)\n",
        "print(total_ask_comments)\n",
        "# Rounded "
      ],
      "execution_count": 18,
      "outputs": [
        {
          "output_type": "stream",
          "text": [
            "94986\n"
          ],
          "name": "stdout"
        }
      ]
    },
    {
      "cell_type": "code",
      "metadata": {
        "id": "tiJlMLFemfgF",
        "colab_type": "code",
        "colab": {
          "base_uri": "https://localhost:8080/",
          "height": 34
        },
        "outputId": "3104cfa3-8394-4b56-a9fa-4c2fdd063107"
      },
      "source": [
        "print(avg_ask_comments)"
      ],
      "execution_count": 19,
      "outputs": [
        {
          "output_type": "stream",
          "text": [
            "10.39\n"
          ],
          "name": "stdout"
        }
      ]
    },
    {
      "cell_type": "code",
      "metadata": {
        "id": "eNlgmhEnmfgI",
        "colab_type": "code",
        "colab": {}
      },
      "source": [
        "total_show_comments = 0"
      ],
      "execution_count": 20,
      "outputs": []
    },
    {
      "cell_type": "code",
      "metadata": {
        "id": "b-UF-2ImmfgL",
        "colab_type": "code",
        "colab": {}
      },
      "source": [
        "for post in ask_posts:\n",
        "    total_show_comments += int(post[4])"
      ],
      "execution_count": 21,
      "outputs": []
    },
    {
      "cell_type": "code",
      "metadata": {
        "id": "GsAHc2OzmfgO",
        "colab_type": "code",
        "colab": {}
      },
      "source": [
        "avg_show_comments = round(total_show_comments / len(show_posts) ,2)\n",
        "# Rounded"
      ],
      "execution_count": 22,
      "outputs": []
    },
    {
      "cell_type": "code",
      "metadata": {
        "id": "l_eKP1zsmfgQ",
        "colab_type": "code",
        "colab": {
          "base_uri": "https://localhost:8080/",
          "height": 34
        },
        "outputId": "5d7fd5a1-4b02-4245-99a0-0fa2f6dbd484"
      },
      "source": [
        "print(avg_show_comments)"
      ],
      "execution_count": 23,
      "outputs": [
        {
          "output_type": "stream",
          "text": [
            "9.35\n"
          ],
          "name": "stdout"
        }
      ]
    },
    {
      "cell_type": "markdown",
      "metadata": {
        "id": "IrnjdpBgPLaM",
        "colab_type": "text"
      },
      "source": [
        "After separating the ask posts and the show posts, we were able to determine the average for both of the two. From the results, ask posts reveive more comments at around 10.39, compared to the amount of show posts comments at around 9.35. Thus, to allow us to find the time in which we would be able to receive the most amount of comments, we will continue to look into data for the ask posts."
      ]
    },
    {
      "cell_type": "code",
      "metadata": {
        "id": "KFNpqn_qmfgT",
        "colab_type": "code",
        "colab": {}
      },
      "source": [
        "import datetime as dt"
      ],
      "execution_count": 24,
      "outputs": []
    },
    {
      "cell_type": "code",
      "metadata": {
        "id": "wYKq7JzBmfgV",
        "colab_type": "code",
        "colab": {}
      },
      "source": [
        "result_list=[]"
      ],
      "execution_count": 25,
      "outputs": []
    },
    {
      "cell_type": "code",
      "metadata": {
        "id": "OGvEkDPXmfgX",
        "colab_type": "code",
        "colab": {}
      },
      "source": [
        "for post in ask_posts:\n",
        "    result_list.append([post[6], int(post[4])])"
      ],
      "execution_count": 26,
      "outputs": []
    },
    {
      "cell_type": "code",
      "metadata": {
        "id": "91gWPzMemfga",
        "colab_type": "code",
        "colab": {}
      },
      "source": [
        "comments_by_hour = {}\n",
        "counts_by_hour = {}"
      ],
      "execution_count": 27,
      "outputs": []
    },
    {
      "cell_type": "code",
      "metadata": {
        "id": "KwRigiqdmfgc",
        "colab_type": "code",
        "colab": {}
      },
      "source": [
        "date_time = \"%m/%d/%Y %H:%M\"\n",
        "for each_row in result_list:\n",
        "    date = each_row[0]\n",
        "    comment = each_row[1]\n",
        "    time = dt.datetime.strptime(date, date_time).strftime(\"%H\")\n",
        "    if time in counts_by_hour:\n",
        "        comments_by_hour[time] += comment\n",
        "        counts_by_hour[time] += 1\n",
        "    else:\n",
        "        comments_by_hour[time] = comment\n",
        "        counts_by_hour[time] = 1"
      ],
      "execution_count": 28,
      "outputs": []
    },
    {
      "cell_type": "code",
      "metadata": {
        "id": "YRBknLDsmfge",
        "colab_type": "code",
        "colab": {
          "base_uri": "https://localhost:8080/",
          "height": 425
        },
        "outputId": "a83cfb1f-d3d4-4948-e002-d243fea86ad4"
      },
      "source": [
        "counts_by_hour"
      ],
      "execution_count": 29,
      "outputs": [
        {
          "output_type": "execute_result",
          "data": {
            "text/plain": [
              "{'00': 301,\n",
              " '01': 282,\n",
              " '02': 269,\n",
              " '03': 271,\n",
              " '04': 243,\n",
              " '05': 209,\n",
              " '06': 234,\n",
              " '07': 226,\n",
              " '08': 257,\n",
              " '09': 222,\n",
              " '10': 282,\n",
              " '11': 312,\n",
              " '12': 342,\n",
              " '13': 444,\n",
              " '14': 513,\n",
              " '15': 646,\n",
              " '16': 579,\n",
              " '17': 587,\n",
              " '18': 614,\n",
              " '19': 552,\n",
              " '20': 510,\n",
              " '21': 518,\n",
              " '22': 383,\n",
              " '23': 343}"
            ]
          },
          "metadata": {
            "tags": []
          },
          "execution_count": 29
        }
      ]
    },
    {
      "cell_type": "code",
      "metadata": {
        "id": "N2cL7tb7mfgg",
        "colab_type": "code",
        "colab": {
          "base_uri": "https://localhost:8080/",
          "height": 425
        },
        "outputId": "6049d3c1-c756-433b-cec6-f96b6d4d87d1"
      },
      "source": [
        "comments_by_hour"
      ],
      "execution_count": 30,
      "outputs": [
        {
          "output_type": "execute_result",
          "data": {
            "text/plain": [
              "{'00': 2277,\n",
              " '01': 2089,\n",
              " '02': 2996,\n",
              " '03': 2154,\n",
              " '04': 2360,\n",
              " '05': 1838,\n",
              " '06': 1587,\n",
              " '07': 1585,\n",
              " '08': 2362,\n",
              " '09': 1477,\n",
              " '10': 3013,\n",
              " '11': 2797,\n",
              " '12': 4234,\n",
              " '13': 7245,\n",
              " '14': 4972,\n",
              " '15': 18525,\n",
              " '16': 4466,\n",
              " '17': 5547,\n",
              " '18': 4877,\n",
              " '19': 3954,\n",
              " '20': 4462,\n",
              " '21': 4500,\n",
              " '22': 3372,\n",
              " '23': 2297}"
            ]
          },
          "metadata": {
            "tags": []
          },
          "execution_count": 30
        }
      ]
    },
    {
      "cell_type": "code",
      "metadata": {
        "id": "DmQzJle_mfgh",
        "colab_type": "code",
        "colab": {}
      },
      "source": [
        "average_comments_by_hour = []\n",
        "\n",
        "for hour in comments_by_hour:\n",
        "    average_comments_by_hour.append([hour, round(comments_by_hour[hour] / counts_by_hour[hour] ,2)])\n",
        "# Rounded"
      ],
      "execution_count": 31,
      "outputs": []
    },
    {
      "cell_type": "code",
      "metadata": {
        "id": "28w2be3cmfgj",
        "colab_type": "code",
        "colab": {
          "base_uri": "https://localhost:8080/",
          "height": 425
        },
        "outputId": "79cfcd17-c110-4d4c-d561-930ec8cc53ce"
      },
      "source": [
        "avg_by_hour=average_comments_by_hour\n",
        "avg_by_hour"
      ],
      "execution_count": 32,
      "outputs": [
        {
          "output_type": "execute_result",
          "data": {
            "text/plain": [
              "[['02', 11.14],\n",
              " ['01', 7.41],\n",
              " ['22', 8.8],\n",
              " ['21', 8.69],\n",
              " ['19', 7.16],\n",
              " ['17', 9.45],\n",
              " ['15', 28.68],\n",
              " ['14', 9.69],\n",
              " ['13', 16.32],\n",
              " ['11', 8.96],\n",
              " ['10', 10.68],\n",
              " ['09', 6.65],\n",
              " ['07', 7.01],\n",
              " ['03', 7.95],\n",
              " ['23', 6.7],\n",
              " ['20', 8.75],\n",
              " ['16', 7.71],\n",
              " ['08', 9.19],\n",
              " ['00', 7.56],\n",
              " ['18', 7.94],\n",
              " ['12', 12.38],\n",
              " ['04', 9.71],\n",
              " ['06', 6.78],\n",
              " ['05', 8.79]]"
            ]
          },
          "metadata": {
            "tags": []
          },
          "execution_count": 32
        }
      ]
    },
    {
      "cell_type": "code",
      "metadata": {
        "id": "4KcYrC50mfgn",
        "colab_type": "code",
        "colab": {}
      },
      "source": [
        "swap_avg_by_hour = []\n",
        "for row in avg_by_hour:\n",
        "    swap_avg_by_hour.append([row[1], row[0]])"
      ],
      "execution_count": 33,
      "outputs": []
    },
    {
      "cell_type": "code",
      "metadata": {
        "id": "63iB6mSdmfgp",
        "colab_type": "code",
        "colab": {
          "base_uri": "https://localhost:8080/",
          "height": 425
        },
        "outputId": "24a7ef3c-158f-4ad0-e939-e91b19ef77e8"
      },
      "source": [
        "swap_avg_by_hour"
      ],
      "execution_count": 34,
      "outputs": [
        {
          "output_type": "execute_result",
          "data": {
            "text/plain": [
              "[[11.14, '02'],\n",
              " [7.41, '01'],\n",
              " [8.8, '22'],\n",
              " [8.69, '21'],\n",
              " [7.16, '19'],\n",
              " [9.45, '17'],\n",
              " [28.68, '15'],\n",
              " [9.69, '14'],\n",
              " [16.32, '13'],\n",
              " [8.96, '11'],\n",
              " [10.68, '10'],\n",
              " [6.65, '09'],\n",
              " [7.01, '07'],\n",
              " [7.95, '03'],\n",
              " [6.7, '23'],\n",
              " [8.75, '20'],\n",
              " [7.71, '16'],\n",
              " [9.19, '08'],\n",
              " [7.56, '00'],\n",
              " [7.94, '18'],\n",
              " [12.38, '12'],\n",
              " [9.71, '04'],\n",
              " [6.78, '06'],\n",
              " [8.79, '05']]"
            ]
          },
          "metadata": {
            "tags": []
          },
          "execution_count": 34
        }
      ]
    },
    {
      "cell_type": "code",
      "metadata": {
        "id": "b0IY2kaFmfgr",
        "colab_type": "code",
        "colab": {}
      },
      "source": [
        "sorted_swap = sorted(swap_avg_by_hour, reverse=True)"
      ],
      "execution_count": 35,
      "outputs": []
    },
    {
      "cell_type": "code",
      "metadata": {
        "id": "SUVQJXAAmfgw",
        "colab_type": "code",
        "colab": {
          "base_uri": "https://localhost:8080/",
          "height": 153
        },
        "outputId": "ee92ede7-41ef-41d2-eeb9-548365ef98a3"
      },
      "source": [
        "print(\"Top 5 Hours for Ask Posts Comments\")\n",
        "print(\"\\n\")\n",
        "\n",
        "for avg, hour in sorted_swap[:5]:\n",
        "    print(\"{}: {:.2f} average comments per post\".format(\n",
        "            dt.datetime.strptime(hour, \"%H\").strftime(\"%H:%M\"),avg))"
      ],
      "execution_count": 44,
      "outputs": [
        {
          "output_type": "stream",
          "text": [
            "Top 5 Hours for Ask Posts Comments\n",
            "\n",
            "\n",
            "15:00: 28.68 average comments per post\n",
            "13:00: 16.32 average comments per post\n",
            "12:00: 12.38 average comments per post\n",
            "02:00: 11.14 average comments per post\n",
            "10:00: 10.68 average comments per post\n"
          ],
          "name": "stdout"
        }
      ]
    },
    {
      "cell_type": "code",
      "metadata": {
        "id": "4Q_k4-haXK7R",
        "colab_type": "code",
        "colab": {
          "base_uri": "https://localhost:8080/",
          "height": 51
        },
        "outputId": "a5d18c0c-4762-426d-80f7-0a9b20053445"
      },
      "source": [
        "diff=28.68-16.32\n",
        "print(diff)\n",
        "print((diff/16.32)*100)\n",
        "# Simple calculations for write up"
      ],
      "execution_count": 37,
      "outputs": [
        {
          "output_type": "stream",
          "text": [
            "12.36\n",
            "75.73529411764706\n"
          ],
          "name": "stdout"
        }
      ]
    },
    {
      "cell_type": "markdown",
      "metadata": {
        "id": "mGOeICFUmfgx",
        "colab_type": "text"
      },
      "source": [
        "The results of our analysis determines that 15:00 (3:00 PM EST as we are currently in EDT this time would be 4:00 PM until November) is the time we are most likely to receive comments on our post. The difference between the highest averaging hour and the second is quite significant with an appoximate 12 more comments or a 76% increase comments."
      ]
    }
  ]
}