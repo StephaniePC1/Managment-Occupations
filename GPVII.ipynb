{
  "nbformat": 4,
  "nbformat_minor": 0,
  "metadata": {
    "colab": {
      "name": "GPVII.ipynb",
      "provenance": [],
      "collapsed_sections": [],
      "authorship_tag": "ABX9TyMfX74TcCb9HRqBSFy7GUlm",
      "include_colab_link": true
    },
    "kernelspec": {
      "name": "python3",
      "display_name": "Python 3"
    }
  },
  "cells": [
    {
      "cell_type": "markdown",
      "metadata": {
        "id": "view-in-github",
        "colab_type": "text"
      },
      "source": [
        "<a href=\"https://colab.research.google.com/github/StephaniePC1/ThisIsWhatIDoNow/blob/master/GPVII.ipynb\" target=\"_parent\"><img src=\"https://colab.research.google.com/assets/colab-badge.svg\" alt=\"Open In Colab\"/></a>"
      ]
    },
    {
      "cell_type": "markdown",
      "metadata": {
        "id": "Ym7tK1DKaphS"
      },
      "source": [
        "#Guided Project: Winning Jeopardy"
      ]
    },
    {
      "cell_type": "code",
      "metadata": {
        "id": "LlYkzRJVaNe0"
      },
      "source": [
        "import pandas as pd\n",
        "import csv\n",
        "\n",
        "path = 'https://github.com/StephaniePC1/ThisIsWhatIDoNow/raw/master/JEOPARDY_CSV.zip'\n",
        "jeopardy = pd.read_csv(path, compression='zip')"
      ],
      "execution_count": 310,
      "outputs": []
    },
    {
      "cell_type": "code",
      "metadata": {
        "id": "v3eWAMyZePwa",
        "outputId": "dd6bc646-349f-42f1-debf-21947c91c0cd",
        "colab": {
          "base_uri": "https://localhost:8080/",
          "height": 1000
        }
      },
      "source": [
        "jeopardy.head(30)"
      ],
      "execution_count": 311,
      "outputs": [
        {
          "output_type": "execute_result",
          "data": {
            "text/html": [
              "<div>\n",
              "<style scoped>\n",
              "    .dataframe tbody tr th:only-of-type {\n",
              "        vertical-align: middle;\n",
              "    }\n",
              "\n",
              "    .dataframe tbody tr th {\n",
              "        vertical-align: top;\n",
              "    }\n",
              "\n",
              "    .dataframe thead th {\n",
              "        text-align: right;\n",
              "    }\n",
              "</style>\n",
              "<table border=\"1\" class=\"dataframe\">\n",
              "  <thead>\n",
              "    <tr style=\"text-align: right;\">\n",
              "      <th></th>\n",
              "      <th>Show Number</th>\n",
              "      <th>Air Date</th>\n",
              "      <th>Round</th>\n",
              "      <th>Category</th>\n",
              "      <th>Value</th>\n",
              "      <th>Question</th>\n",
              "      <th>Answer</th>\n",
              "    </tr>\n",
              "  </thead>\n",
              "  <tbody>\n",
              "    <tr>\n",
              "      <th>0</th>\n",
              "      <td>4680</td>\n",
              "      <td>2004-12-31</td>\n",
              "      <td>Jeopardy!</td>\n",
              "      <td>HISTORY</td>\n",
              "      <td>$200</td>\n",
              "      <td>For the last 8 years of his life, Galileo was ...</td>\n",
              "      <td>Copernicus</td>\n",
              "    </tr>\n",
              "    <tr>\n",
              "      <th>1</th>\n",
              "      <td>4680</td>\n",
              "      <td>2004-12-31</td>\n",
              "      <td>Jeopardy!</td>\n",
              "      <td>ESPN's TOP 10 ALL-TIME ATHLETES</td>\n",
              "      <td>$200</td>\n",
              "      <td>No. 2: 1912 Olympian; football star at Carlisl...</td>\n",
              "      <td>Jim Thorpe</td>\n",
              "    </tr>\n",
              "    <tr>\n",
              "      <th>2</th>\n",
              "      <td>4680</td>\n",
              "      <td>2004-12-31</td>\n",
              "      <td>Jeopardy!</td>\n",
              "      <td>EVERYBODY TALKS ABOUT IT...</td>\n",
              "      <td>$200</td>\n",
              "      <td>The city of Yuma in this state has a record av...</td>\n",
              "      <td>Arizona</td>\n",
              "    </tr>\n",
              "    <tr>\n",
              "      <th>3</th>\n",
              "      <td>4680</td>\n",
              "      <td>2004-12-31</td>\n",
              "      <td>Jeopardy!</td>\n",
              "      <td>THE COMPANY LINE</td>\n",
              "      <td>$200</td>\n",
              "      <td>In 1963, live on \"The Art Linkletter Show\", th...</td>\n",
              "      <td>McDonald's</td>\n",
              "    </tr>\n",
              "    <tr>\n",
              "      <th>4</th>\n",
              "      <td>4680</td>\n",
              "      <td>2004-12-31</td>\n",
              "      <td>Jeopardy!</td>\n",
              "      <td>EPITAPHS &amp; TRIBUTES</td>\n",
              "      <td>$200</td>\n",
              "      <td>Signer of the Dec. of Indep., framer of the Co...</td>\n",
              "      <td>John Adams</td>\n",
              "    </tr>\n",
              "    <tr>\n",
              "      <th>5</th>\n",
              "      <td>4680</td>\n",
              "      <td>2004-12-31</td>\n",
              "      <td>Jeopardy!</td>\n",
              "      <td>3-LETTER WORDS</td>\n",
              "      <td>$200</td>\n",
              "      <td>In the title of an Aesop fable, this insect sh...</td>\n",
              "      <td>the ant</td>\n",
              "    </tr>\n",
              "    <tr>\n",
              "      <th>6</th>\n",
              "      <td>4680</td>\n",
              "      <td>2004-12-31</td>\n",
              "      <td>Jeopardy!</td>\n",
              "      <td>HISTORY</td>\n",
              "      <td>$400</td>\n",
              "      <td>Built in 312 B.C. to link Rome &amp; the South of ...</td>\n",
              "      <td>the Appian Way</td>\n",
              "    </tr>\n",
              "    <tr>\n",
              "      <th>7</th>\n",
              "      <td>4680</td>\n",
              "      <td>2004-12-31</td>\n",
              "      <td>Jeopardy!</td>\n",
              "      <td>ESPN's TOP 10 ALL-TIME ATHLETES</td>\n",
              "      <td>$400</td>\n",
              "      <td>No. 8: 30 steals for the Birmingham Barons; 2,...</td>\n",
              "      <td>Michael Jordan</td>\n",
              "    </tr>\n",
              "    <tr>\n",
              "      <th>8</th>\n",
              "      <td>4680</td>\n",
              "      <td>2004-12-31</td>\n",
              "      <td>Jeopardy!</td>\n",
              "      <td>EVERYBODY TALKS ABOUT IT...</td>\n",
              "      <td>$400</td>\n",
              "      <td>In the winter of 1971-72, a record 1,122 inche...</td>\n",
              "      <td>Washington</td>\n",
              "    </tr>\n",
              "    <tr>\n",
              "      <th>9</th>\n",
              "      <td>4680</td>\n",
              "      <td>2004-12-31</td>\n",
              "      <td>Jeopardy!</td>\n",
              "      <td>THE COMPANY LINE</td>\n",
              "      <td>$400</td>\n",
              "      <td>This housewares store was named for the packag...</td>\n",
              "      <td>Crate &amp; Barrel</td>\n",
              "    </tr>\n",
              "    <tr>\n",
              "      <th>10</th>\n",
              "      <td>4680</td>\n",
              "      <td>2004-12-31</td>\n",
              "      <td>Jeopardy!</td>\n",
              "      <td>EPITAPHS &amp; TRIBUTES</td>\n",
              "      <td>$400</td>\n",
              "      <td>\"And away we go\"</td>\n",
              "      <td>Jackie Gleason</td>\n",
              "    </tr>\n",
              "    <tr>\n",
              "      <th>11</th>\n",
              "      <td>4680</td>\n",
              "      <td>2004-12-31</td>\n",
              "      <td>Jeopardy!</td>\n",
              "      <td>3-LETTER WORDS</td>\n",
              "      <td>$400</td>\n",
              "      <td>Cows regurgitate this from the first stomach t...</td>\n",
              "      <td>the cud</td>\n",
              "    </tr>\n",
              "    <tr>\n",
              "      <th>12</th>\n",
              "      <td>4680</td>\n",
              "      <td>2004-12-31</td>\n",
              "      <td>Jeopardy!</td>\n",
              "      <td>HISTORY</td>\n",
              "      <td>$600</td>\n",
              "      <td>In 1000 Rajaraja I of the Cholas battled to ta...</td>\n",
              "      <td>Ceylon (or Sri Lanka)</td>\n",
              "    </tr>\n",
              "    <tr>\n",
              "      <th>13</th>\n",
              "      <td>4680</td>\n",
              "      <td>2004-12-31</td>\n",
              "      <td>Jeopardy!</td>\n",
              "      <td>ESPN's TOP 10 ALL-TIME ATHLETES</td>\n",
              "      <td>$600</td>\n",
              "      <td>No. 1: Lettered in hoops, football &amp; lacrosse ...</td>\n",
              "      <td>Jim Brown</td>\n",
              "    </tr>\n",
              "    <tr>\n",
              "      <th>14</th>\n",
              "      <td>4680</td>\n",
              "      <td>2004-12-31</td>\n",
              "      <td>Jeopardy!</td>\n",
              "      <td>EVERYBODY TALKS ABOUT IT...</td>\n",
              "      <td>$600</td>\n",
              "      <td>On June 28, 1994 the nat'l weather service beg...</td>\n",
              "      <td>the UV index</td>\n",
              "    </tr>\n",
              "    <tr>\n",
              "      <th>15</th>\n",
              "      <td>4680</td>\n",
              "      <td>2004-12-31</td>\n",
              "      <td>Jeopardy!</td>\n",
              "      <td>THE COMPANY LINE</td>\n",
              "      <td>$600</td>\n",
              "      <td>This company's Accutron watch, introduced in 1...</td>\n",
              "      <td>Bulova</td>\n",
              "    </tr>\n",
              "    <tr>\n",
              "      <th>16</th>\n",
              "      <td>4680</td>\n",
              "      <td>2004-12-31</td>\n",
              "      <td>Jeopardy!</td>\n",
              "      <td>EPITAPHS &amp; TRIBUTES</td>\n",
              "      <td>$600</td>\n",
              "      <td>Outlaw: \"Murdered by a traitor and a coward wh...</td>\n",
              "      <td>Jesse James</td>\n",
              "    </tr>\n",
              "    <tr>\n",
              "      <th>17</th>\n",
              "      <td>4680</td>\n",
              "      <td>2004-12-31</td>\n",
              "      <td>Jeopardy!</td>\n",
              "      <td>3-LETTER WORDS</td>\n",
              "      <td>$600</td>\n",
              "      <td>A small demon, or a mischievous child (who mig...</td>\n",
              "      <td>imp</td>\n",
              "    </tr>\n",
              "    <tr>\n",
              "      <th>18</th>\n",
              "      <td>4680</td>\n",
              "      <td>2004-12-31</td>\n",
              "      <td>Jeopardy!</td>\n",
              "      <td>HISTORY</td>\n",
              "      <td>$800</td>\n",
              "      <td>Karl led the first of these Marxist organizati...</td>\n",
              "      <td>the International</td>\n",
              "    </tr>\n",
              "    <tr>\n",
              "      <th>19</th>\n",
              "      <td>4680</td>\n",
              "      <td>2004-12-31</td>\n",
              "      <td>Jeopardy!</td>\n",
              "      <td>ESPN's TOP 10 ALL-TIME ATHLETES</td>\n",
              "      <td>$800</td>\n",
              "      <td>No. 10: FB/LB for Columbia U. in the 1920s; MV...</td>\n",
              "      <td>(Lou) Gehrig</td>\n",
              "    </tr>\n",
              "    <tr>\n",
              "      <th>20</th>\n",
              "      <td>4680</td>\n",
              "      <td>2004-12-31</td>\n",
              "      <td>Jeopardy!</td>\n",
              "      <td>EVERYBODY TALKS ABOUT IT...</td>\n",
              "      <td>$800</td>\n",
              "      <td>Africa's lowest temperature was 11 degrees bel...</td>\n",
              "      <td>Morocco</td>\n",
              "    </tr>\n",
              "    <tr>\n",
              "      <th>21</th>\n",
              "      <td>4680</td>\n",
              "      <td>2004-12-31</td>\n",
              "      <td>Jeopardy!</td>\n",
              "      <td>THE COMPANY LINE</td>\n",
              "      <td>$800</td>\n",
              "      <td>Edward Teller &amp; this man partnered in 1898 to ...</td>\n",
              "      <td>(Paul) Bonwit</td>\n",
              "    </tr>\n",
              "    <tr>\n",
              "      <th>22</th>\n",
              "      <td>4680</td>\n",
              "      <td>2004-12-31</td>\n",
              "      <td>Jeopardy!</td>\n",
              "      <td>EPITAPHS &amp; TRIBUTES</td>\n",
              "      <td>$2,000</td>\n",
              "      <td>1939 Oscar winner: \"...you are a credit to you...</td>\n",
              "      <td>Hattie McDaniel (for her role in Gone with the...</td>\n",
              "    </tr>\n",
              "    <tr>\n",
              "      <th>23</th>\n",
              "      <td>4680</td>\n",
              "      <td>2004-12-31</td>\n",
              "      <td>Jeopardy!</td>\n",
              "      <td>3-LETTER WORDS</td>\n",
              "      <td>$800</td>\n",
              "      <td>In geologic time one of these, shorter than an...</td>\n",
              "      <td>era</td>\n",
              "    </tr>\n",
              "    <tr>\n",
              "      <th>24</th>\n",
              "      <td>4680</td>\n",
              "      <td>2004-12-31</td>\n",
              "      <td>Jeopardy!</td>\n",
              "      <td>HISTORY</td>\n",
              "      <td>$1000</td>\n",
              "      <td>This Asian political party was founded in 1885...</td>\n",
              "      <td>the Congress Party</td>\n",
              "    </tr>\n",
              "    <tr>\n",
              "      <th>25</th>\n",
              "      <td>4680</td>\n",
              "      <td>2004-12-31</td>\n",
              "      <td>Jeopardy!</td>\n",
              "      <td>ESPN's TOP 10 ALL-TIME ATHLETES</td>\n",
              "      <td>$1000</td>\n",
              "      <td>No. 5: Only center to lead the NBA in assists;...</td>\n",
              "      <td>(Wilt) Chamberlain</td>\n",
              "    </tr>\n",
              "    <tr>\n",
              "      <th>26</th>\n",
              "      <td>4680</td>\n",
              "      <td>2004-12-31</td>\n",
              "      <td>Jeopardy!</td>\n",
              "      <td>THE COMPANY LINE</td>\n",
              "      <td>$1000</td>\n",
              "      <td>The Kirschner brothers, Don &amp; Bill, named this...</td>\n",
              "      <td>K2</td>\n",
              "    </tr>\n",
              "    <tr>\n",
              "      <th>27</th>\n",
              "      <td>4680</td>\n",
              "      <td>2004-12-31</td>\n",
              "      <td>Jeopardy!</td>\n",
              "      <td>EPITAPHS &amp; TRIBUTES</td>\n",
              "      <td>$1000</td>\n",
              "      <td>Revolutionary War hero: \"His spirit is in Verm...</td>\n",
              "      <td>Ethan Allen</td>\n",
              "    </tr>\n",
              "    <tr>\n",
              "      <th>28</th>\n",
              "      <td>4680</td>\n",
              "      <td>2004-12-31</td>\n",
              "      <td>Jeopardy!</td>\n",
              "      <td>3-LETTER WORDS</td>\n",
              "      <td>$1000</td>\n",
              "      <td>A single layer of paper, or to perform one's c...</td>\n",
              "      <td>ply</td>\n",
              "    </tr>\n",
              "    <tr>\n",
              "      <th>29</th>\n",
              "      <td>4680</td>\n",
              "      <td>2004-12-31</td>\n",
              "      <td>Double Jeopardy!</td>\n",
              "      <td>DR. SEUSS AT THE MULTIPLEX</td>\n",
              "      <td>$400</td>\n",
              "      <td>&lt;a href=\"http://www.j-archive.com/media/2004-1...</td>\n",
              "      <td>Horton</td>\n",
              "    </tr>\n",
              "  </tbody>\n",
              "</table>\n",
              "</div>"
            ],
            "text/plain": [
              "    Show Number  ...                                             Answer\n",
              "0          4680  ...                                         Copernicus\n",
              "1          4680  ...                                         Jim Thorpe\n",
              "2          4680  ...                                            Arizona\n",
              "3          4680  ...                                         McDonald's\n",
              "4          4680  ...                                         John Adams\n",
              "5          4680  ...                                            the ant\n",
              "6          4680  ...                                     the Appian Way\n",
              "7          4680  ...                                     Michael Jordan\n",
              "8          4680  ...                                         Washington\n",
              "9          4680  ...                                     Crate & Barrel\n",
              "10         4680  ...                                     Jackie Gleason\n",
              "11         4680  ...                                            the cud\n",
              "12         4680  ...                              Ceylon (or Sri Lanka)\n",
              "13         4680  ...                                          Jim Brown\n",
              "14         4680  ...                                       the UV index\n",
              "15         4680  ...                                             Bulova\n",
              "16         4680  ...                                        Jesse James\n",
              "17         4680  ...                                                imp\n",
              "18         4680  ...                                  the International\n",
              "19         4680  ...                                       (Lou) Gehrig\n",
              "20         4680  ...                                            Morocco\n",
              "21         4680  ...                                      (Paul) Bonwit\n",
              "22         4680  ...  Hattie McDaniel (for her role in Gone with the...\n",
              "23         4680  ...                                                era\n",
              "24         4680  ...                                 the Congress Party\n",
              "25         4680  ...                                 (Wilt) Chamberlain\n",
              "26         4680  ...                                                 K2\n",
              "27         4680  ...                                        Ethan Allen\n",
              "28         4680  ...                                                ply\n",
              "29         4680  ...                                             Horton\n",
              "\n",
              "[30 rows x 7 columns]"
            ]
          },
          "metadata": {
            "tags": []
          },
          "execution_count": 311
        }
      ]
    },
    {
      "cell_type": "code",
      "metadata": {
        "id": "5GvmEzlQebqK",
        "outputId": "b0ffeda8-55f9-4b28-841f-eede7626190d",
        "colab": {
          "base_uri": "https://localhost:8080/"
        }
      },
      "source": [
        "jeopardy.columns"
      ],
      "execution_count": 312,
      "outputs": [
        {
          "output_type": "execute_result",
          "data": {
            "text/plain": [
              "Index(['Show Number', ' Air Date', ' Round', ' Category', ' Value',\n",
              "       ' Question', ' Answer'],\n",
              "      dtype='object')"
            ]
          },
          "metadata": {
            "tags": []
          },
          "execution_count": 312
        }
      ]
    },
    {
      "cell_type": "code",
      "metadata": {
        "id": "XVudZ5FHefK4"
      },
      "source": [
        "jeopardy.columns = ['Show Number', 'Air Date', 'Round', 'Category', 'Value', 'Question', 'Answer']"
      ],
      "execution_count": 313,
      "outputs": []
    },
    {
      "cell_type": "code",
      "metadata": {
        "id": "s-ylZYhSeqHs"
      },
      "source": [
        "import re\n",
        "\n",
        "def normalize_text(text):\n",
        "    text = text.lower()\n",
        "    text = re.sub(\"[^A-Za-z0-9\\s]\", \"\", text)\n",
        "    text = re.sub(\"\\s+\", \" \", text)\n",
        "    return text\n",
        "\n",
        "def normalize_values(text):\n",
        "    text = re.sub(\"[^A-Za-z0-9\\s]\", \"\", text)\n",
        "    try:\n",
        "        text = int(text)\n",
        "    except Exception:\n",
        "        text = 0\n",
        "    return text"
      ],
      "execution_count": 314,
      "outputs": []
    },
    {
      "cell_type": "code",
      "metadata": {
        "id": "Jre3NqZdqEEo"
      },
      "source": [
        "jeopardy['Answer'] = jeopardy['Answer'].astype(str)"
      ],
      "execution_count": 315,
      "outputs": []
    },
    {
      "cell_type": "code",
      "metadata": {
        "id": "1ySE7MSUeuje"
      },
      "source": [
        "jeopardy[\"clean_question\"] = jeopardy[\"Question\"].apply(normalize_text)\n",
        "jeopardy[\"clean_value\"] = jeopardy[\"Value\"].apply(normalize_values)\n",
        "jeopardy[\"clean_answer\"] = jeopardy[\"Answer\"].apply(normalize_text)"
      ],
      "execution_count": 316,
      "outputs": []
    },
    {
      "cell_type": "code",
      "metadata": {
        "id": "4XLHkMHIpNUc",
        "outputId": "53a3d25a-4329-4c6a-882e-a06cc7162c9f",
        "colab": {
          "base_uri": "https://localhost:8080/",
          "height": 431
        }
      },
      "source": [
        "jeopardy.head(5)"
      ],
      "execution_count": 317,
      "outputs": [
        {
          "output_type": "execute_result",
          "data": {
            "text/html": [
              "<div>\n",
              "<style scoped>\n",
              "    .dataframe tbody tr th:only-of-type {\n",
              "        vertical-align: middle;\n",
              "    }\n",
              "\n",
              "    .dataframe tbody tr th {\n",
              "        vertical-align: top;\n",
              "    }\n",
              "\n",
              "    .dataframe thead th {\n",
              "        text-align: right;\n",
              "    }\n",
              "</style>\n",
              "<table border=\"1\" class=\"dataframe\">\n",
              "  <thead>\n",
              "    <tr style=\"text-align: right;\">\n",
              "      <th></th>\n",
              "      <th>Show Number</th>\n",
              "      <th>Air Date</th>\n",
              "      <th>Round</th>\n",
              "      <th>Category</th>\n",
              "      <th>Value</th>\n",
              "      <th>Question</th>\n",
              "      <th>Answer</th>\n",
              "      <th>clean_question</th>\n",
              "      <th>clean_value</th>\n",
              "      <th>clean_answer</th>\n",
              "    </tr>\n",
              "  </thead>\n",
              "  <tbody>\n",
              "    <tr>\n",
              "      <th>0</th>\n",
              "      <td>4680</td>\n",
              "      <td>2004-12-31</td>\n",
              "      <td>Jeopardy!</td>\n",
              "      <td>HISTORY</td>\n",
              "      <td>$200</td>\n",
              "      <td>For the last 8 years of his life, Galileo was ...</td>\n",
              "      <td>Copernicus</td>\n",
              "      <td>for the last 8 years of his life galileo was u...</td>\n",
              "      <td>200</td>\n",
              "      <td>copernicus</td>\n",
              "    </tr>\n",
              "    <tr>\n",
              "      <th>1</th>\n",
              "      <td>4680</td>\n",
              "      <td>2004-12-31</td>\n",
              "      <td>Jeopardy!</td>\n",
              "      <td>ESPN's TOP 10 ALL-TIME ATHLETES</td>\n",
              "      <td>$200</td>\n",
              "      <td>No. 2: 1912 Olympian; football star at Carlisl...</td>\n",
              "      <td>Jim Thorpe</td>\n",
              "      <td>no 2 1912 olympian football star at carlisle i...</td>\n",
              "      <td>200</td>\n",
              "      <td>jim thorpe</td>\n",
              "    </tr>\n",
              "    <tr>\n",
              "      <th>2</th>\n",
              "      <td>4680</td>\n",
              "      <td>2004-12-31</td>\n",
              "      <td>Jeopardy!</td>\n",
              "      <td>EVERYBODY TALKS ABOUT IT...</td>\n",
              "      <td>$200</td>\n",
              "      <td>The city of Yuma in this state has a record av...</td>\n",
              "      <td>Arizona</td>\n",
              "      <td>the city of yuma in this state has a record av...</td>\n",
              "      <td>200</td>\n",
              "      <td>arizona</td>\n",
              "    </tr>\n",
              "    <tr>\n",
              "      <th>3</th>\n",
              "      <td>4680</td>\n",
              "      <td>2004-12-31</td>\n",
              "      <td>Jeopardy!</td>\n",
              "      <td>THE COMPANY LINE</td>\n",
              "      <td>$200</td>\n",
              "      <td>In 1963, live on \"The Art Linkletter Show\", th...</td>\n",
              "      <td>McDonald's</td>\n",
              "      <td>in 1963 live on the art linkletter show this c...</td>\n",
              "      <td>200</td>\n",
              "      <td>mcdonalds</td>\n",
              "    </tr>\n",
              "    <tr>\n",
              "      <th>4</th>\n",
              "      <td>4680</td>\n",
              "      <td>2004-12-31</td>\n",
              "      <td>Jeopardy!</td>\n",
              "      <td>EPITAPHS &amp; TRIBUTES</td>\n",
              "      <td>$200</td>\n",
              "      <td>Signer of the Dec. of Indep., framer of the Co...</td>\n",
              "      <td>John Adams</td>\n",
              "      <td>signer of the dec of indep framer of the const...</td>\n",
              "      <td>200</td>\n",
              "      <td>john adams</td>\n",
              "    </tr>\n",
              "  </tbody>\n",
              "</table>\n",
              "</div>"
            ],
            "text/plain": [
              "   Show Number    Air Date  ... clean_value clean_answer\n",
              "0         4680  2004-12-31  ...         200   copernicus\n",
              "1         4680  2004-12-31  ...         200   jim thorpe\n",
              "2         4680  2004-12-31  ...         200      arizona\n",
              "3         4680  2004-12-31  ...         200    mcdonalds\n",
              "4         4680  2004-12-31  ...         200   john adams\n",
              "\n",
              "[5 rows x 10 columns]"
            ]
          },
          "metadata": {
            "tags": []
          },
          "execution_count": 317
        }
      ]
    },
    {
      "cell_type": "code",
      "metadata": {
        "id": "w1s4_IhWfl0d"
      },
      "source": [
        "jeopardy[\"Air Date\"] = pd.to_datetime(jeopardy[\"Air Date\"])"
      ],
      "execution_count": 318,
      "outputs": []
    },
    {
      "cell_type": "code",
      "metadata": {
        "id": "4CR4dFhUfsxT",
        "outputId": "55614fff-4124-4075-d4de-6780d4ada310",
        "colab": {
          "base_uri": "https://localhost:8080/"
        }
      },
      "source": [
        "jeopardy.dtypes"
      ],
      "execution_count": 319,
      "outputs": [
        {
          "output_type": "execute_result",
          "data": {
            "text/plain": [
              "Show Number                int64\n",
              "Air Date          datetime64[ns]\n",
              "Round                     object\n",
              "Category                  object\n",
              "Value                     object\n",
              "Question                  object\n",
              "Answer                    object\n",
              "clean_question            object\n",
              "clean_value                int64\n",
              "clean_answer              object\n",
              "dtype: object"
            ]
          },
          "metadata": {
            "tags": []
          },
          "execution_count": 319
        }
      ]
    },
    {
      "cell_type": "code",
      "metadata": {
        "id": "cvPN9t6ifvvH"
      },
      "source": [
        "def count_matches(row):\n",
        "    split_answer = row[\"Answer\"].split()\n",
        "    split_question = row[\"clean_question\"].split()\n",
        "    if \"the\" in split_answer:\n",
        "        split_answer.remove(\"the\")\n",
        "    if len(split_answer) == 0:\n",
        "        return 0\n",
        "    match_count = 0\n",
        "    for item in split_answer:\n",
        "        if item in split_question:\n",
        "            match_count += 1\n",
        "    return match_count / len(split_answer)"
      ],
      "execution_count": 320,
      "outputs": []
    },
    {
      "cell_type": "code",
      "metadata": {
        "id": "ui2FRXuOf1Z2"
      },
      "source": [
        "jeopardy[\"answer_in_question\"] = jeopardy.apply(count_matches, axis=1)"
      ],
      "execution_count": 321,
      "outputs": []
    },
    {
      "cell_type": "code",
      "metadata": {
        "id": "ZmfcbVltkI9x",
        "outputId": "88e046e7-8b95-4615-86ab-f4e49a17c279",
        "colab": {
          "base_uri": "https://localhost:8080/"
        }
      },
      "source": [
        "j_mean= jeopardy[\"answer_in_question\"].mean()\n",
        "print(round(j_mean ,4))"
      ],
      "execution_count": 322,
      "outputs": [
        {
          "output_type": "stream",
          "text": [
            "0.029\n"
          ],
          "name": "stdout"
        }
      ]
    },
    {
      "cell_type": "code",
      "metadata": {
        "id": "olgLyrMXk3q1",
        "outputId": "675cd783-1082-41f2-b1cb-52e67e5ee046",
        "colab": {
          "base_uri": "https://localhost:8080/"
        }
      },
      "source": [
        "question_overlap = []\n",
        "terms_used = set()\n",
        "\n",
        "jeopardy = jeopardy.sort_values(\"Air Date\")\n",
        "\n",
        "for i, row in jeopardy.iterrows():\n",
        "        split_question = row[\"clean_question\"].split(\" \")\n",
        "        split_question = [q for q in split_question if len(q) > 5]\n",
        "        match_count = 0\n",
        "        for word in split_question:\n",
        "            if word in terms_used:\n",
        "                match_count += 1\n",
        "        for word in split_question:\n",
        "            terms_used.add(word)\n",
        "        if len(split_question) > 0:\n",
        "            match_count /= len(split_question)\n",
        "        question_overlap.append(match_count)\n",
        "jeopardy[\"question_overlap\"] = question_overlap\n",
        "\n",
        "j_mean_2=jeopardy[\"question_overlap\"].mean()\n",
        "print(round(j_mean_2 ,4))"
      ],
      "execution_count": 323,
      "outputs": [
        {
          "output_type": "stream",
          "text": [
            "0.8722\n"
          ],
          "name": "stdout"
        }
      ]
    },
    {
      "cell_type": "code",
      "metadata": {
        "id": "g9AwQglRmzY6"
      },
      "source": [
        "def determine_value(row):\n",
        "    value = 0\n",
        "    if row[\"clean_value\"] > 800:\n",
        "        value = 1\n",
        "    return value\n",
        "\n",
        "jeopardy[\"high_value\"] = jeopardy.apply(determine_value, axis=1)"
      ],
      "execution_count": 324,
      "outputs": []
    },
    {
      "cell_type": "code",
      "metadata": {
        "id": "9Y8EYpE7m4AN"
      },
      "source": [
        "def count_usage(term):\n",
        "    low_count = 0\n",
        "    high_count = 0\n",
        "    for i, row in jeopardy.iterrows():\n",
        "        if term in row[\"clean_question\"].split(\" \"):\n",
        "            if row[\"high_value\"] == 1:\n",
        "                high_count += 1\n",
        "            else:\n",
        "                low_count += 1\n",
        "    return high_count, low_count"
      ],
      "execution_count": 325,
      "outputs": []
    },
    {
      "cell_type": "code",
      "metadata": {
        "id": "oxvC4svUtodB",
        "outputId": "7a1b8327-f043-4fca-8c7d-6ec0be30960b",
        "colab": {
          "base_uri": "https://localhost:8080/"
        }
      },
      "source": [
        "from random import choice\n",
        "\n",
        "terms_used_list = list(terms_used)\n",
        "comparison_terms = [choice(terms_used_list) for _ in range(10)]\n",
        "\n",
        "observed_expected = []\n",
        "\n",
        "for term in comparison_terms:\n",
        "    observed_expected.append(count_usage(term))\n",
        "\n",
        "observed_expected"
      ],
      "execution_count": 326,
      "outputs": [
        {
          "output_type": "execute_result",
          "data": {
            "text/plain": [
              "[(1, 3),\n",
              " (3, 6),\n",
              " (0, 1),\n",
              " (9, 17),\n",
              " (0, 1),\n",
              " (1, 0),\n",
              " (0, 1),\n",
              " (0, 1),\n",
              " (0, 1),\n",
              " (4, 10)]"
            ]
          },
          "metadata": {
            "tags": []
          },
          "execution_count": 326
        }
      ]
    },
    {
      "cell_type": "code",
      "metadata": {
        "id": "TEl_Y02ytvWa",
        "outputId": "cbb6a3dc-cdc2-4bbc-b1f1-7692426c30d3",
        "colab": {
          "base_uri": "https://localhost:8080/"
        }
      },
      "source": [
        "from scipy.stats import chisquare\n",
        "import numpy as np\n",
        "\n",
        "high_value_count = jeopardy[jeopardy[\"high_value\"] == 1].shape[0]\n",
        "low_value_count = jeopardy[jeopardy[\"high_value\"] == 0].shape[0]\n",
        "\n",
        "chi_squared = []\n",
        "for obs in observed_expected:\n",
        "    total = sum(obs)\n",
        "    total_prop = total / jeopardy.shape[0]\n",
        "    high_value_exp = total_prop * high_value_count\n",
        "    low_value_exp = total_prop * low_value_count\n",
        "    \n",
        "    observed = np.array([obs[0], obs[1]])\n",
        "    expected = np.array([high_value_exp, low_value_exp])\n",
        "    chi_squared.append(chisquare(observed, expected))\n",
        "\n",
        "chi_squared"
      ],
      "execution_count": 327,
      "outputs": [
        {
          "output_type": "execute_result",
          "data": {
            "text/plain": [
              "[Power_divergenceResult(statistic=0.021646150708492677, pvalue=0.8830323245068887),\n",
              " Power_divergenceResult(statistic=0.1117022816672141, pvalue=0.7382143734273121),\n",
              " Power_divergenceResult(statistic=0.3949764642333513, pvalue=0.5296950912486695),\n",
              " Power_divergenceResult(statistic=0.5086041756491173, pvalue=0.47574372283130983),\n",
              " Power_divergenceResult(statistic=0.3949764642333513, pvalue=0.5296950912486695),\n",
              " Power_divergenceResult(statistic=2.5317964247338085, pvalue=0.11157312838169751),\n",
              " Power_divergenceResult(statistic=0.3949764642333513, pvalue=0.5296950912486695),\n",
              " Power_divergenceResult(statistic=0.3949764642333513, pvalue=0.5296950912486695),\n",
              " Power_divergenceResult(statistic=0.3949764642333513, pvalue=0.5296950912486695),\n",
              " Power_divergenceResult(statistic=0.00045637279114811905, pvalue=0.9829561814854998)]"
            ]
          },
          "metadata": {
            "tags": []
          },
          "execution_count": 327
        }
      ]
    },
    {
      "cell_type": "markdown",
      "metadata": {
        "id": "gIrsfOfdvZfJ"
      },
      "source": [
        "#Research: Efficient Studying"
      ]
    },
    {
      "cell_type": "markdown",
      "metadata": {
        "id": "hL8JHoGQhJ8L"
      },
      "source": [
        "##Introduction\n",
        "\n",
        "  Jeopardy! as a game show requires months, if not years, of preparation to prepare for. Because of this huge preparation requirement, it makes since to try and optimize our studying by focusing on topics or subjects that are more likely appear. We will be looking at the data from game 4680 to 4999 to determine if there are answers that frequently appear. Jeopardy! is also known for their fun and unique categories, but we will also analyze the categories to see if there is a trend of repeated general categories."
      ]
    },
    {
      "cell_type": "code",
      "metadata": {
        "id": "7wlMuXrglfO8",
        "outputId": "0d295887-85e2-4d4b-f400-32c8710ccb68",
        "colab": {
          "base_uri": "https://localhost:8080/"
        }
      },
      "source": [
        "counts=jeopardy[\"clean_answer\"].value_counts()\n",
        "counts"
      ],
      "execution_count": 328,
      "outputs": [
        {
          "output_type": "execute_result",
          "data": {
            "text/plain": [
              "china                               216\n",
              "australia                           215\n",
              "chicago                             196\n",
              "japan                               196\n",
              "france                              193\n",
              "                                   ... \n",
              "vatican city or san marino            1\n",
              "a mighty wind                         1\n",
              "circus maximus                        1\n",
              "telephone book                        1\n",
              "killing two birds with one stone      1\n",
              "Name: clean_answer, Length: 75014, dtype: int64"
            ]
          },
          "metadata": {
            "tags": []
          },
          "execution_count": 328
        }
      ]
    },
    {
      "cell_type": "code",
      "metadata": {
        "id": "IAiL9IgTjC5k"
      },
      "source": [
        "repeat_answers = jeopardy.loc[jeopardy['clean_answer'].isin(counts.index[counts > 2])]"
      ],
      "execution_count": 329,
      "outputs": []
    },
    {
      "cell_type": "code",
      "metadata": {
        "id": "ltf1-bIfrg7D"
      },
      "source": [
        "repeat_answers2= jeopardy.loc[jeopardy['clean_answer'].isin(counts.index[counts > 5])]"
      ],
      "execution_count": 330,
      "outputs": []
    },
    {
      "cell_type": "code",
      "metadata": {
        "id": "DF5xrli4sApv"
      },
      "source": [
        "repeat_answers3= jeopardy.loc[jeopardy['clean_answer'].isin(counts.index[counts > 10])]"
      ],
      "execution_count": 331,
      "outputs": []
    },
    {
      "cell_type": "code",
      "metadata": {
        "id": "ZnuJlbYdsVf6"
      },
      "source": [
        "repeat_answers4 = jeopardy.loc[jeopardy['clean_answer'].isin(counts.index[counts > 161])]"
      ],
      "execution_count": 332,
      "outputs": []
    },
    {
      "cell_type": "code",
      "metadata": {
        "id": "dQK0Bzhglqxa",
        "outputId": "bf841139-4ab0-42a4-9ed3-3cb3d12df3b5",
        "colab": {
          "base_uri": "https://localhost:8080/"
        }
      },
      "source": [
        "round(len(repeat_answers)/len(jeopardy) ,4)*100"
      ],
      "execution_count": 333,
      "outputs": [
        {
          "output_type": "execute_result",
          "data": {
            "text/plain": [
              "68.67"
            ]
          },
          "metadata": {
            "tags": []
          },
          "execution_count": 333
        }
      ]
    },
    {
      "cell_type": "code",
      "metadata": {
        "id": "XWIIaNeKro2q",
        "outputId": "353bcc18-f3ba-4bd7-9669-43d83cbc34eb",
        "colab": {
          "base_uri": "https://localhost:8080/"
        }
      },
      "source": [
        "round(len(repeat_answers2)/len(jeopardy) ,5)*100"
      ],
      "execution_count": 334,
      "outputs": [
        {
          "output_type": "execute_result",
          "data": {
            "text/plain": [
              "50.856"
            ]
          },
          "metadata": {
            "tags": []
          },
          "execution_count": 334
        }
      ]
    },
    {
      "cell_type": "code",
      "metadata": {
        "id": "oKp-5TJpr2xE",
        "outputId": "fdefece1-cf21-4091-b52f-46eac9a4c4e1",
        "colab": {
          "base_uri": "https://localhost:8080/"
        }
      },
      "source": [
        "round(len(repeat_answers3)/len(jeopardy) ,4)*100"
      ],
      "execution_count": 335,
      "outputs": [
        {
          "output_type": "execute_result",
          "data": {
            "text/plain": [
              "35.82"
            ]
          },
          "metadata": {
            "tags": []
          },
          "execution_count": 335
        }
      ]
    },
    {
      "cell_type": "code",
      "metadata": {
        "id": "1l0sYaXrscZU",
        "outputId": "06194a21-f7fc-4efb-8b28-9dfcc79b3d2b",
        "colab": {
          "base_uri": "https://localhost:8080/"
        }
      },
      "source": [
        "repeat_answers4[\"clean_answer\"].value_counts()"
      ],
      "execution_count": 336,
      "outputs": [
        {
          "output_type": "execute_result",
          "data": {
            "text/plain": [
              "china         216\n",
              "australia     215\n",
              "chicago       196\n",
              "japan         196\n",
              "france        193\n",
              "india         185\n",
              "california    180\n",
              "canada        176\n",
              "spain         171\n",
              "mexico        164\n",
              "Name: clean_answer, dtype: int64"
            ]
          },
          "metadata": {
            "tags": []
          },
          "execution_count": 336
        }
      ]
    },
    {
      "cell_type": "code",
      "metadata": {
        "id": "LsjczBQutUk8",
        "outputId": "f90644f8-0338-4a47-b016-ce94614015b5",
        "colab": {
          "base_uri": "https://localhost:8080/",
          "height": 790
        }
      },
      "source": [
        "%matplotlib inline\n",
        "import matplotlib.pyplot as plt\n",
        "import seaborn as sns\n",
        "sns.set_theme(style=\"darkgrid\")\n",
        "sns.set(rc={'figure.figsize':(15,13)})\n",
        "top_answers=sns.countplot(y=\"clean_answer\", data= repeat_answers4, palette=\"Set2\", order = repeat_answers4[\"clean_answer\"].value_counts().index)\n",
        "top_answers.set_title('Most Common Jeopardy Answers')\n",
        "top_answers.set_ylabel('Answer')\n",
        "top_answers.set_facecolor('white')"
      ],
      "execution_count": 337,
      "outputs": [
        {
          "output_type": "display_data",
          "data": {
            "image/png": "[encoded data removed]",
            "text/plain": [
              "<Figure size 1080x936 with 1 Axes>"
            ]
          },
          "metadata": {
            "tags": []
          }
        }
      ]
    },
    {
      "cell_type": "code",
      "metadata": {
        "id": "W2wnHnyfzYuD",
        "outputId": "9ded84c4-3cd7-47bc-cbde-5990c11340cd",
        "colab": {
          "base_uri": "https://localhost:8080/"
        }
      },
      "source": [
        "counts=jeopardy[\"Category\"].value_counts()\n",
        "counts"
      ],
      "execution_count": 338,
      "outputs": [
        {
          "output_type": "execute_result",
          "data": {
            "text/plain": [
              "BEFORE & AFTER                  547\n",
              "SCIENCE                         519\n",
              "LITERATURE                      496\n",
              "AMERICAN HISTORY                418\n",
              "POTPOURRI                       401\n",
              "                               ... \n",
              "20th CENTURY ENTERTAINMENT        1\n",
              "WORDS IN 20th CENTURY NOVELS      1\n",
              "HISTORIC AREAS                    1\n",
              "RETAIL                            1\n",
              "MEDICAL CONDITIONS                1\n",
              "Name: Category, Length: 27995, dtype: int64"
            ]
          },
          "metadata": {
            "tags": []
          },
          "execution_count": 338
        }
      ]
    },
    {
      "cell_type": "code",
      "metadata": {
        "id": "5XXcbUqVzY-t"
      },
      "source": [
        "repeat_categories = jeopardy.loc[jeopardy['Category'].isin(counts.index[counts > 5])]"
      ],
      "execution_count": 339,
      "outputs": []
    },
    {
      "cell_type": "code",
      "metadata": {
        "id": "I_S2mEBLzZMQ",
        "outputId": "61ede138-e8c0-495d-9fc4-d69a1721d941",
        "colab": {
          "base_uri": "https://localhost:8080/"
        }
      },
      "source": [
        "round(len(repeat_categories)/len(jeopardy) ,6)*100"
      ],
      "execution_count": 340,
      "outputs": [
        {
          "output_type": "execute_result",
          "data": {
            "text/plain": [
              "49.7027"
            ]
          },
          "metadata": {
            "tags": []
          },
          "execution_count": 340
        }
      ]
    },
    {
      "cell_type": "code",
      "metadata": {
        "id": "bI_gXVbb0gSh"
      },
      "source": [
        "repeat_categories2 = jeopardy.loc[jeopardy['Category'].isin(counts_cat.index[counts > 10])]"
      ],
      "execution_count": 341,
      "outputs": []
    },
    {
      "cell_type": "code",
      "metadata": {
        "id": "M_p_TFNx1aLN",
        "outputId": "c84af271-784d-4353-bf41-310c431a776f",
        "colab": {
          "base_uri": "https://localhost:8080/"
        }
      },
      "source": [
        "round(len(repeat_categories2)/len(jeopardy) ,6)*100"
      ],
      "execution_count": 342,
      "outputs": [
        {
          "output_type": "execute_result",
          "data": {
            "text/plain": [
              "38.2598"
            ]
          },
          "metadata": {
            "tags": []
          },
          "execution_count": 342
        }
      ]
    },
    {
      "cell_type": "code",
      "metadata": {
        "id": "0aW-O_sG1fC9"
      },
      "source": [
        "repeat_categories3 = jeopardy.loc[jeopardy['Category'].isin(counts_cat.index[counts > 340])]"
      ],
      "execution_count": 343,
      "outputs": []
    },
    {
      "cell_type": "code",
      "metadata": {
        "id": "Ac2egc7m0lz_",
        "outputId": "ab4ea7a3-0f70-4e03-ef46-aa1f312a890b",
        "colab": {
          "base_uri": "https://localhost:8080/"
        }
      },
      "source": [
        "repeat_categories3[\"Category\"].value_counts()"
      ],
      "execution_count": 344,
      "outputs": [
        {
          "output_type": "execute_result",
          "data": {
            "text/plain": [
              "BEFORE & AFTER             547\n",
              "SCIENCE                    519\n",
              "LITERATURE                 496\n",
              "AMERICAN HISTORY           418\n",
              "POTPOURRI                  401\n",
              "WORLD HISTORY              377\n",
              "WORD ORIGINS               371\n",
              "COLLEGES & UNIVERSITIES    351\n",
              "HISTORY                    349\n",
              "SPORTS                     342\n",
              "Name: Category, dtype: int64"
            ]
          },
          "metadata": {
            "tags": []
          },
          "execution_count": 344
        }
      ]
    },
    {
      "cell_type": "code",
      "metadata": {
        "id": "8wY6445C2Hj6",
        "outputId": "a3754f23-1707-4bb3-beed-2bbe08e3378d",
        "colab": {
          "base_uri": "https://localhost:8080/",
          "height": 744
        }
      },
      "source": [
        "sns.set_theme(style=\"darkgrid\")\n",
        "sns.set(rc={'figure.figsize':(15,13)})\n",
        "top_categories=sns.countplot(y=\"Category\", data= repeat_categories3,  order = repeat_categories3[\"Category\"].value_counts().index)\n",
        "top_categories.set_title('Most Common Jeopardy Categories')\n",
        "top_categories.set_ylabel('Category')"
      ],
      "execution_count": 345,
      "outputs": [
        {
          "output_type": "execute_result",
          "data": {
            "text/plain": [
              "Text(0, 0.5, 'Category')"
            ]
          },
          "metadata": {
            "tags": []
          },
          "execution_count": 345
        },
        {
          "output_type": "display_data",
          "data": {
            "image/png": "[encoded data removed]",
            "text/plain": [
              "<Figure size 1080x936 with 1 Axes>"
            ]
          },
          "metadata": {
            "tags": []
          }
        }
      ]
    },
    {
      "cell_type": "code",
      "metadata": {
        "id": "WbKZ9w_SG3HS",
        "outputId": "eded6045-d717-4a34-8595-3b387d1ffa38",
        "colab": {
          "base_uri": "https://localhost:8080/"
        }
      },
      "source": [
        "68/319"
      ],
      "execution_count": 346,
      "outputs": [
        {
          "output_type": "execute_result",
          "data": {
            "text/plain": [
              "0.21316614420062696"
            ]
          },
          "metadata": {
            "tags": []
          },
          "execution_count": 346
        }
      ]
    },
    {
      "cell_type": "markdown",
      "metadata": {
        "id": "bWinf8Y194fk"
      },
      "source": [
        "##Conclusion\n",
        "\n",
        "  The results of our analysis finds that 69% of the answers on Jeopardy! are repeated at least once and 51% are repeated 5 times. This means that if it would pay to look at the answers that are commonly given so that we can learn trivia aboout those topics. The top 10 jeopardy answers are all locations with China, Australia, Chicago, Japan, and France taking the top five positions. This indicates that most answers will be country or city based and that it would benefit a propective Jeopardy! contest should learn trivia about these places.\n",
        "\n",
        "  In addition to looking at the answers to assess which topics are best to study, we also analyed the categories to see which subjects would be best to study. Each Category in Jeopardy! is used up to five times per episode as there are five biding options. In general, Jeopardy! categories are used more than once 50% of the time, and more than twice times 38% of the time. The top 10 categories were all appeared more than 340 times, so at a they appeared at least 68 times in the 319 games we observed so the top ten categories appear in over a fifth of the games. This means that it would behoove a prospective Jeopardy! contestant to study the the commonly used subjects and especially stress the topics/answers we found to most often appear."
      ]
    }
  ]
}