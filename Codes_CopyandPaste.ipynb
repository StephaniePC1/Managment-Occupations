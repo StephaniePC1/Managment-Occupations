{
  "nbformat": 4,
  "nbformat_minor": 0,
  "metadata": {
    "colab": {
      "name": "Codes_CopyandPaste",
      "provenance": [],
      "include_colab_link": true
    },
    "kernelspec": {
      "name": "python3",
      "display_name": "Python 3"
    }
  },
  "cells": [
    {
      "cell_type": "markdown",
      "metadata": {
        "id": "view-in-github",
        "colab_type": "text"
      },
      "source": [
        "<a href=\"https://colab.research.google.com/github/StephaniePC1/ThisIsWhatIDoNow/blob/master/Codes_CopyandPaste.ipynb\" target=\"_parent\"><img src=\"https://colab.research.google.com/assets/colab-badge.svg\" alt=\"Open In Colab\"/></a>"
      ]
    },
    {
      "cell_type": "code",
      "metadata": {
        "id": "51Bab8dJi2J_",
        "colab_type": "code",
        "colab": {}
      },
      "source": [
        "import numpy as np\n",
        "import pandas as pd"
      ],
      "execution_count": 0,
      "outputs": []
    },
    {
      "cell_type": "code",
      "metadata": {
        "id": "cSVFuHSFi-Ig",
        "colab_type": "code",
        "colab": {}
      },
      "source": [
        "from google.colab import files\n",
        "uploaded = files.upload()"
      ],
      "execution_count": 0,
      "outputs": []
    },
    {
      "cell_type": "markdown",
      "metadata": {
        "id": "TCz_rW3SkE7v",
        "colab_type": "text"
      },
      "source": [
        "These are for descriptive Statistics"
      ]
    },
    {
      "cell_type": "code",
      "metadata": {
        "id": "QLD5ggtIi-Ha",
        "colab_type": "code",
        "colab": {}
      },
      "source": [
        "df.describe()"
      ],
      "execution_count": 0,
      "outputs": []
    },
    {
      "cell_type": "code",
      "metadata": {
        "id": "iJshGNjMi0Zc",
        "colab_type": "code",
        "colab": {}
      },
      "source": [
        "df['column A'].cov(df['column B'])"
      ],
      "execution_count": 0,
      "outputs": []
    },
    {
      "cell_type": "code",
      "metadata": {
        "id": "uRuB2Cg-inIA",
        "colab_type": "code",
        "colab": {}
      },
      "source": [
        "df['column A'].corr(df['column B'])\n"
      ],
      "execution_count": 0,
      "outputs": []
    },
    {
      "cell_type": "code",
      "metadata": {
        "id": "LATxBI8WjnbJ",
        "colab_type": "code",
        "colab": {}
      },
      "source": [
        "np.mean(email50[\"num_char\"])\n",
        "np.var(email50[\"num_char\"])\n",
        "np.std(email50[\"num_char\"])\n",
        "np.median(email50[\"num_char\"])"
      ],
      "execution_count": 0,
      "outputs": []
    },
    {
      "cell_type": "code",
      "metadata": {
        "id": "cmvEvsVWkhN4",
        "colab_type": "code",
        "colab": {}
      },
      "source": [
        "from scipy import statspd.crosstab(email[\"spam\"], columns=email[\"number\"], normalize='columns') \n",
        "stats.iqr(email50[\"num_char\"])"
      ],
      "execution_count": 0,
      "outputs": []
    },
    {
      "cell_type": "markdown",
      "metadata": {
        "id": "mnpBxtwlj66I",
        "colab_type": "text"
      },
      "source": [
        "These are plots and tables "
      ]
    },
    {
      "cell_type": "code",
      "metadata": {
        "id": "8LQxjAQolDek",
        "colab_type": "code",
        "colab": {}
      },
      "source": [
        "pd.crosstab(email[\"spam\"], columns=email[\"number\"], normalize='columns') \n",
        "pd.crosstab(email[\"spam\"], columns=email[\"number\"], margins=True) "
      ],
      "execution_count": 0,
      "outputs": []
    },
    {
      "cell_type": "code",
      "metadata": {
        "id": "U8k4Dgs6lbIo",
        "colab_type": "code",
        "colab": {}
      },
      "source": [
        "email[\"number\"].value_counts().plot(kind='pie')"
      ],
      "execution_count": 0,
      "outputs": []
    },
    {
      "cell_type": "code",
      "metadata": {
        "id": "x0SalhX3j4vO",
        "colab_type": "code",
        "colab": {}
      },
      "source": [
        "plt.boxplot(email50[\"num_char\"])"
      ],
      "execution_count": 0,
      "outputs": []
    },
    {
      "cell_type": "code",
      "metadata": {
        "id": "nxxsZlI8jT6G",
        "colab_type": "code",
        "colab": {}
      },
      "source": [
        "%matplotlib inline\n",
        "import matplotlib.pyplot as plt\n",
        "plt.scatter(df_name[\"ColumnA\"], df_name[\"ColumnB\"])\n",
        "plt.xlabel('# of Characters (in thousands)')\n",
        "plt.ylabel('# of Lines')"
      ],
      "execution_count": 0,
      "outputs": []
    },
    {
      "cell_type": "code",
      "metadata": {
        "id": "KV4lXOAzoma8",
        "colab_type": "code",
        "colab": {}
      },
      "source": [
        "df[\"Number of workers-Men\"].value_counts().plot(kind='pie')"
      ],
      "execution_count": 0,
      "outputs": []
    }
  ]
}