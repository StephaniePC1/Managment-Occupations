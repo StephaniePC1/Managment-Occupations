{
  "nbformat": 4,
  "nbformat_minor": 0,
  "metadata": {
    "kernelspec": {
      "display_name": "Python 3",
      "language": "python",
      "name": "python3"
    },
    "language_info": {
      "codemirror_mode": {
        "name": "ipython",
        "version": 3
      },
      "file_extension": ".py",
      "mimetype": "text/x-python",
      "name": "python",
      "nbconvert_exporter": "python",
      "pygments_lexer": "ipython3",
      "version": "3.4.3"
    },
    "colab": {
      "name": "GPIV",
      "provenance": [],
      "collapsed_sections": [],
      "toc_visible": true,
      "include_colab_link": true
    }
  },
  "cells": [
    {
      "cell_type": "markdown",
      "metadata": {
        "id": "view-in-github",
        "colab_type": "text"
      },
      "source": [
        "<a href=\"https://colab.research.google.com/github/StephaniePC1/ThisIsWhatIDoNow/blob/master/GPIV.ipynb\" target=\"_parent\"><img src=\"https://colab.research.google.com/assets/colab-badge.svg\" alt=\"Open In Colab\"/></a>"
      ]
    },
    {
      "cell_type": "markdown",
      "metadata": {
        "id": "VWLoNp2syPd6"
      },
      "source": [
        "##Introduction"
      ]
    },
    {
      "cell_type": "code",
      "metadata": {
        "id": "tbBro7qByJHT"
      },
      "source": [
        "import pandas as pd\n",
        "import numpy as np\n",
        "path = 'https://github.com/StephaniePC1/ThisIsWhatIDoNow/raw/master/dete-exit-survey-january-2014.csv'\n",
        "dete_survey = pd.read_csv(path)"
      ],
      "execution_count": 84,
      "outputs": []
    },
    {
      "cell_type": "code",
      "metadata": {
        "id": "eoJc5aN3yJHW",
        "outputId": "f3cd5d75-6a24-4760-85d2-ae7fae8d5464",
        "colab": {
          "base_uri": "https://localhost:8080/",
          "height": 471
        }
      },
      "source": [
        "pd.options.display.max_columns = 150\n",
        "dete_survey.head()"
      ],
      "execution_count": 85,
      "outputs": [
        {
          "output_type": "execute_result",
          "data": {
            "text/html": [
              "<div>\n",
              "<style scoped>\n",
              "    .dataframe tbody tr th:only-of-type {\n",
              "        vertical-align: middle;\n",
              "    }\n",
              "\n",
              "    .dataframe tbody tr th {\n",
              "        vertical-align: top;\n",
              "    }\n",
              "\n",
              "    .dataframe thead th {\n",
              "        text-align: right;\n",
              "    }\n",
              "</style>\n",
              "<table border=\"1\" class=\"dataframe\">\n",
              "  <thead>\n",
              "    <tr style=\"text-align: right;\">\n",
              "      <th></th>\n",
              "      <th>ID</th>\n",
              "      <th>SeparationType</th>\n",
              "      <th>Cease Date</th>\n",
              "      <th>DETE Start Date</th>\n",
              "      <th>Role Start Date</th>\n",
              "      <th>Position</th>\n",
              "      <th>Classification</th>\n",
              "      <th>Region</th>\n",
              "      <th>Business Unit</th>\n",
              "      <th>Employment Status</th>\n",
              "      <th>Career move to public sector</th>\n",
              "      <th>Career move to private sector</th>\n",
              "      <th>Interpersonal conflicts</th>\n",
              "      <th>Job dissatisfaction</th>\n",
              "      <th>Dissatisfaction with the department</th>\n",
              "      <th>Physical work environment</th>\n",
              "      <th>Lack of recognition</th>\n",
              "      <th>Lack of job security</th>\n",
              "      <th>Work location</th>\n",
              "      <th>Employment conditions</th>\n",
              "      <th>Maternity/family</th>\n",
              "      <th>Relocation</th>\n",
              "      <th>Study/Travel</th>\n",
              "      <th>Ill Health</th>\n",
              "      <th>Traumatic incident</th>\n",
              "      <th>Work life balance</th>\n",
              "      <th>Workload</th>\n",
              "      <th>None of the above</th>\n",
              "      <th>Professional Development</th>\n",
              "      <th>Opportunities for promotion</th>\n",
              "      <th>Staff morale</th>\n",
              "      <th>Workplace issue</th>\n",
              "      <th>Physical environment</th>\n",
              "      <th>Worklife balance</th>\n",
              "      <th>Stress and pressure support</th>\n",
              "      <th>Performance of supervisor</th>\n",
              "      <th>Peer support</th>\n",
              "      <th>Initiative</th>\n",
              "      <th>Skills</th>\n",
              "      <th>Coach</th>\n",
              "      <th>Career Aspirations</th>\n",
              "      <th>Feedback</th>\n",
              "      <th>Further PD</th>\n",
              "      <th>Communication</th>\n",
              "      <th>My say</th>\n",
              "      <th>Information</th>\n",
              "      <th>Kept informed</th>\n",
              "      <th>Wellness programs</th>\n",
              "      <th>Health &amp; Safety</th>\n",
              "      <th>Gender</th>\n",
              "      <th>Age</th>\n",
              "      <th>Aboriginal</th>\n",
              "      <th>Torres Strait</th>\n",
              "      <th>South Sea</th>\n",
              "      <th>Disability</th>\n",
              "      <th>NESB</th>\n",
              "    </tr>\n",
              "  </thead>\n",
              "  <tbody>\n",
              "    <tr>\n",
              "      <th>0</th>\n",
              "      <td>1</td>\n",
              "      <td>Ill Health Retirement</td>\n",
              "      <td>08/2012</td>\n",
              "      <td>1984</td>\n",
              "      <td>2004</td>\n",
              "      <td>Public Servant</td>\n",
              "      <td>A01-A04</td>\n",
              "      <td>Central Office</td>\n",
              "      <td>Corporate Strategy and Peformance</td>\n",
              "      <td>Permanent Full-time</td>\n",
              "      <td>True</td>\n",
              "      <td>False</td>\n",
              "      <td>False</td>\n",
              "      <td>True</td>\n",
              "      <td>False</td>\n",
              "      <td>False</td>\n",
              "      <td>True</td>\n",
              "      <td>False</td>\n",
              "      <td>False</td>\n",
              "      <td>False</td>\n",
              "      <td>False</td>\n",
              "      <td>False</td>\n",
              "      <td>False</td>\n",
              "      <td>False</td>\n",
              "      <td>False</td>\n",
              "      <td>False</td>\n",
              "      <td>False</td>\n",
              "      <td>True</td>\n",
              "      <td>A</td>\n",
              "      <td>A</td>\n",
              "      <td>N</td>\n",
              "      <td>N</td>\n",
              "      <td>N</td>\n",
              "      <td>A</td>\n",
              "      <td>A</td>\n",
              "      <td>A</td>\n",
              "      <td>A</td>\n",
              "      <td>N</td>\n",
              "      <td>N</td>\n",
              "      <td>N</td>\n",
              "      <td>A</td>\n",
              "      <td>A</td>\n",
              "      <td>A</td>\n",
              "      <td>N</td>\n",
              "      <td>A</td>\n",
              "      <td>A</td>\n",
              "      <td>N</td>\n",
              "      <td>N</td>\n",
              "      <td>N</td>\n",
              "      <td>Male</td>\n",
              "      <td>56-60</td>\n",
              "      <td>NaN</td>\n",
              "      <td>NaN</td>\n",
              "      <td>NaN</td>\n",
              "      <td>NaN</td>\n",
              "      <td>Yes</td>\n",
              "    </tr>\n",
              "    <tr>\n",
              "      <th>1</th>\n",
              "      <td>2</td>\n",
              "      <td>Voluntary Early Retirement (VER)</td>\n",
              "      <td>08/2012</td>\n",
              "      <td>Not Stated</td>\n",
              "      <td>Not Stated</td>\n",
              "      <td>Public Servant</td>\n",
              "      <td>AO5-AO7</td>\n",
              "      <td>Central Office</td>\n",
              "      <td>Corporate Strategy and Peformance</td>\n",
              "      <td>Permanent Full-time</td>\n",
              "      <td>False</td>\n",
              "      <td>False</td>\n",
              "      <td>False</td>\n",
              "      <td>False</td>\n",
              "      <td>False</td>\n",
              "      <td>False</td>\n",
              "      <td>False</td>\n",
              "      <td>False</td>\n",
              "      <td>False</td>\n",
              "      <td>False</td>\n",
              "      <td>False</td>\n",
              "      <td>False</td>\n",
              "      <td>False</td>\n",
              "      <td>False</td>\n",
              "      <td>False</td>\n",
              "      <td>False</td>\n",
              "      <td>False</td>\n",
              "      <td>False</td>\n",
              "      <td>A</td>\n",
              "      <td>A</td>\n",
              "      <td>N</td>\n",
              "      <td>N</td>\n",
              "      <td>N</td>\n",
              "      <td>N</td>\n",
              "      <td>A</td>\n",
              "      <td>A</td>\n",
              "      <td>A</td>\n",
              "      <td>N</td>\n",
              "      <td>N</td>\n",
              "      <td>N</td>\n",
              "      <td>A</td>\n",
              "      <td>A</td>\n",
              "      <td>A</td>\n",
              "      <td>N</td>\n",
              "      <td>A</td>\n",
              "      <td>A</td>\n",
              "      <td>N</td>\n",
              "      <td>N</td>\n",
              "      <td>N</td>\n",
              "      <td>Male</td>\n",
              "      <td>56-60</td>\n",
              "      <td>NaN</td>\n",
              "      <td>NaN</td>\n",
              "      <td>NaN</td>\n",
              "      <td>NaN</td>\n",
              "      <td>NaN</td>\n",
              "    </tr>\n",
              "    <tr>\n",
              "      <th>2</th>\n",
              "      <td>3</td>\n",
              "      <td>Voluntary Early Retirement (VER)</td>\n",
              "      <td>05/2012</td>\n",
              "      <td>2011</td>\n",
              "      <td>2011</td>\n",
              "      <td>Schools Officer</td>\n",
              "      <td>NaN</td>\n",
              "      <td>Central Office</td>\n",
              "      <td>Education Queensland</td>\n",
              "      <td>Permanent Full-time</td>\n",
              "      <td>False</td>\n",
              "      <td>False</td>\n",
              "      <td>False</td>\n",
              "      <td>False</td>\n",
              "      <td>False</td>\n",
              "      <td>False</td>\n",
              "      <td>False</td>\n",
              "      <td>False</td>\n",
              "      <td>False</td>\n",
              "      <td>False</td>\n",
              "      <td>False</td>\n",
              "      <td>False</td>\n",
              "      <td>False</td>\n",
              "      <td>False</td>\n",
              "      <td>False</td>\n",
              "      <td>False</td>\n",
              "      <td>False</td>\n",
              "      <td>True</td>\n",
              "      <td>N</td>\n",
              "      <td>N</td>\n",
              "      <td>N</td>\n",
              "      <td>N</td>\n",
              "      <td>N</td>\n",
              "      <td>N</td>\n",
              "      <td>N</td>\n",
              "      <td>N</td>\n",
              "      <td>N</td>\n",
              "      <td>N</td>\n",
              "      <td>N</td>\n",
              "      <td>N</td>\n",
              "      <td>N</td>\n",
              "      <td>N</td>\n",
              "      <td>N</td>\n",
              "      <td>A</td>\n",
              "      <td>A</td>\n",
              "      <td>N</td>\n",
              "      <td>N</td>\n",
              "      <td>N</td>\n",
              "      <td>N</td>\n",
              "      <td>Male</td>\n",
              "      <td>61 or older</td>\n",
              "      <td>NaN</td>\n",
              "      <td>NaN</td>\n",
              "      <td>NaN</td>\n",
              "      <td>NaN</td>\n",
              "      <td>NaN</td>\n",
              "    </tr>\n",
              "    <tr>\n",
              "      <th>3</th>\n",
              "      <td>4</td>\n",
              "      <td>Resignation-Other reasons</td>\n",
              "      <td>05/2012</td>\n",
              "      <td>2005</td>\n",
              "      <td>2006</td>\n",
              "      <td>Teacher</td>\n",
              "      <td>Primary</td>\n",
              "      <td>Central Queensland</td>\n",
              "      <td>NaN</td>\n",
              "      <td>Permanent Full-time</td>\n",
              "      <td>False</td>\n",
              "      <td>True</td>\n",
              "      <td>False</td>\n",
              "      <td>False</td>\n",
              "      <td>False</td>\n",
              "      <td>False</td>\n",
              "      <td>False</td>\n",
              "      <td>False</td>\n",
              "      <td>False</td>\n",
              "      <td>False</td>\n",
              "      <td>False</td>\n",
              "      <td>False</td>\n",
              "      <td>False</td>\n",
              "      <td>False</td>\n",
              "      <td>False</td>\n",
              "      <td>False</td>\n",
              "      <td>False</td>\n",
              "      <td>False</td>\n",
              "      <td>A</td>\n",
              "      <td>N</td>\n",
              "      <td>N</td>\n",
              "      <td>N</td>\n",
              "      <td>A</td>\n",
              "      <td>A</td>\n",
              "      <td>N</td>\n",
              "      <td>N</td>\n",
              "      <td>A</td>\n",
              "      <td>A</td>\n",
              "      <td>A</td>\n",
              "      <td>A</td>\n",
              "      <td>A</td>\n",
              "      <td>A</td>\n",
              "      <td>A</td>\n",
              "      <td>A</td>\n",
              "      <td>A</td>\n",
              "      <td>A</td>\n",
              "      <td>A</td>\n",
              "      <td>N</td>\n",
              "      <td>A</td>\n",
              "      <td>Female</td>\n",
              "      <td>36-40</td>\n",
              "      <td>NaN</td>\n",
              "      <td>NaN</td>\n",
              "      <td>NaN</td>\n",
              "      <td>NaN</td>\n",
              "      <td>NaN</td>\n",
              "    </tr>\n",
              "    <tr>\n",
              "      <th>4</th>\n",
              "      <td>5</td>\n",
              "      <td>Age Retirement</td>\n",
              "      <td>05/2012</td>\n",
              "      <td>1970</td>\n",
              "      <td>1989</td>\n",
              "      <td>Head of Curriculum/Head of Special Education</td>\n",
              "      <td>NaN</td>\n",
              "      <td>South East</td>\n",
              "      <td>NaN</td>\n",
              "      <td>Permanent Full-time</td>\n",
              "      <td>False</td>\n",
              "      <td>False</td>\n",
              "      <td>False</td>\n",
              "      <td>False</td>\n",
              "      <td>False</td>\n",
              "      <td>False</td>\n",
              "      <td>False</td>\n",
              "      <td>False</td>\n",
              "      <td>False</td>\n",
              "      <td>False</td>\n",
              "      <td>False</td>\n",
              "      <td>False</td>\n",
              "      <td>False</td>\n",
              "      <td>False</td>\n",
              "      <td>False</td>\n",
              "      <td>True</td>\n",
              "      <td>False</td>\n",
              "      <td>False</td>\n",
              "      <td>A</td>\n",
              "      <td>A</td>\n",
              "      <td>N</td>\n",
              "      <td>N</td>\n",
              "      <td>D</td>\n",
              "      <td>D</td>\n",
              "      <td>N</td>\n",
              "      <td>A</td>\n",
              "      <td>A</td>\n",
              "      <td>A</td>\n",
              "      <td>A</td>\n",
              "      <td>A</td>\n",
              "      <td>A</td>\n",
              "      <td>SA</td>\n",
              "      <td>SA</td>\n",
              "      <td>D</td>\n",
              "      <td>D</td>\n",
              "      <td>A</td>\n",
              "      <td>N</td>\n",
              "      <td>A</td>\n",
              "      <td>M</td>\n",
              "      <td>Female</td>\n",
              "      <td>61 or older</td>\n",
              "      <td>NaN</td>\n",
              "      <td>NaN</td>\n",
              "      <td>NaN</td>\n",
              "      <td>NaN</td>\n",
              "      <td>NaN</td>\n",
              "    </tr>\n",
              "  </tbody>\n",
              "</table>\n",
              "</div>"
            ],
            "text/plain": [
              "   ID                    SeparationType Cease Date DETE Start Date  \\\n",
              "0   1             Ill Health Retirement    08/2012            1984   \n",
              "1   2  Voluntary Early Retirement (VER)    08/2012      Not Stated   \n",
              "2   3  Voluntary Early Retirement (VER)    05/2012            2011   \n",
              "3   4         Resignation-Other reasons    05/2012            2005   \n",
              "4   5                    Age Retirement    05/2012            1970   \n",
              "\n",
              "  Role Start Date                                      Position  \\\n",
              "0            2004                                Public Servant   \n",
              "1      Not Stated                                Public Servant   \n",
              "2            2011                               Schools Officer   \n",
              "3            2006                                       Teacher   \n",
              "4            1989  Head of Curriculum/Head of Special Education   \n",
              "\n",
              "  Classification              Region                      Business Unit  \\\n",
              "0        A01-A04      Central Office  Corporate Strategy and Peformance   \n",
              "1        AO5-AO7      Central Office  Corporate Strategy and Peformance   \n",
              "2            NaN      Central Office               Education Queensland   \n",
              "3        Primary  Central Queensland                                NaN   \n",
              "4            NaN          South East                                NaN   \n",
              "\n",
              "     Employment Status  Career move to public sector  \\\n",
              "0  Permanent Full-time                          True   \n",
              "1  Permanent Full-time                         False   \n",
              "2  Permanent Full-time                         False   \n",
              "3  Permanent Full-time                         False   \n",
              "4  Permanent Full-time                         False   \n",
              "\n",
              "   Career move to private sector  Interpersonal conflicts  \\\n",
              "0                          False                    False   \n",
              "1                          False                    False   \n",
              "2                          False                    False   \n",
              "3                           True                    False   \n",
              "4                          False                    False   \n",
              "\n",
              "   Job dissatisfaction  Dissatisfaction with the department  \\\n",
              "0                 True                                False   \n",
              "1                False                                False   \n",
              "2                False                                False   \n",
              "3                False                                False   \n",
              "4                False                                False   \n",
              "\n",
              "   Physical work environment  Lack of recognition  Lack of job security  \\\n",
              "0                      False                 True                 False   \n",
              "1                      False                False                 False   \n",
              "2                      False                False                 False   \n",
              "3                      False                False                 False   \n",
              "4                      False                False                 False   \n",
              "\n",
              "   Work location  Employment conditions  Maternity/family  Relocation  \\\n",
              "0          False                  False             False       False   \n",
              "1          False                  False             False       False   \n",
              "2          False                  False             False       False   \n",
              "3          False                  False             False       False   \n",
              "4          False                  False             False       False   \n",
              "\n",
              "   Study/Travel  Ill Health  Traumatic incident  Work life balance  Workload  \\\n",
              "0         False       False               False              False     False   \n",
              "1         False       False               False              False     False   \n",
              "2         False       False               False              False     False   \n",
              "3         False       False               False              False     False   \n",
              "4         False       False               False               True     False   \n",
              "\n",
              "   None of the above Professional Development Opportunities for promotion  \\\n",
              "0               True                        A                           A   \n",
              "1              False                        A                           A   \n",
              "2               True                        N                           N   \n",
              "3              False                        A                           N   \n",
              "4              False                        A                           A   \n",
              "\n",
              "  Staff morale Workplace issue Physical environment Worklife balance  \\\n",
              "0            N               N                    N                A   \n",
              "1            N               N                    N                N   \n",
              "2            N               N                    N                N   \n",
              "3            N               N                    A                A   \n",
              "4            N               N                    D                D   \n",
              "\n",
              "  Stress and pressure support Performance of supervisor Peer support  \\\n",
              "0                           A                         A            A   \n",
              "1                           A                         A            A   \n",
              "2                           N                         N            N   \n",
              "3                           N                         N            A   \n",
              "4                           N                         A            A   \n",
              "\n",
              "  Initiative Skills Coach Career Aspirations Feedback Further PD  \\\n",
              "0          N      N     N                  A        A          A   \n",
              "1          N      N     N                  A        A          A   \n",
              "2          N      N     N                  N        N          N   \n",
              "3          A      A     A                  A        A          A   \n",
              "4          A      A     A                  A       SA         SA   \n",
              "\n",
              "  Communication My say Information Kept informed Wellness programs  \\\n",
              "0             N      A           A             N                 N   \n",
              "1             N      A           A             N                 N   \n",
              "2             A      A           N             N                 N   \n",
              "3             A      A           A             A                 N   \n",
              "4             D      D           A             N                 A   \n",
              "\n",
              "  Health & Safety  Gender          Age Aboriginal Torres Strait South Sea  \\\n",
              "0               N    Male        56-60        NaN           NaN       NaN   \n",
              "1               N    Male        56-60        NaN           NaN       NaN   \n",
              "2               N    Male  61 or older        NaN           NaN       NaN   \n",
              "3               A  Female        36-40        NaN           NaN       NaN   \n",
              "4               M  Female  61 or older        NaN           NaN       NaN   \n",
              "\n",
              "  Disability NESB  \n",
              "0        NaN  Yes  \n",
              "1        NaN  NaN  \n",
              "2        NaN  NaN  \n",
              "3        NaN  NaN  \n",
              "4        NaN  NaN  "
            ]
          },
          "metadata": {
            "tags": []
          },
          "execution_count": 85
        }
      ]
    },
    {
      "cell_type": "code",
      "metadata": {
        "id": "7ZJB3s6yyJHZ",
        "outputId": "e3574ba5-4df7-460d-cf83-493e585cbaa4",
        "colab": {
          "base_uri": "https://localhost:8080/",
          "height": 1000
        }
      },
      "source": [
        "dete_survey.info()"
      ],
      "execution_count": 86,
      "outputs": [
        {
          "output_type": "stream",
          "text": [
            "<class 'pandas.core.frame.DataFrame'>\n",
            "RangeIndex: 822 entries, 0 to 821\n",
            "Data columns (total 56 columns):\n",
            " #   Column                               Non-Null Count  Dtype \n",
            "---  ------                               --------------  ----- \n",
            " 0   ID                                   822 non-null    int64 \n",
            " 1   SeparationType                       822 non-null    object\n",
            " 2   Cease Date                           822 non-null    object\n",
            " 3   DETE Start Date                      822 non-null    object\n",
            " 4   Role Start Date                      822 non-null    object\n",
            " 5   Position                             817 non-null    object\n",
            " 6   Classification                       455 non-null    object\n",
            " 7   Region                               822 non-null    object\n",
            " 8   Business Unit                        126 non-null    object\n",
            " 9   Employment Status                    817 non-null    object\n",
            " 10  Career move to public sector         822 non-null    bool  \n",
            " 11  Career move to private sector        822 non-null    bool  \n",
            " 12  Interpersonal conflicts              822 non-null    bool  \n",
            " 13  Job dissatisfaction                  822 non-null    bool  \n",
            " 14  Dissatisfaction with the department  822 non-null    bool  \n",
            " 15  Physical work environment            822 non-null    bool  \n",
            " 16  Lack of recognition                  822 non-null    bool  \n",
            " 17  Lack of job security                 822 non-null    bool  \n",
            " 18  Work location                        822 non-null    bool  \n",
            " 19  Employment conditions                822 non-null    bool  \n",
            " 20  Maternity/family                     822 non-null    bool  \n",
            " 21  Relocation                           822 non-null    bool  \n",
            " 22  Study/Travel                         822 non-null    bool  \n",
            " 23  Ill Health                           822 non-null    bool  \n",
            " 24  Traumatic incident                   822 non-null    bool  \n",
            " 25  Work life balance                    822 non-null    bool  \n",
            " 26  Workload                             822 non-null    bool  \n",
            " 27  None of the above                    822 non-null    bool  \n",
            " 28  Professional Development             808 non-null    object\n",
            " 29  Opportunities for promotion          735 non-null    object\n",
            " 30  Staff morale                         816 non-null    object\n",
            " 31  Workplace issue                      788 non-null    object\n",
            " 32  Physical environment                 817 non-null    object\n",
            " 33  Worklife balance                     815 non-null    object\n",
            " 34  Stress and pressure support          810 non-null    object\n",
            " 35  Performance of supervisor            813 non-null    object\n",
            " 36  Peer support                         812 non-null    object\n",
            " 37  Initiative                           813 non-null    object\n",
            " 38  Skills                               811 non-null    object\n",
            " 39  Coach                                767 non-null    object\n",
            " 40  Career Aspirations                   746 non-null    object\n",
            " 41  Feedback                             792 non-null    object\n",
            " 42  Further PD                           768 non-null    object\n",
            " 43  Communication                        814 non-null    object\n",
            " 44  My say                               812 non-null    object\n",
            " 45  Information                          816 non-null    object\n",
            " 46  Kept informed                        813 non-null    object\n",
            " 47  Wellness programs                    766 non-null    object\n",
            " 48  Health & Safety                      793 non-null    object\n",
            " 49  Gender                               798 non-null    object\n",
            " 50  Age                                  811 non-null    object\n",
            " 51  Aboriginal                           16 non-null     object\n",
            " 52  Torres Strait                        3 non-null      object\n",
            " 53  South Sea                            7 non-null      object\n",
            " 54  Disability                           23 non-null     object\n",
            " 55  NESB                                 32 non-null     object\n",
            "dtypes: bool(18), int64(1), object(37)\n",
            "memory usage: 258.6+ KB\n"
          ],
          "name": "stdout"
        }
      ]
    },
    {
      "cell_type": "code",
      "metadata": {
        "id": "t7mRzSJXyJHb"
      },
      "source": [
        "path2 = 'https://github.com/StephaniePC1/ThisIsWhatIDoNow/raw/master/tafe-employee-exit-survey-access-database-december-2013.csv'\n",
        "tafe_survey = pd.read_csv(path2, encoding=\"latin-1\")"
      ],
      "execution_count": 87,
      "outputs": []
    },
    {
      "cell_type": "code",
      "metadata": {
        "id": "euBtwHJt9a6d",
        "outputId": "4cf046a7-fcfe-411e-b0a6-e54cf70afe54",
        "colab": {
          "base_uri": "https://localhost:8080/",
          "height": 601
        }
      },
      "source": [
        "tafe_survey.head()"
      ],
      "execution_count": 88,
      "outputs": [
        {
          "output_type": "execute_result",
          "data": {
            "text/html": [
              "<div>\n",
              "<style scoped>\n",
              "    .dataframe tbody tr th:only-of-type {\n",
              "        vertical-align: middle;\n",
              "    }\n",
              "\n",
              "    .dataframe tbody tr th {\n",
              "        vertical-align: top;\n",
              "    }\n",
              "\n",
              "    .dataframe thead th {\n",
              "        text-align: right;\n",
              "    }\n",
              "</style>\n",
              "<table border=\"1\" class=\"dataframe\">\n",
              "  <thead>\n",
              "    <tr style=\"text-align: right;\">\n",
              "      <th></th>\n",
              "      <th>Record ID</th>\n",
              "      <th>Institute</th>\n",
              "      <th>WorkArea</th>\n",
              "      <th>CESSATION YEAR</th>\n",
              "      <th>Reason for ceasing employment</th>\n",
              "      <th>Contributing Factors. Career Move - Public Sector</th>\n",
              "      <th>Contributing Factors. Career Move - Private Sector</th>\n",
              "      <th>Contributing Factors. Career Move - Self-employment</th>\n",
              "      <th>Contributing Factors. Ill Health</th>\n",
              "      <th>Contributing Factors. Maternity/Family</th>\n",
              "      <th>Contributing Factors. Dissatisfaction</th>\n",
              "      <th>Contributing Factors. Job Dissatisfaction</th>\n",
              "      <th>Contributing Factors. Interpersonal Conflict</th>\n",
              "      <th>Contributing Factors. Study</th>\n",
              "      <th>Contributing Factors. Travel</th>\n",
              "      <th>Contributing Factors. Other</th>\n",
              "      <th>Contributing Factors. NONE</th>\n",
              "      <th>Main Factor.     Which of these was the main factor for leaving?</th>\n",
              "      <th>InstituteViews. Topic:1. I feel the senior leadership had a clear vision and direction</th>\n",
              "      <th>InstituteViews. Topic:2. I was given access to skills training to help me do my job better</th>\n",
              "      <th>InstituteViews. Topic:3. I was given adequate opportunities for personal development</th>\n",
              "      <th>InstituteViews. Topic:4. I was given adequate opportunities for promotion within %Institute]Q25LBL%</th>\n",
              "      <th>InstituteViews. Topic:5. I felt the salary for the job was right for the responsibilities I had</th>\n",
              "      <th>InstituteViews. Topic:6. The organisation recognised when staff did good work</th>\n",
              "      <th>InstituteViews. Topic:7. Management was generally supportive of me</th>\n",
              "      <th>InstituteViews. Topic:8. Management was generally supportive of my team</th>\n",
              "      <th>InstituteViews. Topic:9. I was kept informed of the changes in the organisation which would affect me</th>\n",
              "      <th>InstituteViews. Topic:10. Staff morale was positive within the Institute</th>\n",
              "      <th>InstituteViews. Topic:11. If I had a workplace issue it was dealt with quickly</th>\n",
              "      <th>InstituteViews. Topic:12. If I had a workplace issue it was dealt with efficiently</th>\n",
              "      <th>InstituteViews. Topic:13. If I had a workplace issue it was dealt with discreetly</th>\n",
              "      <th>WorkUnitViews. Topic:14. I was satisfied with the quality of the management and supervision within my work unit</th>\n",
              "      <th>WorkUnitViews. Topic:15. I worked well with my colleagues</th>\n",
              "      <th>WorkUnitViews. Topic:16. My job was challenging and interesting</th>\n",
              "      <th>WorkUnitViews. Topic:17. I was encouraged to use my initiative in the course of my work</th>\n",
              "      <th>WorkUnitViews. Topic:18. I had sufficient contact with other people in my job</th>\n",
              "      <th>WorkUnitViews. Topic:19. I was given adequate support and co-operation by my peers to enable me to do my job</th>\n",
              "      <th>WorkUnitViews. Topic:20. I was able to use the full range of my skills in my job</th>\n",
              "      <th>WorkUnitViews. Topic:21. I was able to use the full range of my abilities in my job. ; Category:Level of Agreement; Question:YOUR VIEWS ABOUT YOUR WORK UNIT]</th>\n",
              "      <th>WorkUnitViews. Topic:22. I was able to use the full range of my knowledge in my job</th>\n",
              "      <th>WorkUnitViews. Topic:23. My job provided sufficient variety</th>\n",
              "      <th>WorkUnitViews. Topic:24. I was able to cope with the level of stress and pressure in my job</th>\n",
              "      <th>WorkUnitViews. Topic:25. My job allowed me to balance the demands of work and family to my satisfaction</th>\n",
              "      <th>WorkUnitViews. Topic:26. My supervisor gave me adequate personal recognition and feedback on my performance</th>\n",
              "      <th>WorkUnitViews. Topic:27. My working environment was satisfactory e.g. sufficient space, good lighting, suitable seating and working area</th>\n",
              "      <th>WorkUnitViews. Topic:28. I was given the opportunity to mentor and coach others in order for me to pass on my skills and knowledge prior to my cessation date</th>\n",
              "      <th>WorkUnitViews. Topic:29. There was adequate communication between staff in my unit</th>\n",
              "      <th>WorkUnitViews. Topic:30. Staff morale was positive within my work unit</th>\n",
              "      <th>Induction. Did you undertake Workplace Induction?</th>\n",
              "      <th>InductionInfo. Topic:Did you undertake a Corporate Induction?</th>\n",
              "      <th>InductionInfo. Topic:Did you undertake a Institute Induction?</th>\n",
              "      <th>InductionInfo. Topic: Did you undertake Team Induction?</th>\n",
              "      <th>InductionInfo. Face to Face Topic:Did you undertake a Corporate Induction; Category:How it was conducted?</th>\n",
              "      <th>InductionInfo. On-line Topic:Did you undertake a Corporate Induction; Category:How it was conducted?</th>\n",
              "      <th>InductionInfo. Induction Manual Topic:Did you undertake a Corporate Induction?</th>\n",
              "      <th>InductionInfo. Face to Face Topic:Did you undertake a Institute Induction?</th>\n",
              "      <th>InductionInfo. On-line Topic:Did you undertake a Institute Induction?</th>\n",
              "      <th>InductionInfo. Induction Manual Topic:Did you undertake a Institute Induction?</th>\n",
              "      <th>InductionInfo. Face to Face Topic: Did you undertake Team Induction; Category?</th>\n",
              "      <th>InductionInfo. On-line Topic: Did you undertake Team Induction?process you undertook and how it was conducted.]</th>\n",
              "      <th>InductionInfo. Induction Manual Topic: Did you undertake Team Induction?</th>\n",
              "      <th>Workplace. Topic:Did you and your Manager develop a Performance and Professional Development Plan (PPDP)?</th>\n",
              "      <th>Workplace. Topic:Does your workplace promote a work culture free from all forms of unlawful discrimination?</th>\n",
              "      <th>Workplace. Topic:Does your workplace promote and practice the principles of employment equity?</th>\n",
              "      <th>Workplace. Topic:Does your workplace value the diversity of its employees?</th>\n",
              "      <th>Workplace. Topic:Would you recommend the Institute as an employer to others?</th>\n",
              "      <th>Gender.     What is your Gender?</th>\n",
              "      <th>CurrentAge.     Current Age</th>\n",
              "      <th>Employment Type.     Employment Type</th>\n",
              "      <th>Classification.     Classification</th>\n",
              "      <th>LengthofServiceOverall. Overall Length of Service at Institute (in years)</th>\n",
              "      <th>LengthofServiceCurrent. Length of Service at current workplace (in years)</th>\n",
              "    </tr>\n",
              "  </thead>\n",
              "  <tbody>\n",
              "    <tr>\n",
              "      <th>0</th>\n",
              "      <td>634133009996094000</td>\n",
              "      <td>Southern Queensland Institute of TAFE</td>\n",
              "      <td>Non-Delivery (corporate)</td>\n",
              "      <td>2010.0</td>\n",
              "      <td>Contract Expired</td>\n",
              "      <td>NaN</td>\n",
              "      <td>NaN</td>\n",
              "      <td>NaN</td>\n",
              "      <td>NaN</td>\n",
              "      <td>NaN</td>\n",
              "      <td>NaN</td>\n",
              "      <td>NaN</td>\n",
              "      <td>NaN</td>\n",
              "      <td>NaN</td>\n",
              "      <td>NaN</td>\n",
              "      <td>NaN</td>\n",
              "      <td>NaN</td>\n",
              "      <td>NaN</td>\n",
              "      <td>Agree</td>\n",
              "      <td>Agree</td>\n",
              "      <td>Agree</td>\n",
              "      <td>Neutral</td>\n",
              "      <td>Agree</td>\n",
              "      <td>Agree</td>\n",
              "      <td>Agree</td>\n",
              "      <td>Agree</td>\n",
              "      <td>Agree</td>\n",
              "      <td>Agree</td>\n",
              "      <td>Agree</td>\n",
              "      <td>Agree</td>\n",
              "      <td>Agree</td>\n",
              "      <td>Agree</td>\n",
              "      <td>Agree</td>\n",
              "      <td>Agree</td>\n",
              "      <td>Strongly Agree</td>\n",
              "      <td>Agree</td>\n",
              "      <td>Agree</td>\n",
              "      <td>Agree</td>\n",
              "      <td>Agree</td>\n",
              "      <td>Agree</td>\n",
              "      <td>Agree</td>\n",
              "      <td>Agree</td>\n",
              "      <td>Agree</td>\n",
              "      <td>Agree</td>\n",
              "      <td>Agree</td>\n",
              "      <td>Neutral</td>\n",
              "      <td>Agree</td>\n",
              "      <td>Agree</td>\n",
              "      <td>Yes</td>\n",
              "      <td>Yes</td>\n",
              "      <td>Yes</td>\n",
              "      <td>Yes</td>\n",
              "      <td>Face to Face</td>\n",
              "      <td>-</td>\n",
              "      <td>-</td>\n",
              "      <td>Face to Face</td>\n",
              "      <td>-</td>\n",
              "      <td>-</td>\n",
              "      <td>Face to Face</td>\n",
              "      <td>-</td>\n",
              "      <td>-</td>\n",
              "      <td>Yes</td>\n",
              "      <td>Yes</td>\n",
              "      <td>Yes</td>\n",
              "      <td>Yes</td>\n",
              "      <td>Yes</td>\n",
              "      <td>Female</td>\n",
              "      <td>26  30</td>\n",
              "      <td>Temporary Full-time</td>\n",
              "      <td>Administration (AO)</td>\n",
              "      <td>1-2</td>\n",
              "      <td>1-2</td>\n",
              "    </tr>\n",
              "    <tr>\n",
              "      <th>1</th>\n",
              "      <td>634133654064531000</td>\n",
              "      <td>Mount Isa Institute of TAFE</td>\n",
              "      <td>Non-Delivery (corporate)</td>\n",
              "      <td>2010.0</td>\n",
              "      <td>Retirement</td>\n",
              "      <td>-</td>\n",
              "      <td>-</td>\n",
              "      <td>-</td>\n",
              "      <td>-</td>\n",
              "      <td>-</td>\n",
              "      <td>-</td>\n",
              "      <td>-</td>\n",
              "      <td>-</td>\n",
              "      <td>-</td>\n",
              "      <td>Travel</td>\n",
              "      <td>-</td>\n",
              "      <td>-</td>\n",
              "      <td>NaN</td>\n",
              "      <td>Agree</td>\n",
              "      <td>Agree</td>\n",
              "      <td>Agree</td>\n",
              "      <td>Agree</td>\n",
              "      <td>Agree</td>\n",
              "      <td>Strongly Agree</td>\n",
              "      <td>Strongly Agree</td>\n",
              "      <td>Agree</td>\n",
              "      <td>Strongly Agree</td>\n",
              "      <td>Agree</td>\n",
              "      <td>Agree</td>\n",
              "      <td>Agree</td>\n",
              "      <td>Disagree</td>\n",
              "      <td>Strongly Agree</td>\n",
              "      <td>Strongly Agree</td>\n",
              "      <td>Strongly Agree</td>\n",
              "      <td>Agree</td>\n",
              "      <td>Agree</td>\n",
              "      <td>Agree</td>\n",
              "      <td>Strongly Agree</td>\n",
              "      <td>Agree</td>\n",
              "      <td>Agree</td>\n",
              "      <td>Agree</td>\n",
              "      <td>Strongly Agree</td>\n",
              "      <td>Agree</td>\n",
              "      <td>Strongly Agree</td>\n",
              "      <td>Strongly Agree</td>\n",
              "      <td>Agree</td>\n",
              "      <td>Agree</td>\n",
              "      <td>Strongly Agree</td>\n",
              "      <td>No</td>\n",
              "      <td>NaN</td>\n",
              "      <td>NaN</td>\n",
              "      <td>NaN</td>\n",
              "      <td>NaN</td>\n",
              "      <td>NaN</td>\n",
              "      <td>NaN</td>\n",
              "      <td>NaN</td>\n",
              "      <td>NaN</td>\n",
              "      <td>NaN</td>\n",
              "      <td>NaN</td>\n",
              "      <td>NaN</td>\n",
              "      <td>NaN</td>\n",
              "      <td>Yes</td>\n",
              "      <td>Yes</td>\n",
              "      <td>Yes</td>\n",
              "      <td>Yes</td>\n",
              "      <td>Yes</td>\n",
              "      <td>NaN</td>\n",
              "      <td>NaN</td>\n",
              "      <td>NaN</td>\n",
              "      <td>NaN</td>\n",
              "      <td>NaN</td>\n",
              "      <td>NaN</td>\n",
              "    </tr>\n",
              "    <tr>\n",
              "      <th>2</th>\n",
              "      <td>634138845606563000</td>\n",
              "      <td>Mount Isa Institute of TAFE</td>\n",
              "      <td>Delivery (teaching)</td>\n",
              "      <td>2010.0</td>\n",
              "      <td>Retirement</td>\n",
              "      <td>-</td>\n",
              "      <td>-</td>\n",
              "      <td>-</td>\n",
              "      <td>-</td>\n",
              "      <td>-</td>\n",
              "      <td>-</td>\n",
              "      <td>-</td>\n",
              "      <td>-</td>\n",
              "      <td>-</td>\n",
              "      <td>-</td>\n",
              "      <td>-</td>\n",
              "      <td>NONE</td>\n",
              "      <td>NaN</td>\n",
              "      <td>Agree</td>\n",
              "      <td>Agree</td>\n",
              "      <td>Agree</td>\n",
              "      <td>Agree</td>\n",
              "      <td>Agree</td>\n",
              "      <td>Agree</td>\n",
              "      <td>Strongly Agree</td>\n",
              "      <td>Agree</td>\n",
              "      <td>Agree</td>\n",
              "      <td>Agree</td>\n",
              "      <td>Agree</td>\n",
              "      <td>Neutral</td>\n",
              "      <td>Neutral</td>\n",
              "      <td>Strongly Agree</td>\n",
              "      <td>Strongly Agree</td>\n",
              "      <td>Agree</td>\n",
              "      <td>Agree</td>\n",
              "      <td>Agree</td>\n",
              "      <td>Agree</td>\n",
              "      <td>Agree</td>\n",
              "      <td>Agree</td>\n",
              "      <td>Agree</td>\n",
              "      <td>Agree</td>\n",
              "      <td>Agree</td>\n",
              "      <td>Agree</td>\n",
              "      <td>Agree</td>\n",
              "      <td>Agree</td>\n",
              "      <td>Agree</td>\n",
              "      <td>Agree</td>\n",
              "      <td>Agree</td>\n",
              "      <td>No</td>\n",
              "      <td>NaN</td>\n",
              "      <td>NaN</td>\n",
              "      <td>NaN</td>\n",
              "      <td>NaN</td>\n",
              "      <td>NaN</td>\n",
              "      <td>NaN</td>\n",
              "      <td>NaN</td>\n",
              "      <td>NaN</td>\n",
              "      <td>NaN</td>\n",
              "      <td>NaN</td>\n",
              "      <td>NaN</td>\n",
              "      <td>NaN</td>\n",
              "      <td>Yes</td>\n",
              "      <td>Yes</td>\n",
              "      <td>Yes</td>\n",
              "      <td>Yes</td>\n",
              "      <td>Yes</td>\n",
              "      <td>NaN</td>\n",
              "      <td>NaN</td>\n",
              "      <td>NaN</td>\n",
              "      <td>NaN</td>\n",
              "      <td>NaN</td>\n",
              "      <td>NaN</td>\n",
              "    </tr>\n",
              "    <tr>\n",
              "      <th>3</th>\n",
              "      <td>634139903350000000</td>\n",
              "      <td>Mount Isa Institute of TAFE</td>\n",
              "      <td>Non-Delivery (corporate)</td>\n",
              "      <td>2010.0</td>\n",
              "      <td>Resignation</td>\n",
              "      <td>-</td>\n",
              "      <td>-</td>\n",
              "      <td>-</td>\n",
              "      <td>-</td>\n",
              "      <td>-</td>\n",
              "      <td>-</td>\n",
              "      <td>-</td>\n",
              "      <td>-</td>\n",
              "      <td>-</td>\n",
              "      <td>Travel</td>\n",
              "      <td>-</td>\n",
              "      <td>-</td>\n",
              "      <td>NaN</td>\n",
              "      <td>Agree</td>\n",
              "      <td>Agree</td>\n",
              "      <td>Agree</td>\n",
              "      <td>Agree</td>\n",
              "      <td>Agree</td>\n",
              "      <td>Agree</td>\n",
              "      <td>Agree</td>\n",
              "      <td>Agree</td>\n",
              "      <td>Agree</td>\n",
              "      <td>Agree</td>\n",
              "      <td>Agree</td>\n",
              "      <td>Agree</td>\n",
              "      <td>Agree</td>\n",
              "      <td>Strongly Agree</td>\n",
              "      <td>Strongly Agree</td>\n",
              "      <td>Strongly Agree</td>\n",
              "      <td>Strongly Agree</td>\n",
              "      <td>Strongly Agree</td>\n",
              "      <td>Strongly Agree</td>\n",
              "      <td>Strongly Agree</td>\n",
              "      <td>Strongly Agree</td>\n",
              "      <td>Strongly Agree</td>\n",
              "      <td>Strongly Agree</td>\n",
              "      <td>Strongly Agree</td>\n",
              "      <td>Strongly Agree</td>\n",
              "      <td>Strongly Agree</td>\n",
              "      <td>Strongly Agree</td>\n",
              "      <td>Strongly Agree</td>\n",
              "      <td>Strongly Agree</td>\n",
              "      <td>Strongly Agree</td>\n",
              "      <td>Yes</td>\n",
              "      <td>No</td>\n",
              "      <td>Yes</td>\n",
              "      <td>Yes</td>\n",
              "      <td>-</td>\n",
              "      <td>-</td>\n",
              "      <td>-</td>\n",
              "      <td>NaN</td>\n",
              "      <td>-</td>\n",
              "      <td>-</td>\n",
              "      <td>-</td>\n",
              "      <td>-</td>\n",
              "      <td>-</td>\n",
              "      <td>Yes</td>\n",
              "      <td>Yes</td>\n",
              "      <td>Yes</td>\n",
              "      <td>Yes</td>\n",
              "      <td>Yes</td>\n",
              "      <td>NaN</td>\n",
              "      <td>NaN</td>\n",
              "      <td>NaN</td>\n",
              "      <td>NaN</td>\n",
              "      <td>NaN</td>\n",
              "      <td>NaN</td>\n",
              "    </tr>\n",
              "    <tr>\n",
              "      <th>4</th>\n",
              "      <td>634146578511788000</td>\n",
              "      <td>Southern Queensland Institute of TAFE</td>\n",
              "      <td>Delivery (teaching)</td>\n",
              "      <td>2010.0</td>\n",
              "      <td>Resignation</td>\n",
              "      <td>-</td>\n",
              "      <td>Career Move - Private Sector</td>\n",
              "      <td>-</td>\n",
              "      <td>-</td>\n",
              "      <td>-</td>\n",
              "      <td>-</td>\n",
              "      <td>-</td>\n",
              "      <td>-</td>\n",
              "      <td>-</td>\n",
              "      <td>-</td>\n",
              "      <td>-</td>\n",
              "      <td>-</td>\n",
              "      <td>NaN</td>\n",
              "      <td>Agree</td>\n",
              "      <td>Agree</td>\n",
              "      <td>Strongly Agree</td>\n",
              "      <td>Agree</td>\n",
              "      <td>Strongly Agree</td>\n",
              "      <td>Strongly Agree</td>\n",
              "      <td>Strongly Agree</td>\n",
              "      <td>Strongly Agree</td>\n",
              "      <td>Agree</td>\n",
              "      <td>Strongly Agree</td>\n",
              "      <td>Strongly Agree</td>\n",
              "      <td>Agree</td>\n",
              "      <td>Strongly Agree</td>\n",
              "      <td>Strongly Agree</td>\n",
              "      <td>Strongly Agree</td>\n",
              "      <td>Strongly Agree</td>\n",
              "      <td>Strongly Agree</td>\n",
              "      <td>Strongly Agree</td>\n",
              "      <td>Strongly Agree</td>\n",
              "      <td>Strongly Agree</td>\n",
              "      <td>Strongly Agree</td>\n",
              "      <td>Strongly Agree</td>\n",
              "      <td>Strongly Agree</td>\n",
              "      <td>Strongly Agree</td>\n",
              "      <td>Strongly Agree</td>\n",
              "      <td>Strongly Agree</td>\n",
              "      <td>Strongly Agree</td>\n",
              "      <td>Strongly Agree</td>\n",
              "      <td>Strongly Agree</td>\n",
              "      <td>Strongly Agree</td>\n",
              "      <td>Yes</td>\n",
              "      <td>Yes</td>\n",
              "      <td>Yes</td>\n",
              "      <td>Yes</td>\n",
              "      <td>-</td>\n",
              "      <td>-</td>\n",
              "      <td>Induction Manual</td>\n",
              "      <td>Face to Face</td>\n",
              "      <td>-</td>\n",
              "      <td>-</td>\n",
              "      <td>Face to Face</td>\n",
              "      <td>-</td>\n",
              "      <td>-</td>\n",
              "      <td>Yes</td>\n",
              "      <td>Yes</td>\n",
              "      <td>Yes</td>\n",
              "      <td>Yes</td>\n",
              "      <td>Yes</td>\n",
              "      <td>Male</td>\n",
              "      <td>41  45</td>\n",
              "      <td>Permanent Full-time</td>\n",
              "      <td>Teacher (including LVT)</td>\n",
              "      <td>3-4</td>\n",
              "      <td>3-4</td>\n",
              "    </tr>\n",
              "  </tbody>\n",
              "</table>\n",
              "</div>"
            ],
            "text/plain": [
              "            Record ID                              Institute  \\\n",
              "0  634133009996094000  Southern Queensland Institute of TAFE   \n",
              "1  634133654064531000            Mount Isa Institute of TAFE   \n",
              "2  634138845606563000            Mount Isa Institute of TAFE   \n",
              "3  634139903350000000            Mount Isa Institute of TAFE   \n",
              "4  634146578511788000  Southern Queensland Institute of TAFE   \n",
              "\n",
              "                   WorkArea  CESSATION YEAR Reason for ceasing employment  \\\n",
              "0  Non-Delivery (corporate)          2010.0              Contract Expired   \n",
              "1  Non-Delivery (corporate)          2010.0                    Retirement   \n",
              "2       Delivery (teaching)          2010.0                    Retirement   \n",
              "3  Non-Delivery (corporate)          2010.0                   Resignation   \n",
              "4       Delivery (teaching)          2010.0                   Resignation   \n",
              "\n",
              "  Contributing Factors. Career Move - Public Sector   \\\n",
              "0                                                NaN   \n",
              "1                                                  -   \n",
              "2                                                  -   \n",
              "3                                                  -   \n",
              "4                                                  -   \n",
              "\n",
              "  Contributing Factors. Career Move - Private Sector   \\\n",
              "0                                                NaN    \n",
              "1                                                  -    \n",
              "2                                                  -    \n",
              "3                                                  -    \n",
              "4                       Career Move - Private Sector    \n",
              "\n",
              "  Contributing Factors. Career Move - Self-employment  \\\n",
              "0                                                NaN    \n",
              "1                                                  -    \n",
              "2                                                  -    \n",
              "3                                                  -    \n",
              "4                                                  -    \n",
              "\n",
              "  Contributing Factors. Ill Health Contributing Factors. Maternity/Family  \\\n",
              "0                              NaN                                    NaN   \n",
              "1                                -                                      -   \n",
              "2                                -                                      -   \n",
              "3                                -                                      -   \n",
              "4                                -                                      -   \n",
              "\n",
              "  Contributing Factors. Dissatisfaction  \\\n",
              "0                                   NaN   \n",
              "1                                     -   \n",
              "2                                     -   \n",
              "3                                     -   \n",
              "4                                     -   \n",
              "\n",
              "  Contributing Factors. Job Dissatisfaction  \\\n",
              "0                                       NaN   \n",
              "1                                         -   \n",
              "2                                         -   \n",
              "3                                         -   \n",
              "4                                         -   \n",
              "\n",
              "  Contributing Factors. Interpersonal Conflict Contributing Factors. Study  \\\n",
              "0                                          NaN                         NaN   \n",
              "1                                            -                           -   \n",
              "2                                            -                           -   \n",
              "3                                            -                           -   \n",
              "4                                            -                           -   \n",
              "\n",
              "  Contributing Factors. Travel Contributing Factors. Other  \\\n",
              "0                          NaN                         NaN   \n",
              "1                       Travel                           -   \n",
              "2                            -                           -   \n",
              "3                       Travel                           -   \n",
              "4                            -                           -   \n",
              "\n",
              "  Contributing Factors. NONE  \\\n",
              "0                        NaN   \n",
              "1                          -   \n",
              "2                       NONE   \n",
              "3                          -   \n",
              "4                          -   \n",
              "\n",
              "  Main Factor.     Which of these was the main factor for leaving?  \\\n",
              "0                                                NaN                 \n",
              "1                                                NaN                 \n",
              "2                                                NaN                 \n",
              "3                                                NaN                 \n",
              "4                                                NaN                 \n",
              "\n",
              "  InstituteViews. Topic:1. I feel the senior leadership had a clear vision and direction  \\\n",
              "0                                              Agree                                       \n",
              "1                                              Agree                                       \n",
              "2                                              Agree                                       \n",
              "3                                              Agree                                       \n",
              "4                                              Agree                                       \n",
              "\n",
              "  InstituteViews. Topic:2. I was given access to skills training to help me do my job better  \\\n",
              "0                                              Agree                                           \n",
              "1                                              Agree                                           \n",
              "2                                              Agree                                           \n",
              "3                                              Agree                                           \n",
              "4                                              Agree                                           \n",
              "\n",
              "  InstituteViews. Topic:3. I was given adequate opportunities for personal development  \\\n",
              "0                                              Agree                                     \n",
              "1                                              Agree                                     \n",
              "2                                              Agree                                     \n",
              "3                                              Agree                                     \n",
              "4                                     Strongly Agree                                     \n",
              "\n",
              "  InstituteViews. Topic:4. I was given adequate opportunities for promotion within %Institute]Q25LBL%  \\\n",
              "0                                            Neutral                                                    \n",
              "1                                              Agree                                                    \n",
              "2                                              Agree                                                    \n",
              "3                                              Agree                                                    \n",
              "4                                              Agree                                                    \n",
              "\n",
              "  InstituteViews. Topic:5. I felt the salary for the job was right for the responsibilities I had  \\\n",
              "0                                              Agree                                                \n",
              "1                                              Agree                                                \n",
              "2                                              Agree                                                \n",
              "3                                              Agree                                                \n",
              "4                                     Strongly Agree                                                \n",
              "\n",
              "  InstituteViews. Topic:6. The organisation recognised when staff did good work  \\\n",
              "0                                              Agree                              \n",
              "1                                     Strongly Agree                              \n",
              "2                                              Agree                              \n",
              "3                                              Agree                              \n",
              "4                                     Strongly Agree                              \n",
              "\n",
              "  InstituteViews. Topic:7. Management was generally supportive of me  \\\n",
              "0                                              Agree                   \n",
              "1                                     Strongly Agree                   \n",
              "2                                     Strongly Agree                   \n",
              "3                                              Agree                   \n",
              "4                                     Strongly Agree                   \n",
              "\n",
              "  InstituteViews. Topic:8. Management was generally supportive of my team  \\\n",
              "0                                              Agree                        \n",
              "1                                              Agree                        \n",
              "2                                              Agree                        \n",
              "3                                              Agree                        \n",
              "4                                     Strongly Agree                        \n",
              "\n",
              "  InstituteViews. Topic:9. I was kept informed of the changes in the organisation which would affect me  \\\n",
              "0                                              Agree                                                      \n",
              "1                                     Strongly Agree                                                      \n",
              "2                                              Agree                                                      \n",
              "3                                              Agree                                                      \n",
              "4                                              Agree                                                      \n",
              "\n",
              "  InstituteViews. Topic:10. Staff morale was positive within the Institute  \\\n",
              "0                                              Agree                         \n",
              "1                                              Agree                         \n",
              "2                                              Agree                         \n",
              "3                                              Agree                         \n",
              "4                                     Strongly Agree                         \n",
              "\n",
              "  InstituteViews. Topic:11. If I had a workplace issue it was dealt with quickly  \\\n",
              "0                                              Agree                               \n",
              "1                                              Agree                               \n",
              "2                                              Agree                               \n",
              "3                                              Agree                               \n",
              "4                                     Strongly Agree                               \n",
              "\n",
              "  InstituteViews. Topic:12. If I had a workplace issue it was dealt with efficiently  \\\n",
              "0                                              Agree                                   \n",
              "1                                              Agree                                   \n",
              "2                                            Neutral                                   \n",
              "3                                              Agree                                   \n",
              "4                                              Agree                                   \n",
              "\n",
              "  InstituteViews. Topic:13. If I had a workplace issue it was dealt with discreetly  \\\n",
              "0                                              Agree                                  \n",
              "1                                           Disagree                                  \n",
              "2                                            Neutral                                  \n",
              "3                                              Agree                                  \n",
              "4                                     Strongly Agree                                  \n",
              "\n",
              "  WorkUnitViews. Topic:14. I was satisfied with the quality of the management and supervision within my work unit  \\\n",
              "0                                              Agree                                                                \n",
              "1                                     Strongly Agree                                                                \n",
              "2                                     Strongly Agree                                                                \n",
              "3                                     Strongly Agree                                                                \n",
              "4                                     Strongly Agree                                                                \n",
              "\n",
              "  WorkUnitViews. Topic:15. I worked well with my colleagues  \\\n",
              "0                                              Agree          \n",
              "1                                     Strongly Agree          \n",
              "2                                     Strongly Agree          \n",
              "3                                     Strongly Agree          \n",
              "4                                     Strongly Agree          \n",
              "\n",
              "  WorkUnitViews. Topic:16. My job was challenging and interesting  \\\n",
              "0                                              Agree                \n",
              "1                                     Strongly Agree                \n",
              "2                                              Agree                \n",
              "3                                     Strongly Agree                \n",
              "4                                     Strongly Agree                \n",
              "\n",
              "  WorkUnitViews. Topic:17. I was encouraged to use my initiative in the course of my work  \\\n",
              "0                                     Strongly Agree                                        \n",
              "1                                              Agree                                        \n",
              "2                                              Agree                                        \n",
              "3                                     Strongly Agree                                        \n",
              "4                                     Strongly Agree                                        \n",
              "\n",
              "  WorkUnitViews. Topic:18. I had sufficient contact with other people in my job  \\\n",
              "0                                              Agree                              \n",
              "1                                              Agree                              \n",
              "2                                              Agree                              \n",
              "3                                     Strongly Agree                              \n",
              "4                                     Strongly Agree                              \n",
              "\n",
              "  WorkUnitViews. Topic:19. I was given adequate support and co-operation by my peers to enable me to do my job  \\\n",
              "0                                              Agree                                                             \n",
              "1                                              Agree                                                             \n",
              "2                                              Agree                                                             \n",
              "3                                     Strongly Agree                                                             \n",
              "4                                     Strongly Agree                                                             \n",
              "\n",
              "  WorkUnitViews. Topic:20. I was able to use the full range of my skills in my job  \\\n",
              "0                                              Agree                                 \n",
              "1                                     Strongly Agree                                 \n",
              "2                                              Agree                                 \n",
              "3                                     Strongly Agree                                 \n",
              "4                                     Strongly Agree                                 \n",
              "\n",
              "  WorkUnitViews. Topic:21. I was able to use the full range of my abilities in my job. ; Category:Level of Agreement; Question:YOUR VIEWS ABOUT YOUR WORK UNIT]  \\\n",
              "0                                              Agree                                                                                                              \n",
              "1                                              Agree                                                                                                              \n",
              "2                                              Agree                                                                                                              \n",
              "3                                     Strongly Agree                                                                                                              \n",
              "4                                     Strongly Agree                                                                                                              \n",
              "\n",
              "  WorkUnitViews. Topic:22. I was able to use the full range of my knowledge in my job  \\\n",
              "0                                              Agree                                    \n",
              "1                                              Agree                                    \n",
              "2                                              Agree                                    \n",
              "3                                     Strongly Agree                                    \n",
              "4                                     Strongly Agree                                    \n",
              "\n",
              "  WorkUnitViews. Topic:23. My job provided sufficient variety  \\\n",
              "0                                              Agree            \n",
              "1                                              Agree            \n",
              "2                                              Agree            \n",
              "3                                     Strongly Agree            \n",
              "4                                     Strongly Agree            \n",
              "\n",
              "  WorkUnitViews. Topic:24. I was able to cope with the level of stress and pressure in my job  \\\n",
              "0                                              Agree                                            \n",
              "1                                     Strongly Agree                                            \n",
              "2                                              Agree                                            \n",
              "3                                     Strongly Agree                                            \n",
              "4                                     Strongly Agree                                            \n",
              "\n",
              "  WorkUnitViews. Topic:25. My job allowed me to balance the demands of work and family to my satisfaction  \\\n",
              "0                                              Agree                                                        \n",
              "1                                              Agree                                                        \n",
              "2                                              Agree                                                        \n",
              "3                                     Strongly Agree                                                        \n",
              "4                                     Strongly Agree                                                        \n",
              "\n",
              "  WorkUnitViews. Topic:26. My supervisor gave me adequate personal recognition and feedback on my performance  \\\n",
              "0                                              Agree                                                            \n",
              "1                                     Strongly Agree                                                            \n",
              "2                                              Agree                                                            \n",
              "3                                     Strongly Agree                                                            \n",
              "4                                     Strongly Agree                                                            \n",
              "\n",
              "  WorkUnitViews. Topic:27. My working environment was satisfactory e.g. sufficient space, good lighting, suitable seating and working area  \\\n",
              "0                                              Agree                                                                                         \n",
              "1                                     Strongly Agree                                                                                         \n",
              "2                                              Agree                                                                                         \n",
              "3                                     Strongly Agree                                                                                         \n",
              "4                                     Strongly Agree                                                                                         \n",
              "\n",
              "  WorkUnitViews. Topic:28. I was given the opportunity to mentor and coach others in order for me to pass on my skills and knowledge prior to my cessation date  \\\n",
              "0                                            Neutral                                                                                                              \n",
              "1                                              Agree                                                                                                              \n",
              "2                                              Agree                                                                                                              \n",
              "3                                     Strongly Agree                                                                                                              \n",
              "4                                     Strongly Agree                                                                                                              \n",
              "\n",
              "  WorkUnitViews. Topic:29. There was adequate communication between staff in my unit  \\\n",
              "0                                              Agree                                   \n",
              "1                                              Agree                                   \n",
              "2                                              Agree                                   \n",
              "3                                     Strongly Agree                                   \n",
              "4                                     Strongly Agree                                   \n",
              "\n",
              "  WorkUnitViews. Topic:30. Staff morale was positive within my work unit  \\\n",
              "0                                              Agree                       \n",
              "1                                     Strongly Agree                       \n",
              "2                                              Agree                       \n",
              "3                                     Strongly Agree                       \n",
              "4                                     Strongly Agree                       \n",
              "\n",
              "  Induction. Did you undertake Workplace Induction?  \\\n",
              "0                                               Yes   \n",
              "1                                                No   \n",
              "2                                                No   \n",
              "3                                               Yes   \n",
              "4                                               Yes   \n",
              "\n",
              "  InductionInfo. Topic:Did you undertake a Corporate Induction?  \\\n",
              "0                                                Yes              \n",
              "1                                                NaN              \n",
              "2                                                NaN              \n",
              "3                                                 No              \n",
              "4                                                Yes              \n",
              "\n",
              "  InductionInfo. Topic:Did you undertake a Institute Induction?  \\\n",
              "0                                                Yes              \n",
              "1                                                NaN              \n",
              "2                                                NaN              \n",
              "3                                                Yes              \n",
              "4                                                Yes              \n",
              "\n",
              "  InductionInfo. Topic: Did you undertake Team Induction?  \\\n",
              "0                                                Yes        \n",
              "1                                                NaN        \n",
              "2                                                NaN        \n",
              "3                                                Yes        \n",
              "4                                                Yes        \n",
              "\n",
              "  InductionInfo. Face to Face Topic:Did you undertake a Corporate Induction; Category:How it was conducted?  \\\n",
              "0                                       Face to Face                                                          \n",
              "1                                                NaN                                                          \n",
              "2                                                NaN                                                          \n",
              "3                                                  -                                                          \n",
              "4                                                  -                                                          \n",
              "\n",
              "  InductionInfo. On-line Topic:Did you undertake a Corporate Induction; Category:How it was conducted?  \\\n",
              "0                                                  -                                                     \n",
              "1                                                NaN                                                     \n",
              "2                                                NaN                                                     \n",
              "3                                                  -                                                     \n",
              "4                                                  -                                                     \n",
              "\n",
              "  InductionInfo. Induction Manual Topic:Did you undertake a Corporate Induction?  \\\n",
              "0                                                  -                               \n",
              "1                                                NaN                               \n",
              "2                                                NaN                               \n",
              "3                                                  -                               \n",
              "4                                   Induction Manual                               \n",
              "\n",
              "  InductionInfo. Face to Face Topic:Did you undertake a Institute Induction?  \\\n",
              "0                                       Face to Face                           \n",
              "1                                                NaN                           \n",
              "2                                                NaN                           \n",
              "3                                                NaN                           \n",
              "4                                       Face to Face                           \n",
              "\n",
              "  InductionInfo. On-line Topic:Did you undertake a Institute Induction?  \\\n",
              "0                                                  -                      \n",
              "1                                                NaN                      \n",
              "2                                                NaN                      \n",
              "3                                                  -                      \n",
              "4                                                  -                      \n",
              "\n",
              "  InductionInfo. Induction Manual Topic:Did you undertake a Institute Induction?  \\\n",
              "0                                                  -                               \n",
              "1                                                NaN                               \n",
              "2                                                NaN                               \n",
              "3                                                  -                               \n",
              "4                                                  -                               \n",
              "\n",
              "  InductionInfo. Face to Face Topic: Did you undertake Team Induction; Category?  \\\n",
              "0                                       Face to Face                               \n",
              "1                                                NaN                               \n",
              "2                                                NaN                               \n",
              "3                                                  -                               \n",
              "4                                       Face to Face                               \n",
              "\n",
              "  InductionInfo. On-line Topic: Did you undertake Team Induction?process you undertook and how it was conducted.]  \\\n",
              "0                                                  -                                                                \n",
              "1                                                NaN                                                                \n",
              "2                                                NaN                                                                \n",
              "3                                                  -                                                                \n",
              "4                                                  -                                                                \n",
              "\n",
              "  InductionInfo. Induction Manual Topic: Did you undertake Team Induction?  \\\n",
              "0                                                  -                         \n",
              "1                                                NaN                         \n",
              "2                                                NaN                         \n",
              "3                                                  -                         \n",
              "4                                                  -                         \n",
              "\n",
              "  Workplace. Topic:Did you and your Manager develop a Performance and Professional Development Plan (PPDP)?  \\\n",
              "0                                                Yes                                                          \n",
              "1                                                Yes                                                          \n",
              "2                                                Yes                                                          \n",
              "3                                                Yes                                                          \n",
              "4                                                Yes                                                          \n",
              "\n",
              "  Workplace. Topic:Does your workplace promote a work culture free from all forms of unlawful discrimination?  \\\n",
              "0                                                Yes                                                            \n",
              "1                                                Yes                                                            \n",
              "2                                                Yes                                                            \n",
              "3                                                Yes                                                            \n",
              "4                                                Yes                                                            \n",
              "\n",
              "  Workplace. Topic:Does your workplace promote and practice the principles of employment equity?  \\\n",
              "0                                                Yes                                               \n",
              "1                                                Yes                                               \n",
              "2                                                Yes                                               \n",
              "3                                                Yes                                               \n",
              "4                                                Yes                                               \n",
              "\n",
              "  Workplace. Topic:Does your workplace value the diversity of its employees?  \\\n",
              "0                                                Yes                           \n",
              "1                                                Yes                           \n",
              "2                                                Yes                           \n",
              "3                                                Yes                           \n",
              "4                                                Yes                           \n",
              "\n",
              "  Workplace. Topic:Would you recommend the Institute as an employer to others?  \\\n",
              "0                                                Yes                             \n",
              "1                                                Yes                             \n",
              "2                                                Yes                             \n",
              "3                                                Yes                             \n",
              "4                                                Yes                             \n",
              "\n",
              "  Gender.     What is your Gender? CurrentAge.     Current Age  \\\n",
              "0                           Female                     26  30   \n",
              "1                              NaN                         NaN   \n",
              "2                              NaN                         NaN   \n",
              "3                              NaN                         NaN   \n",
              "4                             Male                     41  45   \n",
              "\n",
              "  Employment Type.     Employment Type Classification.     Classification  \\\n",
              "0                  Temporary Full-time                Administration (AO)   \n",
              "1                                  NaN                                NaN   \n",
              "2                                  NaN                                NaN   \n",
              "3                                  NaN                                NaN   \n",
              "4                  Permanent Full-time            Teacher (including LVT)   \n",
              "\n",
              "  LengthofServiceOverall. Overall Length of Service at Institute (in years)  \\\n",
              "0                                                1-2                          \n",
              "1                                                NaN                          \n",
              "2                                                NaN                          \n",
              "3                                                NaN                          \n",
              "4                                                3-4                          \n",
              "\n",
              "  LengthofServiceCurrent. Length of Service at current workplace (in years)  \n",
              "0                                                1-2                         \n",
              "1                                                NaN                         \n",
              "2                                                NaN                         \n",
              "3                                                NaN                         \n",
              "4                                                3-4                         "
            ]
          },
          "metadata": {
            "tags": []
          },
          "execution_count": 88
        }
      ]
    },
    {
      "cell_type": "code",
      "metadata": {
        "id": "__xbvq8JyJHe",
        "outputId": "c05e9b43-312e-4722-ed3e-c2bdaf45e50f",
        "colab": {
          "base_uri": "https://localhost:8080/",
          "height": 1000
        }
      },
      "source": [
        "tafe_survey.info()"
      ],
      "execution_count": 89,
      "outputs": [
        {
          "output_type": "stream",
          "text": [
            "<class 'pandas.core.frame.DataFrame'>\n",
            "RangeIndex: 702 entries, 0 to 701\n",
            "Data columns (total 72 columns):\n",
            " #   Column                                                                                                                                                         Non-Null Count  Dtype  \n",
            "---  ------                                                                                                                                                         --------------  -----  \n",
            " 0   Record ID                                                                                                                                                      702 non-null    int64  \n",
            " 1   Institute                                                                                                                                                      702 non-null    object \n",
            " 2   WorkArea                                                                                                                                                       702 non-null    object \n",
            " 3   CESSATION YEAR                                                                                                                                                 695 non-null    float64\n",
            " 4   Reason for ceasing employment                                                                                                                                  701 non-null    object \n",
            " 5   Contributing Factors. Career Move - Public Sector                                                                                                              437 non-null    object \n",
            " 6   Contributing Factors. Career Move - Private Sector                                                                                                             437 non-null    object \n",
            " 7   Contributing Factors. Career Move - Self-employment                                                                                                            437 non-null    object \n",
            " 8   Contributing Factors. Ill Health                                                                                                                               437 non-null    object \n",
            " 9   Contributing Factors. Maternity/Family                                                                                                                         437 non-null    object \n",
            " 10  Contributing Factors. Dissatisfaction                                                                                                                          437 non-null    object \n",
            " 11  Contributing Factors. Job Dissatisfaction                                                                                                                      437 non-null    object \n",
            " 12  Contributing Factors. Interpersonal Conflict                                                                                                                   437 non-null    object \n",
            " 13  Contributing Factors. Study                                                                                                                                    437 non-null    object \n",
            " 14  Contributing Factors. Travel                                                                                                                                   437 non-null    object \n",
            " 15  Contributing Factors. Other                                                                                                                                    437 non-null    object \n",
            " 16  Contributing Factors. NONE                                                                                                                                     437 non-null    object \n",
            " 17  Main Factor.     Which of these was the main factor for leaving?                                                                                               113 non-null    object \n",
            " 18  InstituteViews. Topic:1. I feel the senior leadership had a clear vision and direction                                                                         608 non-null    object \n",
            " 19  InstituteViews. Topic:2. I was given access to skills training to help me do my job better                                                                     613 non-null    object \n",
            " 20  InstituteViews. Topic:3. I was given adequate opportunities for personal development                                                                           610 non-null    object \n",
            " 21  InstituteViews. Topic:4. I was given adequate opportunities for promotion within %Institute]Q25LBL%                                                            608 non-null    object \n",
            " 22  InstituteViews. Topic:5. I felt the salary for the job was right for the responsibilities I had                                                                615 non-null    object \n",
            " 23  InstituteViews. Topic:6. The organisation recognised when staff did good work                                                                                  607 non-null    object \n",
            " 24  InstituteViews. Topic:7. Management was generally supportive of me                                                                                             614 non-null    object \n",
            " 25  InstituteViews. Topic:8. Management was generally supportive of my team                                                                                        608 non-null    object \n",
            " 26  InstituteViews. Topic:9. I was kept informed of the changes in the organisation which would affect me                                                          610 non-null    object \n",
            " 27  InstituteViews. Topic:10. Staff morale was positive within the Institute                                                                                       602 non-null    object \n",
            " 28  InstituteViews. Topic:11. If I had a workplace issue it was dealt with quickly                                                                                 601 non-null    object \n",
            " 29  InstituteViews. Topic:12. If I had a workplace issue it was dealt with efficiently                                                                             597 non-null    object \n",
            " 30  InstituteViews. Topic:13. If I had a workplace issue it was dealt with discreetly                                                                              601 non-null    object \n",
            " 31  WorkUnitViews. Topic:14. I was satisfied with the quality of the management and supervision within my work unit                                                609 non-null    object \n",
            " 32  WorkUnitViews. Topic:15. I worked well with my colleagues                                                                                                      605 non-null    object \n",
            " 33  WorkUnitViews. Topic:16. My job was challenging and interesting                                                                                                607 non-null    object \n",
            " 34  WorkUnitViews. Topic:17. I was encouraged to use my initiative in the course of my work                                                                        610 non-null    object \n",
            " 35  WorkUnitViews. Topic:18. I had sufficient contact with other people in my job                                                                                  613 non-null    object \n",
            " 36  WorkUnitViews. Topic:19. I was given adequate support and co-operation by my peers to enable me to do my job                                                   609 non-null    object \n",
            " 37  WorkUnitViews. Topic:20. I was able to use the full range of my skills in my job                                                                               609 non-null    object \n",
            " 38  WorkUnitViews. Topic:21. I was able to use the full range of my abilities in my job. ; Category:Level of Agreement; Question:YOUR VIEWS ABOUT YOUR WORK UNIT]  608 non-null    object \n",
            " 39  WorkUnitViews. Topic:22. I was able to use the full range of my knowledge in my job                                                                            608 non-null    object \n",
            " 40  WorkUnitViews. Topic:23. My job provided sufficient variety                                                                                                    611 non-null    object \n",
            " 41  WorkUnitViews. Topic:24. I was able to cope with the level of stress and pressure in my job                                                                    610 non-null    object \n",
            " 42  WorkUnitViews. Topic:25. My job allowed me to balance the demands of work and family to my satisfaction                                                        611 non-null    object \n",
            " 43  WorkUnitViews. Topic:26. My supervisor gave me adequate personal recognition and feedback on my performance                                                    606 non-null    object \n",
            " 44  WorkUnitViews. Topic:27. My working environment was satisfactory e.g. sufficient space, good lighting, suitable seating and working area                       610 non-null    object \n",
            " 45  WorkUnitViews. Topic:28. I was given the opportunity to mentor and coach others in order for me to pass on my skills and knowledge prior to my cessation date  609 non-null    object \n",
            " 46  WorkUnitViews. Topic:29. There was adequate communication between staff in my unit                                                                             603 non-null    object \n",
            " 47  WorkUnitViews. Topic:30. Staff morale was positive within my work unit                                                                                         606 non-null    object \n",
            " 48  Induction. Did you undertake Workplace Induction?                                                                                                              619 non-null    object \n",
            " 49  InductionInfo. Topic:Did you undertake a Corporate Induction?                                                                                                  432 non-null    object \n",
            " 50  InductionInfo. Topic:Did you undertake a Institute Induction?                                                                                                  483 non-null    object \n",
            " 51  InductionInfo. Topic: Did you undertake Team Induction?                                                                                                        440 non-null    object \n",
            " 52  InductionInfo. Face to Face Topic:Did you undertake a Corporate Induction; Category:How it was conducted?                                                      555 non-null    object \n",
            " 53  InductionInfo. On-line Topic:Did you undertake a Corporate Induction; Category:How it was conducted?                                                           555 non-null    object \n",
            " 54  InductionInfo. Induction Manual Topic:Did you undertake a Corporate Induction?                                                                                 555 non-null    object \n",
            " 55  InductionInfo. Face to Face Topic:Did you undertake a Institute Induction?                                                                                     530 non-null    object \n",
            " 56  InductionInfo. On-line Topic:Did you undertake a Institute Induction?                                                                                          555 non-null    object \n",
            " 57  InductionInfo. Induction Manual Topic:Did you undertake a Institute Induction?                                                                                 553 non-null    object \n",
            " 58  InductionInfo. Face to Face Topic: Did you undertake Team Induction; Category?                                                                                 555 non-null    object \n",
            " 59  InductionInfo. On-line Topic: Did you undertake Team Induction?process you undertook and how it was conducted.]                                                555 non-null    object \n",
            " 60  InductionInfo. Induction Manual Topic: Did you undertake Team Induction?                                                                                       555 non-null    object \n",
            " 61  Workplace. Topic:Did you and your Manager develop a Performance and Professional Development Plan (PPDP)?                                                      608 non-null    object \n",
            " 62  Workplace. Topic:Does your workplace promote a work culture free from all forms of unlawful discrimination?                                                    594 non-null    object \n",
            " 63  Workplace. Topic:Does your workplace promote and practice the principles of employment equity?                                                                 587 non-null    object \n",
            " 64  Workplace. Topic:Does your workplace value the diversity of its employees?                                                                                     586 non-null    object \n",
            " 65  Workplace. Topic:Would you recommend the Institute as an employer to others?                                                                                   581 non-null    object \n",
            " 66  Gender.     What is your Gender?                                                                                                                               596 non-null    object \n",
            " 67  CurrentAge.     Current Age                                                                                                                                    596 non-null    object \n",
            " 68  Employment Type.     Employment Type                                                                                                                           596 non-null    object \n",
            " 69  Classification.     Classification                                                                                                                             596 non-null    object \n",
            " 70  LengthofServiceOverall. Overall Length of Service at Institute (in years)                                                                                      596 non-null    object \n",
            " 71  LengthofServiceCurrent. Length of Service at current workplace (in years)                                                                                      596 non-null    object \n",
            "dtypes: float64(1), int64(1), object(70)\n",
            "memory usage: 395.0+ KB\n"
          ],
          "name": "stdout"
        }
      ]
    },
    {
      "cell_type": "markdown",
      "metadata": {
        "id": "TXF36O6fyVu9"
      },
      "source": [
        "# Identify Missing Values and Drop Unneccessary Columns\n"
      ]
    },
    {
      "cell_type": "code",
      "metadata": {
        "id": "77WXbVVpyJHj"
      },
      "source": [
        "dete_survey = pd.read_csv(path , na_values='Not Stated')\n"
      ],
      "execution_count": 90,
      "outputs": []
    },
    {
      "cell_type": "code",
      "metadata": {
        "id": "r9ueYFNvyJHm",
        "outputId": "ee7ba4c3-d3c6-4e54-d8c4-d76c96ec2945",
        "colab": {
          "base_uri": "https://localhost:8080/",
          "height": 471
        }
      },
      "source": [
        "dete_survey.head()"
      ],
      "execution_count": 91,
      "outputs": [
        {
          "output_type": "execute_result",
          "data": {
            "text/html": [
              "<div>\n",
              "<style scoped>\n",
              "    .dataframe tbody tr th:only-of-type {\n",
              "        vertical-align: middle;\n",
              "    }\n",
              "\n",
              "    .dataframe tbody tr th {\n",
              "        vertical-align: top;\n",
              "    }\n",
              "\n",
              "    .dataframe thead th {\n",
              "        text-align: right;\n",
              "    }\n",
              "</style>\n",
              "<table border=\"1\" class=\"dataframe\">\n",
              "  <thead>\n",
              "    <tr style=\"text-align: right;\">\n",
              "      <th></th>\n",
              "      <th>ID</th>\n",
              "      <th>SeparationType</th>\n",
              "      <th>Cease Date</th>\n",
              "      <th>DETE Start Date</th>\n",
              "      <th>Role Start Date</th>\n",
              "      <th>Position</th>\n",
              "      <th>Classification</th>\n",
              "      <th>Region</th>\n",
              "      <th>Business Unit</th>\n",
              "      <th>Employment Status</th>\n",
              "      <th>Career move to public sector</th>\n",
              "      <th>Career move to private sector</th>\n",
              "      <th>Interpersonal conflicts</th>\n",
              "      <th>Job dissatisfaction</th>\n",
              "      <th>Dissatisfaction with the department</th>\n",
              "      <th>Physical work environment</th>\n",
              "      <th>Lack of recognition</th>\n",
              "      <th>Lack of job security</th>\n",
              "      <th>Work location</th>\n",
              "      <th>Employment conditions</th>\n",
              "      <th>Maternity/family</th>\n",
              "      <th>Relocation</th>\n",
              "      <th>Study/Travel</th>\n",
              "      <th>Ill Health</th>\n",
              "      <th>Traumatic incident</th>\n",
              "      <th>Work life balance</th>\n",
              "      <th>Workload</th>\n",
              "      <th>None of the above</th>\n",
              "      <th>Professional Development</th>\n",
              "      <th>Opportunities for promotion</th>\n",
              "      <th>Staff morale</th>\n",
              "      <th>Workplace issue</th>\n",
              "      <th>Physical environment</th>\n",
              "      <th>Worklife balance</th>\n",
              "      <th>Stress and pressure support</th>\n",
              "      <th>Performance of supervisor</th>\n",
              "      <th>Peer support</th>\n",
              "      <th>Initiative</th>\n",
              "      <th>Skills</th>\n",
              "      <th>Coach</th>\n",
              "      <th>Career Aspirations</th>\n",
              "      <th>Feedback</th>\n",
              "      <th>Further PD</th>\n",
              "      <th>Communication</th>\n",
              "      <th>My say</th>\n",
              "      <th>Information</th>\n",
              "      <th>Kept informed</th>\n",
              "      <th>Wellness programs</th>\n",
              "      <th>Health &amp; Safety</th>\n",
              "      <th>Gender</th>\n",
              "      <th>Age</th>\n",
              "      <th>Aboriginal</th>\n",
              "      <th>Torres Strait</th>\n",
              "      <th>South Sea</th>\n",
              "      <th>Disability</th>\n",
              "      <th>NESB</th>\n",
              "    </tr>\n",
              "  </thead>\n",
              "  <tbody>\n",
              "    <tr>\n",
              "      <th>0</th>\n",
              "      <td>1</td>\n",
              "      <td>Ill Health Retirement</td>\n",
              "      <td>08/2012</td>\n",
              "      <td>1984.0</td>\n",
              "      <td>2004.0</td>\n",
              "      <td>Public Servant</td>\n",
              "      <td>A01-A04</td>\n",
              "      <td>Central Office</td>\n",
              "      <td>Corporate Strategy and Peformance</td>\n",
              "      <td>Permanent Full-time</td>\n",
              "      <td>True</td>\n",
              "      <td>False</td>\n",
              "      <td>False</td>\n",
              "      <td>True</td>\n",
              "      <td>False</td>\n",
              "      <td>False</td>\n",
              "      <td>True</td>\n",
              "      <td>False</td>\n",
              "      <td>False</td>\n",
              "      <td>False</td>\n",
              "      <td>False</td>\n",
              "      <td>False</td>\n",
              "      <td>False</td>\n",
              "      <td>False</td>\n",
              "      <td>False</td>\n",
              "      <td>False</td>\n",
              "      <td>False</td>\n",
              "      <td>True</td>\n",
              "      <td>A</td>\n",
              "      <td>A</td>\n",
              "      <td>N</td>\n",
              "      <td>N</td>\n",
              "      <td>N</td>\n",
              "      <td>A</td>\n",
              "      <td>A</td>\n",
              "      <td>A</td>\n",
              "      <td>A</td>\n",
              "      <td>N</td>\n",
              "      <td>N</td>\n",
              "      <td>N</td>\n",
              "      <td>A</td>\n",
              "      <td>A</td>\n",
              "      <td>A</td>\n",
              "      <td>N</td>\n",
              "      <td>A</td>\n",
              "      <td>A</td>\n",
              "      <td>N</td>\n",
              "      <td>N</td>\n",
              "      <td>N</td>\n",
              "      <td>Male</td>\n",
              "      <td>56-60</td>\n",
              "      <td>NaN</td>\n",
              "      <td>NaN</td>\n",
              "      <td>NaN</td>\n",
              "      <td>NaN</td>\n",
              "      <td>Yes</td>\n",
              "    </tr>\n",
              "    <tr>\n",
              "      <th>1</th>\n",
              "      <td>2</td>\n",
              "      <td>Voluntary Early Retirement (VER)</td>\n",
              "      <td>08/2012</td>\n",
              "      <td>NaN</td>\n",
              "      <td>NaN</td>\n",
              "      <td>Public Servant</td>\n",
              "      <td>AO5-AO7</td>\n",
              "      <td>Central Office</td>\n",
              "      <td>Corporate Strategy and Peformance</td>\n",
              "      <td>Permanent Full-time</td>\n",
              "      <td>False</td>\n",
              "      <td>False</td>\n",
              "      <td>False</td>\n",
              "      <td>False</td>\n",
              "      <td>False</td>\n",
              "      <td>False</td>\n",
              "      <td>False</td>\n",
              "      <td>False</td>\n",
              "      <td>False</td>\n",
              "      <td>False</td>\n",
              "      <td>False</td>\n",
              "      <td>False</td>\n",
              "      <td>False</td>\n",
              "      <td>False</td>\n",
              "      <td>False</td>\n",
              "      <td>False</td>\n",
              "      <td>False</td>\n",
              "      <td>False</td>\n",
              "      <td>A</td>\n",
              "      <td>A</td>\n",
              "      <td>N</td>\n",
              "      <td>N</td>\n",
              "      <td>N</td>\n",
              "      <td>N</td>\n",
              "      <td>A</td>\n",
              "      <td>A</td>\n",
              "      <td>A</td>\n",
              "      <td>N</td>\n",
              "      <td>N</td>\n",
              "      <td>N</td>\n",
              "      <td>A</td>\n",
              "      <td>A</td>\n",
              "      <td>A</td>\n",
              "      <td>N</td>\n",
              "      <td>A</td>\n",
              "      <td>A</td>\n",
              "      <td>N</td>\n",
              "      <td>N</td>\n",
              "      <td>N</td>\n",
              "      <td>Male</td>\n",
              "      <td>56-60</td>\n",
              "      <td>NaN</td>\n",
              "      <td>NaN</td>\n",
              "      <td>NaN</td>\n",
              "      <td>NaN</td>\n",
              "      <td>NaN</td>\n",
              "    </tr>\n",
              "    <tr>\n",
              "      <th>2</th>\n",
              "      <td>3</td>\n",
              "      <td>Voluntary Early Retirement (VER)</td>\n",
              "      <td>05/2012</td>\n",
              "      <td>2011.0</td>\n",
              "      <td>2011.0</td>\n",
              "      <td>Schools Officer</td>\n",
              "      <td>NaN</td>\n",
              "      <td>Central Office</td>\n",
              "      <td>Education Queensland</td>\n",
              "      <td>Permanent Full-time</td>\n",
              "      <td>False</td>\n",
              "      <td>False</td>\n",
              "      <td>False</td>\n",
              "      <td>False</td>\n",
              "      <td>False</td>\n",
              "      <td>False</td>\n",
              "      <td>False</td>\n",
              "      <td>False</td>\n",
              "      <td>False</td>\n",
              "      <td>False</td>\n",
              "      <td>False</td>\n",
              "      <td>False</td>\n",
              "      <td>False</td>\n",
              "      <td>False</td>\n",
              "      <td>False</td>\n",
              "      <td>False</td>\n",
              "      <td>False</td>\n",
              "      <td>True</td>\n",
              "      <td>N</td>\n",
              "      <td>N</td>\n",
              "      <td>N</td>\n",
              "      <td>N</td>\n",
              "      <td>N</td>\n",
              "      <td>N</td>\n",
              "      <td>N</td>\n",
              "      <td>N</td>\n",
              "      <td>N</td>\n",
              "      <td>N</td>\n",
              "      <td>N</td>\n",
              "      <td>N</td>\n",
              "      <td>N</td>\n",
              "      <td>N</td>\n",
              "      <td>N</td>\n",
              "      <td>A</td>\n",
              "      <td>A</td>\n",
              "      <td>N</td>\n",
              "      <td>N</td>\n",
              "      <td>N</td>\n",
              "      <td>N</td>\n",
              "      <td>Male</td>\n",
              "      <td>61 or older</td>\n",
              "      <td>NaN</td>\n",
              "      <td>NaN</td>\n",
              "      <td>NaN</td>\n",
              "      <td>NaN</td>\n",
              "      <td>NaN</td>\n",
              "    </tr>\n",
              "    <tr>\n",
              "      <th>3</th>\n",
              "      <td>4</td>\n",
              "      <td>Resignation-Other reasons</td>\n",
              "      <td>05/2012</td>\n",
              "      <td>2005.0</td>\n",
              "      <td>2006.0</td>\n",
              "      <td>Teacher</td>\n",
              "      <td>Primary</td>\n",
              "      <td>Central Queensland</td>\n",
              "      <td>NaN</td>\n",
              "      <td>Permanent Full-time</td>\n",
              "      <td>False</td>\n",
              "      <td>True</td>\n",
              "      <td>False</td>\n",
              "      <td>False</td>\n",
              "      <td>False</td>\n",
              "      <td>False</td>\n",
              "      <td>False</td>\n",
              "      <td>False</td>\n",
              "      <td>False</td>\n",
              "      <td>False</td>\n",
              "      <td>False</td>\n",
              "      <td>False</td>\n",
              "      <td>False</td>\n",
              "      <td>False</td>\n",
              "      <td>False</td>\n",
              "      <td>False</td>\n",
              "      <td>False</td>\n",
              "      <td>False</td>\n",
              "      <td>A</td>\n",
              "      <td>N</td>\n",
              "      <td>N</td>\n",
              "      <td>N</td>\n",
              "      <td>A</td>\n",
              "      <td>A</td>\n",
              "      <td>N</td>\n",
              "      <td>N</td>\n",
              "      <td>A</td>\n",
              "      <td>A</td>\n",
              "      <td>A</td>\n",
              "      <td>A</td>\n",
              "      <td>A</td>\n",
              "      <td>A</td>\n",
              "      <td>A</td>\n",
              "      <td>A</td>\n",
              "      <td>A</td>\n",
              "      <td>A</td>\n",
              "      <td>A</td>\n",
              "      <td>N</td>\n",
              "      <td>A</td>\n",
              "      <td>Female</td>\n",
              "      <td>36-40</td>\n",
              "      <td>NaN</td>\n",
              "      <td>NaN</td>\n",
              "      <td>NaN</td>\n",
              "      <td>NaN</td>\n",
              "      <td>NaN</td>\n",
              "    </tr>\n",
              "    <tr>\n",
              "      <th>4</th>\n",
              "      <td>5</td>\n",
              "      <td>Age Retirement</td>\n",
              "      <td>05/2012</td>\n",
              "      <td>1970.0</td>\n",
              "      <td>1989.0</td>\n",
              "      <td>Head of Curriculum/Head of Special Education</td>\n",
              "      <td>NaN</td>\n",
              "      <td>South East</td>\n",
              "      <td>NaN</td>\n",
              "      <td>Permanent Full-time</td>\n",
              "      <td>False</td>\n",
              "      <td>False</td>\n",
              "      <td>False</td>\n",
              "      <td>False</td>\n",
              "      <td>False</td>\n",
              "      <td>False</td>\n",
              "      <td>False</td>\n",
              "      <td>False</td>\n",
              "      <td>False</td>\n",
              "      <td>False</td>\n",
              "      <td>False</td>\n",
              "      <td>False</td>\n",
              "      <td>False</td>\n",
              "      <td>False</td>\n",
              "      <td>False</td>\n",
              "      <td>True</td>\n",
              "      <td>False</td>\n",
              "      <td>False</td>\n",
              "      <td>A</td>\n",
              "      <td>A</td>\n",
              "      <td>N</td>\n",
              "      <td>N</td>\n",
              "      <td>D</td>\n",
              "      <td>D</td>\n",
              "      <td>N</td>\n",
              "      <td>A</td>\n",
              "      <td>A</td>\n",
              "      <td>A</td>\n",
              "      <td>A</td>\n",
              "      <td>A</td>\n",
              "      <td>A</td>\n",
              "      <td>SA</td>\n",
              "      <td>SA</td>\n",
              "      <td>D</td>\n",
              "      <td>D</td>\n",
              "      <td>A</td>\n",
              "      <td>N</td>\n",
              "      <td>A</td>\n",
              "      <td>M</td>\n",
              "      <td>Female</td>\n",
              "      <td>61 or older</td>\n",
              "      <td>NaN</td>\n",
              "      <td>NaN</td>\n",
              "      <td>NaN</td>\n",
              "      <td>NaN</td>\n",
              "      <td>NaN</td>\n",
              "    </tr>\n",
              "  </tbody>\n",
              "</table>\n",
              "</div>"
            ],
            "text/plain": [
              "   ID                    SeparationType Cease Date  DETE Start Date  \\\n",
              "0   1             Ill Health Retirement    08/2012           1984.0   \n",
              "1   2  Voluntary Early Retirement (VER)    08/2012              NaN   \n",
              "2   3  Voluntary Early Retirement (VER)    05/2012           2011.0   \n",
              "3   4         Resignation-Other reasons    05/2012           2005.0   \n",
              "4   5                    Age Retirement    05/2012           1970.0   \n",
              "\n",
              "   Role Start Date                                      Position  \\\n",
              "0           2004.0                                Public Servant   \n",
              "1              NaN                                Public Servant   \n",
              "2           2011.0                               Schools Officer   \n",
              "3           2006.0                                       Teacher   \n",
              "4           1989.0  Head of Curriculum/Head of Special Education   \n",
              "\n",
              "  Classification              Region                      Business Unit  \\\n",
              "0        A01-A04      Central Office  Corporate Strategy and Peformance   \n",
              "1        AO5-AO7      Central Office  Corporate Strategy and Peformance   \n",
              "2            NaN      Central Office               Education Queensland   \n",
              "3        Primary  Central Queensland                                NaN   \n",
              "4            NaN          South East                                NaN   \n",
              "\n",
              "     Employment Status  Career move to public sector  \\\n",
              "0  Permanent Full-time                          True   \n",
              "1  Permanent Full-time                         False   \n",
              "2  Permanent Full-time                         False   \n",
              "3  Permanent Full-time                         False   \n",
              "4  Permanent Full-time                         False   \n",
              "\n",
              "   Career move to private sector  Interpersonal conflicts  \\\n",
              "0                          False                    False   \n",
              "1                          False                    False   \n",
              "2                          False                    False   \n",
              "3                           True                    False   \n",
              "4                          False                    False   \n",
              "\n",
              "   Job dissatisfaction  Dissatisfaction with the department  \\\n",
              "0                 True                                False   \n",
              "1                False                                False   \n",
              "2                False                                False   \n",
              "3                False                                False   \n",
              "4                False                                False   \n",
              "\n",
              "   Physical work environment  Lack of recognition  Lack of job security  \\\n",
              "0                      False                 True                 False   \n",
              "1                      False                False                 False   \n",
              "2                      False                False                 False   \n",
              "3                      False                False                 False   \n",
              "4                      False                False                 False   \n",
              "\n",
              "   Work location  Employment conditions  Maternity/family  Relocation  \\\n",
              "0          False                  False             False       False   \n",
              "1          False                  False             False       False   \n",
              "2          False                  False             False       False   \n",
              "3          False                  False             False       False   \n",
              "4          False                  False             False       False   \n",
              "\n",
              "   Study/Travel  Ill Health  Traumatic incident  Work life balance  Workload  \\\n",
              "0         False       False               False              False     False   \n",
              "1         False       False               False              False     False   \n",
              "2         False       False               False              False     False   \n",
              "3         False       False               False              False     False   \n",
              "4         False       False               False               True     False   \n",
              "\n",
              "   None of the above Professional Development Opportunities for promotion  \\\n",
              "0               True                        A                           A   \n",
              "1              False                        A                           A   \n",
              "2               True                        N                           N   \n",
              "3              False                        A                           N   \n",
              "4              False                        A                           A   \n",
              "\n",
              "  Staff morale Workplace issue Physical environment Worklife balance  \\\n",
              "0            N               N                    N                A   \n",
              "1            N               N                    N                N   \n",
              "2            N               N                    N                N   \n",
              "3            N               N                    A                A   \n",
              "4            N               N                    D                D   \n",
              "\n",
              "  Stress and pressure support Performance of supervisor Peer support  \\\n",
              "0                           A                         A            A   \n",
              "1                           A                         A            A   \n",
              "2                           N                         N            N   \n",
              "3                           N                         N            A   \n",
              "4                           N                         A            A   \n",
              "\n",
              "  Initiative Skills Coach Career Aspirations Feedback Further PD  \\\n",
              "0          N      N     N                  A        A          A   \n",
              "1          N      N     N                  A        A          A   \n",
              "2          N      N     N                  N        N          N   \n",
              "3          A      A     A                  A        A          A   \n",
              "4          A      A     A                  A       SA         SA   \n",
              "\n",
              "  Communication My say Information Kept informed Wellness programs  \\\n",
              "0             N      A           A             N                 N   \n",
              "1             N      A           A             N                 N   \n",
              "2             A      A           N             N                 N   \n",
              "3             A      A           A             A                 N   \n",
              "4             D      D           A             N                 A   \n",
              "\n",
              "  Health & Safety  Gender          Age Aboriginal Torres Strait South Sea  \\\n",
              "0               N    Male        56-60        NaN           NaN       NaN   \n",
              "1               N    Male        56-60        NaN           NaN       NaN   \n",
              "2               N    Male  61 or older        NaN           NaN       NaN   \n",
              "3               A  Female        36-40        NaN           NaN       NaN   \n",
              "4               M  Female  61 or older        NaN           NaN       NaN   \n",
              "\n",
              "  Disability NESB  \n",
              "0        NaN  Yes  \n",
              "1        NaN  NaN  \n",
              "2        NaN  NaN  \n",
              "3        NaN  NaN  \n",
              "4        NaN  NaN  "
            ]
          },
          "metadata": {
            "tags": []
          },
          "execution_count": 91
        }
      ]
    },
    {
      "cell_type": "code",
      "metadata": {
        "id": "BptO3ArNyJHo",
        "outputId": "4bccbde4-11e8-479e-821b-3b92e45c92e8",
        "colab": {
          "base_uri": "https://localhost:8080/",
          "height": 212
        }
      },
      "source": [
        "dete_survey_updated = dete_survey.drop(dete_survey.columns[28:49], axis=1)\n",
        "print(dete_survey_updated.columns)"
      ],
      "execution_count": 92,
      "outputs": [
        {
          "output_type": "stream",
          "text": [
            "Index(['ID', 'SeparationType', 'Cease Date', 'DETE Start Date',\n",
            "       'Role Start Date', 'Position', 'Classification', 'Region',\n",
            "       'Business Unit', 'Employment Status', 'Career move to public sector',\n",
            "       'Career move to private sector', 'Interpersonal conflicts',\n",
            "       'Job dissatisfaction', 'Dissatisfaction with the department',\n",
            "       'Physical work environment', 'Lack of recognition',\n",
            "       'Lack of job security', 'Work location', 'Employment conditions',\n",
            "       'Maternity/family', 'Relocation', 'Study/Travel', 'Ill Health',\n",
            "       'Traumatic incident', 'Work life balance', 'Workload',\n",
            "       'None of the above', 'Gender', 'Age', 'Aboriginal', 'Torres Strait',\n",
            "       'South Sea', 'Disability', 'NESB'],\n",
            "      dtype='object')\n"
          ],
          "name": "stdout"
        }
      ]
    },
    {
      "cell_type": "code",
      "metadata": {
        "id": "HaO7cW_ayJHq",
        "outputId": "73914cfe-90e7-4fff-dba0-dfcf3f73ddc2",
        "colab": {
          "base_uri": "https://localhost:8080/",
          "height": 310
        }
      },
      "source": [
        "tafe_survey_updated = tafe_survey.drop(tafe_survey.columns[17:66], axis=1)\n",
        "print(tafe_survey_updated.columns)"
      ],
      "execution_count": 93,
      "outputs": [
        {
          "output_type": "stream",
          "text": [
            "Index(['Record ID', 'Institute', 'WorkArea', 'CESSATION YEAR',\n",
            "       'Reason for ceasing employment',\n",
            "       'Contributing Factors. Career Move - Public Sector ',\n",
            "       'Contributing Factors. Career Move - Private Sector ',\n",
            "       'Contributing Factors. Career Move - Self-employment',\n",
            "       'Contributing Factors. Ill Health',\n",
            "       'Contributing Factors. Maternity/Family',\n",
            "       'Contributing Factors. Dissatisfaction',\n",
            "       'Contributing Factors. Job Dissatisfaction',\n",
            "       'Contributing Factors. Interpersonal Conflict',\n",
            "       'Contributing Factors. Study', 'Contributing Factors. Travel',\n",
            "       'Contributing Factors. Other', 'Contributing Factors. NONE',\n",
            "       'Gender.     What is your Gender?', 'CurrentAge.     Current Age',\n",
            "       'Employment Type.     Employment Type',\n",
            "       'Classification.     Classification',\n",
            "       'LengthofServiceOverall. Overall Length of Service at Institute (in years)',\n",
            "       'LengthofServiceCurrent. Length of Service at current workplace (in years)'],\n",
            "      dtype='object')\n"
          ],
          "name": "stdout"
        }
      ]
    },
    {
      "cell_type": "markdown",
      "metadata": {
        "id": "5Wq6rViGycMj"
      },
      "source": [
        "#Rename Columns"
      ]
    },
    {
      "cell_type": "code",
      "metadata": {
        "id": "SgaEUpmLyJH0"
      },
      "source": [
        "dete_survey_updated.columns = dete_survey_updated.columns.str.lower().str.strip().str.replace(' ', '_')"
      ],
      "execution_count": 94,
      "outputs": []
    },
    {
      "cell_type": "code",
      "metadata": {
        "id": "jaVu4L9ZyJH3",
        "outputId": "16028eed-0b63-4bd6-d332-d0c5a2575fb7",
        "colab": {
          "base_uri": "https://localhost:8080/",
          "height": 212
        }
      },
      "source": [
        "dete_survey_updated.columns"
      ],
      "execution_count": 95,
      "outputs": [
        {
          "output_type": "execute_result",
          "data": {
            "text/plain": [
              "Index(['id', 'separationtype', 'cease_date', 'dete_start_date',\n",
              "       'role_start_date', 'position', 'classification', 'region',\n",
              "       'business_unit', 'employment_status', 'career_move_to_public_sector',\n",
              "       'career_move_to_private_sector', 'interpersonal_conflicts',\n",
              "       'job_dissatisfaction', 'dissatisfaction_with_the_department',\n",
              "       'physical_work_environment', 'lack_of_recognition',\n",
              "       'lack_of_job_security', 'work_location', 'employment_conditions',\n",
              "       'maternity/family', 'relocation', 'study/travel', 'ill_health',\n",
              "       'traumatic_incident', 'work_life_balance', 'workload',\n",
              "       'none_of_the_above', 'gender', 'age', 'aboriginal', 'torres_strait',\n",
              "       'south_sea', 'disability', 'nesb'],\n",
              "      dtype='object')"
            ]
          },
          "metadata": {
            "tags": []
          },
          "execution_count": 95
        }
      ]
    },
    {
      "cell_type": "code",
      "metadata": {
        "id": "1XMM2fpZyJH5"
      },
      "source": [
        "mapping = {'Record ID': 'id', 'CESSATION YEAR': 'cease_date', 'Reason for ceasing employment': 'separationtype', 'Gender. What is your Gender?': 'gender', 'CurrentAge. Current Age': 'age',\n",
        "       'Employment Type. Employment Type': 'employment_status',\n",
        "       'Classification. Classification': 'position',\n",
        "       'LengthofServiceOverall. Overall Length of Service at Institute (in years)': 'institute_service',\n",
        "       'LengthofServiceCurrent. Length of Service at current workplace (in years)': 'role_service'}\n",
        "tafe_survey_updated = tafe_survey_updated.rename(mapping, axis = 1)"
      ],
      "execution_count": 96,
      "outputs": []
    },
    {
      "cell_type": "code",
      "metadata": {
        "id": "UuBIxlyTyJH7",
        "outputId": "afc3d223-aa8f-4a81-da40-02e91e3d12b5",
        "colab": {
          "base_uri": "https://localhost:8080/",
          "height": 277
        }
      },
      "source": [
        "tafe_survey_updated.columns"
      ],
      "execution_count": 97,
      "outputs": [
        {
          "output_type": "execute_result",
          "data": {
            "text/plain": [
              "Index(['id', 'Institute', 'WorkArea', 'cease_date', 'separationtype',\n",
              "       'Contributing Factors. Career Move - Public Sector ',\n",
              "       'Contributing Factors. Career Move - Private Sector ',\n",
              "       'Contributing Factors. Career Move - Self-employment',\n",
              "       'Contributing Factors. Ill Health',\n",
              "       'Contributing Factors. Maternity/Family',\n",
              "       'Contributing Factors. Dissatisfaction',\n",
              "       'Contributing Factors. Job Dissatisfaction',\n",
              "       'Contributing Factors. Interpersonal Conflict',\n",
              "       'Contributing Factors. Study', 'Contributing Factors. Travel',\n",
              "       'Contributing Factors. Other', 'Contributing Factors. NONE',\n",
              "       'Gender.     What is your Gender?', 'CurrentAge.     Current Age',\n",
              "       'Employment Type.     Employment Type',\n",
              "       'Classification.     Classification', 'institute_service',\n",
              "       'role_service'],\n",
              "      dtype='object')"
            ]
          },
          "metadata": {
            "tags": []
          },
          "execution_count": 97
        }
      ]
    },
    {
      "cell_type": "markdown",
      "metadata": {
        "id": "KfPZG0TQyqq1"
      },
      "source": [
        "# Filter the Data"
      ]
    },
    {
      "cell_type": "code",
      "metadata": {
        "id": "X9KrMuROyJID",
        "outputId": "5e909be5-b248-4a55-ee72-9684f7de9d89",
        "colab": {
          "base_uri": "https://localhost:8080/",
          "height": 131
        }
      },
      "source": [
        "tafe_survey_updated['separationtype'].value_counts()"
      ],
      "execution_count": 98,
      "outputs": [
        {
          "output_type": "execute_result",
          "data": {
            "text/plain": [
              "Resignation                 340\n",
              "Contract Expired            127\n",
              "Retrenchment/ Redundancy    104\n",
              "Retirement                   82\n",
              "Transfer                     25\n",
              "Termination                  23\n",
              "Name: separationtype, dtype: int64"
            ]
          },
          "metadata": {
            "tags": []
          },
          "execution_count": 98
        }
      ]
    },
    {
      "cell_type": "code",
      "metadata": {
        "id": "qh_LqCrCyJIH",
        "outputId": "d48459f1-d2e3-4a59-d2ae-39c398afb78e",
        "colab": {
          "base_uri": "https://localhost:8080/",
          "height": 180
        }
      },
      "source": [
        "dete_survey_updated['separationtype'].value_counts()"
      ],
      "execution_count": 99,
      "outputs": [
        {
          "output_type": "execute_result",
          "data": {
            "text/plain": [
              "Age Retirement                          285\n",
              "Resignation-Other reasons               150\n",
              "Resignation-Other employer               91\n",
              "Resignation-Move overseas/interstate     70\n",
              "Voluntary Early Retirement (VER)         67\n",
              "Ill Health Retirement                    61\n",
              "Other                                    49\n",
              "Contract Expired                         34\n",
              "Termination                              15\n",
              "Name: separationtype, dtype: int64"
            ]
          },
          "metadata": {
            "tags": []
          },
          "execution_count": 99
        }
      ]
    },
    {
      "cell_type": "code",
      "metadata": {
        "id": "A5lGeC8vyJIJ"
      },
      "source": [
        "dete_survey_updated['separationtype'] = dete_survey_updated['separationtype'].str.split('-').str[0]"
      ],
      "execution_count": 100,
      "outputs": []
    },
    {
      "cell_type": "code",
      "metadata": {
        "id": "OAFIUwszyJIL",
        "outputId": "017bb09d-bc97-4605-aa9d-c036c9fa993a",
        "colab": {
          "base_uri": "https://localhost:8080/",
          "height": 147
        }
      },
      "source": [
        "dete_survey_updated['separationtype'].value_counts()"
      ],
      "execution_count": 101,
      "outputs": [
        {
          "output_type": "execute_result",
          "data": {
            "text/plain": [
              "Resignation                         311\n",
              "Age Retirement                      285\n",
              "Voluntary Early Retirement (VER)     67\n",
              "Ill Health Retirement                61\n",
              "Other                                49\n",
              "Contract Expired                     34\n",
              "Termination                          15\n",
              "Name: separationtype, dtype: int64"
            ]
          },
          "metadata": {
            "tags": []
          },
          "execution_count": 101
        }
      ]
    },
    {
      "cell_type": "code",
      "metadata": {
        "id": "3gwO_TCmyJIN"
      },
      "source": [
        "dete_resignations = dete_survey_updated[dete_survey_updated['separationtype'] == 'Resignation'].copy()"
      ],
      "execution_count": 102,
      "outputs": []
    },
    {
      "cell_type": "code",
      "metadata": {
        "id": "aflMBFIryJIP"
      },
      "source": [
        "tafe_resignations = tafe_survey_updated[tafe_survey_updated['separationtype'] == 'Resignation'].copy()"
      ],
      "execution_count": 103,
      "outputs": []
    },
    {
      "cell_type": "code",
      "metadata": {
        "id": "NdTT0XQxyJIR"
      },
      "source": [
        "# Verify the Data"
      ],
      "execution_count": 104,
      "outputs": []
    },
    {
      "cell_type": "code",
      "metadata": {
        "id": "FsBHu4GVyJIT",
        "outputId": "b795ab63-faac-4bdb-c141-d8c4b03b4e11",
        "colab": {
          "base_uri": "https://localhost:8080/",
          "height": 293
        }
      },
      "source": [
        "dete_resignations['cease_date'].value_counts()"
      ],
      "execution_count": 105,
      "outputs": [
        {
          "output_type": "execute_result",
          "data": {
            "text/plain": [
              "2012       126\n",
              "2013        74\n",
              "01/2014     22\n",
              "12/2013     17\n",
              "06/2013     14\n",
              "09/2013     11\n",
              "07/2013      9\n",
              "11/2013      9\n",
              "10/2013      6\n",
              "08/2013      4\n",
              "05/2013      2\n",
              "05/2012      2\n",
              "07/2012      1\n",
              "07/2006      1\n",
              "09/2010      1\n",
              "2010         1\n",
              "Name: cease_date, dtype: int64"
            ]
          },
          "metadata": {
            "tags": []
          },
          "execution_count": 105
        }
      ]
    },
    {
      "cell_type": "code",
      "metadata": {
        "id": "NUz6idX_yJIW"
      },
      "source": [
        "dete_resignations['cease_date'] = dete_resignations['cease_date'].str.split('/').str[-1]\n",
        "dete_resignations['cease_date'] = dete_resignations['cease_date'].astype(\"float\")"
      ],
      "execution_count": 106,
      "outputs": []
    },
    {
      "cell_type": "code",
      "metadata": {
        "id": "3Yy0OZTdyJIZ",
        "outputId": "eeb56aea-cb6e-499b-d84d-d59fb79c5be1",
        "colab": {
          "base_uri": "https://localhost:8080/",
          "height": 115
        }
      },
      "source": [
        "dete_resignations['cease_date'].value_counts()"
      ],
      "execution_count": 107,
      "outputs": [
        {
          "output_type": "execute_result",
          "data": {
            "text/plain": [
              "2013.0    146\n",
              "2012.0    129\n",
              "2014.0     22\n",
              "2010.0      2\n",
              "2006.0      1\n",
              "Name: cease_date, dtype: int64"
            ]
          },
          "metadata": {
            "tags": []
          },
          "execution_count": 107
        }
      ]
    },
    {
      "cell_type": "code",
      "metadata": {
        "id": "AjFLpsrhyJIb",
        "outputId": "9a3258cc-4009-41af-bb4d-543521fa4f31",
        "colab": {
          "base_uri": "https://localhost:8080/",
          "height": 700
        }
      },
      "source": [
        "dete_resignations['dete_start_date'].value_counts().sort_values()"
      ],
      "execution_count": 108,
      "outputs": [
        {
          "output_type": "execute_result",
          "data": {
            "text/plain": [
              "1963.0     1\n",
              "1971.0     1\n",
              "1972.0     1\n",
              "1984.0     1\n",
              "1977.0     1\n",
              "1987.0     1\n",
              "1975.0     1\n",
              "1973.0     1\n",
              "1982.0     1\n",
              "1974.0     2\n",
              "1983.0     2\n",
              "1976.0     2\n",
              "1986.0     3\n",
              "1985.0     3\n",
              "2001.0     3\n",
              "1995.0     4\n",
              "1988.0     4\n",
              "1989.0     4\n",
              "1991.0     4\n",
              "1997.0     5\n",
              "1980.0     5\n",
              "1993.0     5\n",
              "1990.0     5\n",
              "1994.0     6\n",
              "2003.0     6\n",
              "1998.0     6\n",
              "1992.0     6\n",
              "2002.0     6\n",
              "1996.0     6\n",
              "1999.0     8\n",
              "2000.0     9\n",
              "2013.0    10\n",
              "2009.0    13\n",
              "2006.0    13\n",
              "2004.0    14\n",
              "2005.0    15\n",
              "2010.0    17\n",
              "2012.0    21\n",
              "2007.0    21\n",
              "2008.0    22\n",
              "2011.0    24\n",
              "Name: dete_start_date, dtype: int64"
            ]
          },
          "metadata": {
            "tags": []
          },
          "execution_count": 108
        }
      ]
    },
    {
      "cell_type": "code",
      "metadata": {
        "id": "ZItVIvzLyJId",
        "outputId": "210a30c0-8464-438c-acd0-48747affb4ab",
        "colab": {
          "base_uri": "https://localhost:8080/",
          "height": 115
        }
      },
      "source": [
        "tafe_resignations['cease_date'].value_counts().sort_values()"
      ],
      "execution_count": 109,
      "outputs": [
        {
          "output_type": "execute_result",
          "data": {
            "text/plain": [
              "2009.0      2\n",
              "2013.0     55\n",
              "2010.0     68\n",
              "2012.0     94\n",
              "2011.0    116\n",
              "Name: cease_date, dtype: int64"
            ]
          },
          "metadata": {
            "tags": []
          },
          "execution_count": 109
        }
      ]
    },
    {
      "cell_type": "markdown",
      "metadata": {
        "id": "cfaQNkrpyy2j"
      },
      "source": [
        "# Create a New Column"
      ]
    },
    {
      "cell_type": "code",
      "metadata": {
        "id": "SfmNdRQByJIh"
      },
      "source": [
        "dete_resignations['institute_service'] = dete_resignations['cease_date'] - dete_resignations['dete_start_date']"
      ],
      "execution_count": 110,
      "outputs": []
    },
    {
      "cell_type": "code",
      "metadata": {
        "id": "5ZKrnFbvyJIj",
        "outputId": "afe6a6e7-4002-4621-964e-be2c9e92c512",
        "colab": {
          "base_uri": "https://localhost:8080/",
          "height": 115
        }
      },
      "source": [
        "dete_resignations['institute_service'].head()"
      ],
      "execution_count": 111,
      "outputs": [
        {
          "output_type": "execute_result",
          "data": {
            "text/plain": [
              "3      7.0\n",
              "5     18.0\n",
              "8      3.0\n",
              "9     15.0\n",
              "11     3.0\n",
              "Name: institute_service, dtype: float64"
            ]
          },
          "metadata": {
            "tags": []
          },
          "execution_count": 111
        }
      ]
    },
    {
      "cell_type": "markdown",
      "metadata": {
        "id": "yUss6lvRy56k"
      },
      "source": [
        "#Identify Dissatisfied Employees"
      ]
    },
    {
      "cell_type": "code",
      "metadata": {
        "id": "qpj6xu17yJIo",
        "outputId": "a0d75646-9ae5-4ebc-a8c0-e7c576de5c55",
        "colab": {
          "base_uri": "https://localhost:8080/",
          "height": 66
        }
      },
      "source": [
        "tafe_resignations['Contributing Factors. Dissatisfaction'].value_counts()"
      ],
      "execution_count": 112,
      "outputs": [
        {
          "output_type": "execute_result",
          "data": {
            "text/plain": [
              "-                                         277\n",
              "Contributing Factors. Dissatisfaction      55\n",
              "Name: Contributing Factors. Dissatisfaction, dtype: int64"
            ]
          },
          "metadata": {
            "tags": []
          },
          "execution_count": 112
        }
      ]
    },
    {
      "cell_type": "code",
      "metadata": {
        "id": "Ixhtf6hFyJIq",
        "outputId": "fe984b30-2400-4e31-aa31-c9cdbeea5507",
        "colab": {
          "base_uri": "https://localhost:8080/",
          "height": 66
        }
      },
      "source": [
        "tafe_resignations['Contributing Factors. Job Dissatisfaction'].value_counts()"
      ],
      "execution_count": 113,
      "outputs": [
        {
          "output_type": "execute_result",
          "data": {
            "text/plain": [
              "-                      270\n",
              "Job Dissatisfaction     62\n",
              "Name: Contributing Factors. Job Dissatisfaction, dtype: int64"
            ]
          },
          "metadata": {
            "tags": []
          },
          "execution_count": 113
        }
      ]
    },
    {
      "cell_type": "code",
      "metadata": {
        "id": "KYccbMKzyJIt"
      },
      "source": [
        "def update_vals(x):\n",
        "    if x == '-':\n",
        "        return False\n",
        "    elif pd.isnull(x):\n",
        "        return np.nan\n",
        "    else:\n",
        "        return True"
      ],
      "execution_count": 114,
      "outputs": []
    },
    {
      "cell_type": "code",
      "metadata": {
        "id": "D5mQRSVlyJIw"
      },
      "source": [
        "tafe_resignations['dissatisfied'] = tafe_resignations[['Contributing Factors. Dissatisfaction', 'Contributing Factors. Job Dissatisfaction']].applymap(update_vals).any(1, skipna=False)"
      ],
      "execution_count": 115,
      "outputs": []
    },
    {
      "cell_type": "code",
      "metadata": {
        "id": "0JNUiwHZyJIy"
      },
      "source": [
        "tafe_resignations_up = tafe_resignations.copy()"
      ],
      "execution_count": 116,
      "outputs": []
    },
    {
      "cell_type": "code",
      "metadata": {
        "id": "vroyEv2eyJIz",
        "outputId": "acc93123-e8b2-4d34-908a-790dddfe4734",
        "colab": {
          "base_uri": "https://localhost:8080/",
          "height": 82
        }
      },
      "source": [
        "tafe_resignations_up['dissatisfied'].value_counts(dropna=False)"
      ],
      "execution_count": 117,
      "outputs": [
        {
          "output_type": "execute_result",
          "data": {
            "text/plain": [
              "False    241\n",
              "True      91\n",
              "NaN        8\n",
              "Name: dissatisfied, dtype: int64"
            ]
          },
          "metadata": {
            "tags": []
          },
          "execution_count": 117
        }
      ]
    },
    {
      "cell_type": "code",
      "metadata": {
        "id": "Cus2KlQ-yJI1"
      },
      "source": [
        "dete_resignations['dissatisfied'] = dete_resignations[['job_dissatisfaction',\n",
        "       'dissatisfaction_with_the_department', 'physical_work_environment',\n",
        "       'lack_of_recognition', 'lack_of_job_security', 'work_location',\n",
        "       'employment_conditions', 'work_life_balance',\n",
        "       'workload']].any(1, skipna=False)"
      ],
      "execution_count": 118,
      "outputs": []
    },
    {
      "cell_type": "code",
      "metadata": {
        "id": "Ec2j7hBuyJI5",
        "outputId": "15dd23e2-e96d-471b-9041-8c0755bfcccb",
        "colab": {
          "base_uri": "https://localhost:8080/",
          "height": 66
        }
      },
      "source": [
        "dete_resignations_up = dete_resignations.copy()\n",
        "dete_resignations_up['dissatisfied'].value_counts(dropna=False)"
      ],
      "execution_count": 119,
      "outputs": [
        {
          "output_type": "execute_result",
          "data": {
            "text/plain": [
              "False    162\n",
              "True     149\n",
              "Name: dissatisfied, dtype: int64"
            ]
          },
          "metadata": {
            "tags": []
          },
          "execution_count": 119
        }
      ]
    },
    {
      "cell_type": "markdown",
      "metadata": {
        "id": "xA-gqp3LzD8l"
      },
      "source": [
        "#Combining the Data"
      ]
    },
    {
      "cell_type": "code",
      "metadata": {
        "id": "MIWsrtdyyJI_"
      },
      "source": [
        "dete_resignations_up['institute'] = 'DETE'\n",
        "tafe_resignations_up['institute'] = 'TAFE'"
      ],
      "execution_count": 120,
      "outputs": []
    },
    {
      "cell_type": "code",
      "metadata": {
        "id": "agucwVsoyJJB"
      },
      "source": [
        "combined = pd.concat([dete_resignations_up, tafe_resignations_up], ignore_index=True)"
      ],
      "execution_count": 121,
      "outputs": []
    },
    {
      "cell_type": "code",
      "metadata": {
        "id": "Kc-gJzRmyJJF",
        "outputId": "5aaf11b5-fc49-49ef-a13a-b1c3339bb499",
        "colab": {
          "base_uri": "https://localhost:8080/",
          "height": 960
        }
      },
      "source": [
        "combined.notnull().sum().sort_values()"
      ],
      "execution_count": 122,
      "outputs": [
        {
          "output_type": "execute_result",
          "data": {
            "text/plain": [
              "torres_strait                                            0\n",
              "south_sea                                                3\n",
              "aboriginal                                               7\n",
              "disability                                               8\n",
              "nesb                                                     9\n",
              "business_unit                                           32\n",
              "classification                                         161\n",
              "region                                                 265\n",
              "role_start_date                                        271\n",
              "dete_start_date                                        283\n",
              "role_service                                           290\n",
              "Employment Type.     Employment Type                   290\n",
              "CurrentAge.     Current Age                            290\n",
              "Gender.     What is your Gender?                       290\n",
              "Classification.     Classification                     290\n",
              "gender                                                 302\n",
              "age                                                    306\n",
              "employment_status                                      307\n",
              "position                                               308\n",
              "employment_conditions                                  311\n",
              "physical_work_environment                              311\n",
              "work_location                                          311\n",
              "career_move_to_public_sector                           311\n",
              "career_move_to_private_sector                          311\n",
              "interpersonal_conflicts                                311\n",
              "job_dissatisfaction                                    311\n",
              "lack_of_job_security                                   311\n",
              "dissatisfaction_with_the_department                    311\n",
              "lack_of_recognition                                    311\n",
              "workload                                               311\n",
              "work_life_balance                                      311\n",
              "traumatic_incident                                     311\n",
              "ill_health                                             311\n",
              "study/travel                                           311\n",
              "relocation                                             311\n",
              "maternity/family                                       311\n",
              "none_of_the_above                                      311\n",
              "Contributing Factors. Other                            332\n",
              "Contributing Factors. Travel                           332\n",
              "Contributing Factors. Study                            332\n",
              "Contributing Factors. Interpersonal Conflict           332\n",
              "Contributing Factors. Job Dissatisfaction              332\n",
              "Contributing Factors. Dissatisfaction                  332\n",
              "Contributing Factors. Maternity/Family                 332\n",
              "Contributing Factors. Career Move - Public Sector      332\n",
              "Contributing Factors. Career Move - Self-employment    332\n",
              "Contributing Factors. Career Move - Private Sector     332\n",
              "Contributing Factors. NONE                             332\n",
              "Contributing Factors. Ill Health                       332\n",
              "WorkArea                                               340\n",
              "Institute                                              340\n",
              "institute_service                                      563\n",
              "cease_date                                             635\n",
              "dissatisfied                                           643\n",
              "separationtype                                         651\n",
              "institute                                              651\n",
              "id                                                     651\n",
              "dtype: int64"
            ]
          },
          "metadata": {
            "tags": []
          },
          "execution_count": 122
        }
      ]
    },
    {
      "cell_type": "code",
      "metadata": {
        "id": "rdrgFDqUyJJI"
      },
      "source": [
        "combined_updated = combined.dropna(thresh = 500, axis =1).copy()"
      ],
      "execution_count": 123,
      "outputs": []
    },
    {
      "cell_type": "markdown",
      "metadata": {
        "id": "GobFCC6pzIRE"
      },
      "source": [
        "# Clean the Service Column"
      ]
    },
    {
      "cell_type": "code",
      "metadata": {
        "id": "Acd3qttByJJM",
        "outputId": "997a4226-06ac-4a9e-ba8a-d004e5bb8677",
        "colab": {
          "base_uri": "https://localhost:8080/",
          "height": 846
        }
      },
      "source": [
        "combined_updated['institute_service'].value_counts(dropna=False)"
      ],
      "execution_count": 124,
      "outputs": [
        {
          "output_type": "execute_result",
          "data": {
            "text/plain": [
              "NaN                   88\n",
              "Less than 1 year      73\n",
              "1-2                   64\n",
              "3-4                   63\n",
              "5-6                   33\n",
              "11-20                 26\n",
              "5.0                   23\n",
              "1.0                   22\n",
              "7-10                  21\n",
              "0.0                   20\n",
              "3.0                   20\n",
              "6.0                   17\n",
              "4.0                   16\n",
              "2.0                   14\n",
              "9.0                   14\n",
              "7.0                   13\n",
              "More than 20 years    10\n",
              "8.0                    8\n",
              "13.0                   8\n",
              "15.0                   7\n",
              "20.0                   7\n",
              "12.0                   6\n",
              "22.0                   6\n",
              "17.0                   6\n",
              "10.0                   6\n",
              "14.0                   6\n",
              "18.0                   5\n",
              "16.0                   5\n",
              "23.0                   4\n",
              "24.0                   4\n",
              "11.0                   4\n",
              "39.0                   3\n",
              "21.0                   3\n",
              "32.0                   3\n",
              "19.0                   3\n",
              "36.0                   2\n",
              "30.0                   2\n",
              "26.0                   2\n",
              "28.0                   2\n",
              "25.0                   2\n",
              "29.0                   1\n",
              "31.0                   1\n",
              "49.0                   1\n",
              "33.0                   1\n",
              "34.0                   1\n",
              "35.0                   1\n",
              "38.0                   1\n",
              "41.0                   1\n",
              "42.0                   1\n",
              "27.0                   1\n",
              "Name: institute_service, dtype: int64"
            ]
          },
          "metadata": {
            "tags": []
          },
          "execution_count": 124
        }
      ]
    },
    {
      "cell_type": "code",
      "metadata": {
        "id": "KIuNR8t6yJJO"
      },
      "source": [
        "combined_updated['institute_service_up'] = combined_updated['institute_service'].astype('str').str.extract(r'(\\d+)')\n",
        "combined_updated['institute_service_up'] = combined_updated['institute_service_up'].astype('float')"
      ],
      "execution_count": 125,
      "outputs": []
    },
    {
      "cell_type": "code",
      "metadata": {
        "id": "-rM0pKYbyJJQ",
        "outputId": "9b44c334-5ac7-4a69-b951-12975a85c390",
        "colab": {
          "base_uri": "https://localhost:8080/",
          "height": 716
        }
      },
      "source": [
        "combined_updated['institute_service_up'].value_counts()"
      ],
      "execution_count": 126,
      "outputs": [
        {
          "output_type": "execute_result",
          "data": {
            "text/plain": [
              "1.0     159\n",
              "3.0      83\n",
              "5.0      56\n",
              "7.0      34\n",
              "11.0     30\n",
              "0.0      20\n",
              "20.0     17\n",
              "6.0      17\n",
              "4.0      16\n",
              "9.0      14\n",
              "2.0      14\n",
              "13.0      8\n",
              "8.0       8\n",
              "15.0      7\n",
              "17.0      6\n",
              "10.0      6\n",
              "12.0      6\n",
              "14.0      6\n",
              "22.0      6\n",
              "16.0      5\n",
              "18.0      5\n",
              "24.0      4\n",
              "23.0      4\n",
              "39.0      3\n",
              "19.0      3\n",
              "21.0      3\n",
              "32.0      3\n",
              "28.0      2\n",
              "36.0      2\n",
              "25.0      2\n",
              "30.0      2\n",
              "26.0      2\n",
              "29.0      1\n",
              "38.0      1\n",
              "42.0      1\n",
              "27.0      1\n",
              "41.0      1\n",
              "35.0      1\n",
              "49.0      1\n",
              "34.0      1\n",
              "33.0      1\n",
              "31.0      1\n",
              "Name: institute_service_up, dtype: int64"
            ]
          },
          "metadata": {
            "tags": []
          },
          "execution_count": 126
        }
      ]
    },
    {
      "cell_type": "code",
      "metadata": {
        "id": "NAp0IkVpyJJT"
      },
      "source": [
        "def transform_service(val):\n",
        "    if val >= 11:\n",
        "        return \"Veteran\"\n",
        "    elif 7 <= val < 11:\n",
        "        return \"Established\"\n",
        "    elif 3 <= val < 7:\n",
        "        return \"Experienced\"\n",
        "    elif pd.isnull(val):\n",
        "        return np.nan\n",
        "    else:\n",
        "        return \"New\""
      ],
      "execution_count": 127,
      "outputs": []
    },
    {
      "cell_type": "code",
      "metadata": {
        "id": "EM-M7PjkyJJU"
      },
      "source": [
        "combined_updated['service_cat'] = combined_updated['institute_service_up'].apply(transform_service)"
      ],
      "execution_count": 128,
      "outputs": []
    },
    {
      "cell_type": "code",
      "metadata": {
        "id": "xat8X3IbyJJb",
        "outputId": "35624c62-4112-4644-8e87-78f7bf28b053",
        "colab": {
          "base_uri": "https://localhost:8080/",
          "height": 98
        }
      },
      "source": [
        "combined_updated['service_cat'].value_counts()"
      ],
      "execution_count": 129,
      "outputs": [
        {
          "output_type": "execute_result",
          "data": {
            "text/plain": [
              "New            193\n",
              "Experienced    172\n",
              "Veteran        136\n",
              "Established     62\n",
              "Name: service_cat, dtype: int64"
            ]
          },
          "metadata": {
            "tags": []
          },
          "execution_count": 129
        }
      ]
    },
    {
      "cell_type": "markdown",
      "metadata": {
        "id": "-kjmGbiGzR0U"
      },
      "source": [
        "#Perform Some Initial Analysis"
      ]
    },
    {
      "cell_type": "code",
      "metadata": {
        "id": "vFhO4t1byJJe",
        "outputId": "779f3bbe-063e-4f23-e860-9a015ad5e866",
        "colab": {
          "base_uri": "https://localhost:8080/",
          "height": 82
        }
      },
      "source": [
        "combined_updated['dissatisfied'].value_counts(dropna=False)"
      ],
      "execution_count": 130,
      "outputs": [
        {
          "output_type": "execute_result",
          "data": {
            "text/plain": [
              "False    403\n",
              "True     240\n",
              "NaN        8\n",
              "Name: dissatisfied, dtype: int64"
            ]
          },
          "metadata": {
            "tags": []
          },
          "execution_count": 130
        }
      ]
    },
    {
      "cell_type": "code",
      "metadata": {
        "id": "A3AXY9a8yJJf"
      },
      "source": [
        "combined_updated['dissatisfied'] = combined_updated['dissatisfied'].fillna(False)"
      ],
      "execution_count": 131,
      "outputs": []
    },
    {
      "cell_type": "code",
      "metadata": {
        "id": "9_HMy8jxyJJh",
        "outputId": "9e903b89-0f40-46f2-ab01-006c9a7869b3",
        "colab": {
          "base_uri": "https://localhost:8080/",
          "height": 115
        }
      },
      "source": [
        "dis_pct = combined_updated.pivot_table(index='service_cat', values='dissatisfied')\n",
        "print(round(dis_pct ,4)*100)"
      ],
      "execution_count": 160,
      "outputs": [
        {
          "output_type": "stream",
          "text": [
            "             dissatisfied\n",
            "service_cat              \n",
            "Established         51.61\n",
            "Experienced         34.30\n",
            "New                 29.53\n",
            "Veteran             48.53\n"
          ],
          "name": "stdout"
        }
      ]
    },
    {
      "cell_type": "code",
      "metadata": {
        "id": "gIiu4CB-yJJj",
        "outputId": "483477bf-5afd-4515-85cd-74bc036e3b1a",
        "colab": {
          "base_uri": "https://localhost:8080/",
          "height": 326
        }
      },
      "source": [
        "%matplotlib inline\n",
        "dis_pct.plot(kind='bar', rot=30)"
      ],
      "execution_count": 161,
      "outputs": [
        {
          "output_type": "execute_result",
          "data": {
            "text/plain": [
              "<matplotlib.axes._subplots.AxesSubplot at 0x7f27f38bd940>"
            ]
          },
          "metadata": {
            "tags": []
          },
          "execution_count": 161
        },
        {
          "output_type": "display_data",
          "data": {
            "image/png": "[encoded data removed]",
            "text/plain": [
              "<Figure size 432x288 with 1 Axes>"
            ]
          },
          "metadata": {
            "tags": [],
            "needs_background": "light"
          }
        }
      ]
    },
    {
      "cell_type": "markdown",
      "metadata": {
        "id": "i6NkBxl4QGEP"
      },
      "source": [
        "##Creative Component: Analysis of Job Dissatisfaction Elements and Gender\n",
        "\n",
        "This analyisis component will examine the various areas of job dissatisfaction to determine which elements could be approved on by the respective employers. This section will also examine the potential impact that gender may have and attempt to identify areas that may breed a higher portion of dissatisfaction in one gender versus the other.    "
      ]
    },
    {
      "cell_type": "markdown",
      "metadata": {
        "id": "Suojh-5t2wom"
      },
      "source": [
        "###Analysis of Job Dissatisfaction Elements and Gender"
      ]
    },
    {
      "cell_type": "code",
      "metadata": {
        "id": "d4Jg4O2HTKNI"
      },
      "source": [
        "combined['dissatisfied'] = combined[['job_dissatisfaction',\n",
        "       'dissatisfaction_with_the_department', 'physical_work_environment',\n",
        "       'lack_of_recognition', 'lack_of_job_security', 'work_location',\n",
        "       'employment_conditions', 'work_life_balance',\n",
        "       'workload']].any(1, skipna=False)"
      ],
      "execution_count": 134,
      "outputs": []
    },
    {
      "cell_type": "code",
      "metadata": {
        "id": "u6aKzYqsT-6f"
      },
      "source": [
        "combined['dissatisfaction'] = combined['dissatisfied'].fillna(False)\n",
        "combined['job_dissatisfaction'] = combined['job_dissatisfaction'].fillna(False)\n",
        "combined['dissatisfaction_with_the_department'] = combined['dissatisfaction_with_the_department'].fillna(False)\n",
        "combined['physical_work_environment'] = combined['physical_work_environment'].fillna(False)\n",
        "combined['lack_of_recognition'] = combined['lack_of_recognition'].fillna(False)\n",
        "combined['lack_of_job_security'] = combined['lack_of_job_security'].fillna(False)\n",
        "combined['work_location'] = combined['work_location'].fillna(False)\n",
        "combined['employment_conditions'] = combined['employment_conditions'].fillna(False)\n",
        "combined['work_life_balance'] = combined['work_life_balance'].fillna(False)\n",
        "combined['workload'] = combined['workload'].fillna(False)"
      ],
      "execution_count": 148,
      "outputs": []
    },
    {
      "cell_type": "code",
      "metadata": {
        "id": "oU47v3E6QOsK",
        "outputId": "618ba05f-f8a0-4d94-9033-d5fe21273b8d",
        "colab": {
          "base_uri": "https://localhost:8080/",
          "height": 82
        }
      },
      "source": [
        "gender_disatisfaction= combined.pivot_table(index='gender', values='dissatisfaction')\n",
        "print(round(gender_disatisfaction ,4)*100)"
      ],
      "execution_count": 154,
      "outputs": [
        {
          "output_type": "stream",
          "text": [
            "        dissatisfaction\n",
            "gender                 \n",
            "Female            46.35\n",
            "Male              56.52\n"
          ],
          "name": "stdout"
        }
      ]
    },
    {
      "cell_type": "code",
      "metadata": {
        "id": "6Psu8LZOXRLS",
        "outputId": "ce4363ea-317b-446e-eb71-2fdbc81adf84",
        "colab": {
          "base_uri": "https://localhost:8080/",
          "height": 82
        }
      },
      "source": [
        "disatisfaction_recognition= combined.pivot_table(index='gender', values=['lack_of_recognition'])\n",
        "print(round(disatisfaction_recognition ,4)*100)"
      ],
      "execution_count": 163,
      "outputs": [
        {
          "output_type": "stream",
          "text": [
            "        lack_of_recognition\n",
            "gender                     \n",
            "Female                10.30\n",
            "Male                  13.04\n"
          ],
          "name": "stdout"
        }
      ]
    },
    {
      "cell_type": "code",
      "metadata": {
        "id": "LRL0pIGXR2Et",
        "outputId": "9c4f5437-6a0e-4e58-f2cf-270235770a53",
        "colab": {
          "base_uri": "https://localhost:8080/",
          "height": 82
        }
      },
      "source": [
        "disatisfaction_department= combined.pivot_table(index='gender', values=['dissatisfaction_with_the_department'])\n",
        "print(round(disatisfaction_department ,4)*100)\n"
      ],
      "execution_count": 164,
      "outputs": [
        {
          "output_type": "stream",
          "text": [
            "        dissatisfaction_with_the_department\n",
            "gender                                     \n",
            "Female                                 9.01\n",
            "Male                                  10.14\n"
          ],
          "name": "stdout"
        }
      ]
    },
    {
      "cell_type": "code",
      "metadata": {
        "id": "xo4aE47wyE9b",
        "outputId": "24cf67fd-caff-4ed6-85d9-9425337677f4",
        "colab": {
          "base_uri": "https://localhost:8080/",
          "height": 82
        }
      },
      "source": [
        "disatisfaction_physical_work_environment= combined.pivot_table(index='gender', values=['physical_work_environment'])\n",
        "print(round(disatisfaction_physical_work_environment ,4)*100)"
      ],
      "execution_count": 165,
      "outputs": [
        {
          "output_type": "stream",
          "text": [
            "        physical_work_environment\n",
            "gender                           \n",
            "Female                       2.15\n",
            "Male                         1.45\n"
          ],
          "name": "stdout"
        }
      ]
    },
    {
      "cell_type": "code",
      "metadata": {
        "id": "iJ6Yqwf8zsWJ",
        "outputId": "f22434da-f3cd-401d-8e45-7a24505cad10",
        "colab": {
          "base_uri": "https://localhost:8080/",
          "height": 82
        }
      },
      "source": [
        "disatisfaction_job_security= combined.pivot_table(index='gender', values=['lack_of_job_security'])\n",
        "print(round(disatisfaction_job_security ,4)*100)"
      ],
      "execution_count": 166,
      "outputs": [
        {
          "output_type": "stream",
          "text": [
            "        lack_of_job_security\n",
            "gender                      \n",
            "Female                  4.29\n",
            "Male                    4.35\n"
          ],
          "name": "stdout"
        }
      ]
    },
    {
      "cell_type": "code",
      "metadata": {
        "id": "7mA9yPlQz6Xd",
        "outputId": "444f3b5c-8471-4cde-9154-0e5f75e04507",
        "colab": {
          "base_uri": "https://localhost:8080/",
          "height": 82
        }
      },
      "source": [
        "disatisfaction_location= combined.pivot_table(index='gender', values=['work_location'])\n",
        "print(round(disatisfaction_location ,4)*100)"
      ],
      "execution_count": 167,
      "outputs": [
        {
          "output_type": "stream",
          "text": [
            "        work_location\n",
            "gender               \n",
            "Female           6.01\n",
            "Male             5.80\n"
          ],
          "name": "stdout"
        }
      ]
    },
    {
      "cell_type": "code",
      "metadata": {
        "id": "d2mJx3-U1iq5",
        "outputId": "90478558-7bec-4861-fc76-f2ab6e4a6306",
        "colab": {
          "base_uri": "https://localhost:8080/",
          "height": 98
        }
      },
      "source": [
        "disatisfaction_employment_condition= combined.pivot_table(index='gender', values=['employment_conditions'])\n",
        "print(round(disatisfaction_employment_condition ,4)*100)\n",
        "round(11.59-5.44 ,2)"
      ],
      "execution_count": 174,
      "outputs": [
        {
          "output_type": "stream",
          "text": [
            "        employment_conditions\n",
            "gender                       \n",
            "Female                   6.44\n",
            "Male                    11.59\n"
          ],
          "name": "stdout"
        },
        {
          "output_type": "execute_result",
          "data": {
            "text/plain": [
              "6.15"
            ]
          },
          "metadata": {
            "tags": []
          },
          "execution_count": 174
        }
      ]
    },
    {
      "cell_type": "code",
      "metadata": {
        "id": "Qm7EU8UB1xsm",
        "outputId": "b93dd38f-0a61-4c24-d0a5-0e93fa0b8c34",
        "colab": {
          "base_uri": "https://localhost:8080/",
          "height": 98
        }
      },
      "source": [
        "disatisfaction_work_life_balance= combined.pivot_table(index='gender', values=['work_life_balance'])\n",
        "print(round(disatisfaction_work_life_balance ,4)*100)\n",
        "round(23.18-20.89 ,2)"
      ],
      "execution_count": 172,
      "outputs": [
        {
          "output_type": "stream",
          "text": [
            "        work_life_balance\n",
            "gender                   \n",
            "Female              23.18\n",
            "Male                20.29\n"
          ],
          "name": "stdout"
        },
        {
          "output_type": "execute_result",
          "data": {
            "text/plain": [
              "2.29"
            ]
          },
          "metadata": {
            "tags": []
          },
          "execution_count": 172
        }
      ]
    },
    {
      "cell_type": "code",
      "metadata": {
        "id": "hjXwTksk2Jk9",
        "outputId": "88bf8b3b-fe4d-40fb-8926-7ab4cf55e81e",
        "colab": {
          "base_uri": "https://localhost:8080/",
          "height": 98
        }
      },
      "source": [
        "disatisfaction_workload= combined.pivot_table(index='gender', values=['workload'])\n",
        "print(round(disatisfaction_workload ,4)*100)\n",
        "round(11.59-8.15 ,2)"
      ],
      "execution_count": 173,
      "outputs": [
        {
          "output_type": "stream",
          "text": [
            "        workload\n",
            "gender          \n",
            "Female      8.15\n",
            "Male       11.59\n"
          ],
          "name": "stdout"
        },
        {
          "output_type": "execute_result",
          "data": {
            "text/plain": [
              "3.44"
            ]
          },
          "metadata": {
            "tags": []
          },
          "execution_count": 173
        }
      ]
    },
    {
      "cell_type": "markdown",
      "metadata": {
        "id": "3rxRQg9f2lD3"
      },
      "source": [
        "###Summary of the Analysis of Job Dissatisfaction Elements and Gender\n",
        "\n",
        "* In general 46.35% of women are somehow dissatisfied with thier job, while 56.52% of men are.\n",
        "\n",
        "* Lack of recognition, dissatisfaction with the department and work/life balance are the highest areas of discontent for women. The problem areas for men are work/life balance, lack of recognition, and workload. These employers are likely unwilling to decrease work load, and restructuring or micromanaging the departments may require too much time an effot so some of the elements would be difficult to change, but working with leaders and managers to recognize and positively reenforce their employees may go along way to increase the satisfaction of the employees.\n",
        "\n",
        "* The areas that showcase the greatest differences between the genders are workload with 3.44% of men are more dissatisfied with their workload and employment conditions with 6.15% more of men than women take issue with their work conditions in some way.  "
      ]
    }
  ]
}