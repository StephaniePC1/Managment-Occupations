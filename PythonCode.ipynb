{
  "nbformat": 4,
  "nbformat_minor": 0,
  "metadata": {
    "colab": {
      "name": "PythonCode.ipynb",
      "provenance": [],
      "collapsed_sections": [],
      "authorship_tag": "ABX9TyNHzi7yakliPIESH8wSxs5z",
      "include_colab_link": true
    },
    "kernelspec": {
      "name": "python3",
      "display_name": "Python 3"
    }
  },
  "cells": [
    {
      "cell_type": "markdown",
      "metadata": {
        "id": "view-in-github",
        "colab_type": "text"
      },
      "source": [
        "<a href=\"https://colab.research.google.com/github/StephaniePC1/ThisIsWhatIDoNow/blob/master/PythonCode.ipynb\" target=\"_parent\"><img src=\"https://colab.research.google.com/assets/colab-badge.svg\" alt=\"Open In Colab\"/></a>"
      ]
    },
    {
      "cell_type": "code",
      "metadata": {
        "id": "JnLQKdcpmpQc",
        "colab_type": "code",
        "colab": {}
      },
      "source": [
        "#** is the exponent operator ---- # = sets the parameter of a variable ------- define categorical variable using either '' or \"\" "
      ],
      "execution_count": null,
      "outputs": []
    },
    {
      "cell_type": "code",
      "metadata": {
        "id": "NMIoGFqW7shF",
        "colab_type": "code",
        "colab": {}
      },
      "source": [
        "# when typing text, and the string uses characters used to define the text use \\ to signfy that is not where the break is"
      ],
      "execution_count": null,
      "outputs": []
    },
    {
      "cell_type": "code",
      "metadata": {
        "id": "gsOEsnnwtQdP",
        "colab_type": "code",
        "colab": {}
      },
      "source": [
        "(+=, -=, *=, /=, **=) these are shorthand codes to modifify an already exsiting, defined variable (i.e x=4   x +=2   would print 6)"
      ],
      "execution_count": null,
      "outputs": []
    },
    {
      "cell_type": "code",
      "metadata": {
        "id": "-i-rK4v_vST4",
        "colab_type": "code",
        "colab": {}
      },
      "source": [
        "#round(), int()----will always round down"
      ],
      "execution_count": null,
      "outputs": []
    },
    {
      "cell_type": "code",
      "metadata": {
        "id": "dInKEPjf-FCS",
        "colab_type": "code",
        "colab": {}
      },
      "source": [
        "#str() turns interger into string , float turns string to float making it a number"
      ],
      "execution_count": null,
      "outputs": []
    },
    {
      "cell_type": "code",
      "metadata": {
        "id": "-xtPSQ7M_7A3",
        "colab_type": "code",
        "colab": {}
      },
      "source": [
        "row_x= [y,'z', q. 'm'] Wher y is 0, z is 1, q is 2 for the purposes of indexing; negative indexing ends with -1 and works backward "
      ],
      "execution_count": null,
      "outputs": []
    },
    {
      "cell_type": "code",
      "metadata": {
        "id": "BVVDF5zLVbfo",
        "colab_type": "code",
        "colab": {}
      },
      "source": [
        "#list of a condenced row name= [rowx[i], roww[i2]] or slice [0:3]"
      ],
      "execution_count": null,
      "outputs": []
    },
    {
      "cell_type": "code",
      "metadata": {
        "id": "7W-iyOeKXhAE",
        "colab_type": "code",
        "colab": {}
      },
      "source": [
        "#df= [row, row2, row3]"
      ],
      "execution_count": null,
      "outputs": []
    },
    {
      "cell_type": "code",
      "metadata": {
        "id": "DPpUaQ0OaWrn",
        "colab_type": "code",
        "colab": {}
      },
      "source": [
        "importint is opened_file= open('file name'), type \"from csv import reader\", then read_file=reader(opened_file), then the dataframe= list(read_file)"
      ],
      "execution_count": null,
      "outputs": []
    },
    {
      "cell_type": "code",
      "metadata": {
        "id": "ZcxibhTCcOYC",
        "colab_type": "code",
        "colab": {}
      },
      "source": [
        "len(df)"
      ],
      "execution_count": null,
      "outputs": []
    },
    {
      "cell_type": "code",
      "metadata": {
        "id": "ZnCE0gQ-dduN",
        "colab_type": "code",
        "colab": {}
      },
      "source": [
        "# for loop will generate particular things\n",
        "for each_list in df:\n",
        "  command typically print\n",
        "\n",
        "looping example\n",
        "rating_sum = 0\n",
        "for row in app_data_set:\n",
        "    rating = row[-1]\n",
        "    rating_sum = rating_sum + rating\n",
        "    print(rating_sum)\n",
        "    \n",
        "avg_rating = rating_sum / len(app_data_set)\n",
        "\n",
        "opened_file = open('AppleStore.csv')\n",
        "from csv import reader\n",
        "read_file = reader(opened_file)\n",
        "apps_data = list(read_file)\n",
        "rating_sum=0\n",
        "for row in apps_data[1:]:\n",
        "    rating= float(row[7])\n",
        "    rating_sum= rating_sum + rating\n",
        "\n",
        "avg_rating=rating_sum/len(apps_data[1:])\n",
        "\n",
        "all_ratings = []-------------this is like isolating a a column\n",
        "for row in apps_data[1:]:\n",
        "    rating = float(row[7])\n",
        "    all_ratings.append(rating)\n",
        "    \n",
        "avg_rating = sum(all_ratings) / len(all_ratings)"
      ],
      "execution_count": null,
      "outputs": []
    },
    {
      "cell_type": "code",
      "metadata": {
        "id": "Fm9iPVYrddth",
        "colab_type": "code",
        "colab": {
          "base_uri": "https://localhost:8080/",
          "height": 129
        },
        "outputId": "9ca002a5-7e2d-49a9-87b1-d42554534c39"
      },
      "source": [
        "#two categories or a numrical value\n",
        "free_apps_ratings = []\n",
        "for row in apps_data[1:]:\n",
        "    rating = float(row[7])\n",
        "    price = float(row[4])   \n",
        "    if price == 0.0:                      --------------important as if statement defines things can also be if price == 0.0 and (can als be or ) genre == 'Games':\n",
        "        free_apps_ratings.append(rating)                                                                        free_games_ratings.append(rating)\n",
        "        \n",
        "    \n",
        "avg_rating_free = sum(free_apps_ratings) / len(free_apps_ratings)\n",
        "\n",
        "a_price = 0\n",
        "if a_price == 0:\n",
        "    print('This is free')    \n",
        "if a_price == 1:\n",
        "    print('This is not free')"
      ],
      "execution_count": null,
      "outputs": [
        {
          "output_type": "error",
          "ename": "SyntaxError",
          "evalue": "ignored",
          "traceback": [
            "\u001b[0;36m  File \u001b[0;32m\"<ipython-input-4-dcbe578f4d60>\"\u001b[0;36m, line \u001b[0;32m5\u001b[0m\n\u001b[0;31m    if price == 0.0:                      --------------important as if statement defines things can also be if price == 0.0 and genre == 'Games':\u001b[0m\n\u001b[0m                                                                   ^\u001b[0m\n\u001b[0;31mSyntaxError\u001b[0m\u001b[0;31m:\u001b[0m invalid syntax\n"
          ]
        }
      ]
    },
    {
      "cell_type": "code",
      "metadata": {
        "id": "AEf3vajJtin3",
        "colab_type": "code",
        "colab": {}
      },
      "source": [
        "#this is about two different categories\n",
        "games_social_ratings = []\n",
        "for row in apps_data[1:]:\n",
        "    rating = float(row[7])\n",
        "    genre = row[11]  \n",
        "    if genre == 'Social Networking' or genre == 'Games':\n",
        "        games_social_ratings.append(rating)\n",
        "        \n",
        "avg_games_social = sum(games_social_ratings) / len(games_social_ratings)"
      ],
      "execution_count": null,
      "outputs": []
    },
    {
      "cell_type": "code",
      "metadata": {
        "id": "nSTNWmlfuAph",
        "colab_type": "code",
        "colab": {}
      },
      "source": [
        "#this is two categories and a numerical parameter\n",
        "nonfree_games_social_ratings = []\n",
        "for row in apps_data[1:]:\n",
        "    rating = float(row[7])\n",
        "    genre = row[11]\n",
        "    price = float(row[4])\n",
        "    \n",
        "    if (genre == 'Social Networking' or genre == 'Games') and price != 0:\n",
        "        nonfree_games_social_ratings.append(rating)\n",
        "        \n",
        "avg_non_free = sum(nonfree_games_social_ratings) / len(nonfree_games_social_ratings)"
      ],
      "execution_count": null,
      "outputs": []
    },
    {
      "cell_type": "code",
      "metadata": {
        "id": "yWkU5z8Dum7y",
        "colab_type": "code",
        "colab": {}
      },
      "source": [
        "#this is code ofr looping with parameter of >,<, <=, >=\n",
        "ratings = []\n",
        "for row in apps_data[1:]:\n",
        "    rating = float(row[7])\n",
        "    price = float(row[4])\n",
        "    if price > 9:\n",
        "        ratings.append(rating)\n",
        "avg_rating = sum(ratings) / len(ratings)\n",
        "n_apps_more_9 = len(ratings)\n",
        "n_apps_less_9 = len(apps_data[1:]) - len(ratings)"
      ],
      "execution_count": null,
      "outputs": []
    },
    {
      "cell_type": "code",
      "metadata": {
        "id": "w1uSOGRqv0xu",
        "colab_type": "code",
        "colab": {}
      },
      "source": [
        "#This is adding a variable and giving a way to define it\n",
        "for app in apps_data[1:]:\n",
        "    price = float(app[4])   \n",
        "    if price == 0.0:\n",
        "        app.append('free')\n",
        "    else:\n",
        "        app.append('non-free')\n",
        "\n",
        "apps_data[0].append('free_or_not')\n",
        "print(apps_data[:6])"
      ],
      "execution_count": null,
      "outputs": []
    },
    {
      "cell_type": "code",
      "metadata": {
        "id": "OC1hpxjKwSa6",
        "colab_type": "code",
        "colab": {}
      },
      "source": [
        "#this is for creating a more compex defined categorical variable\n",
        "for app in apps_data[1:]:\n",
        "    price = float(app[4])\n",
        "    # Complete code from here\n",
        "    if price == 0:\n",
        "        app.append('free')\n",
        "    elif price > 0 and price < 20:\n",
        "        app.append('affordable')\n",
        "    elif price >= 20 and price < 50:\n",
        "        app.append('expensive')\n",
        "    elif price >= 50:\n",
        "        app.append('very expensive')\n",
        "        \n",
        "apps_data[0].append('price_label')\n",
        "print(apps_data[:6])"
      ],
      "execution_count": null,
      "outputs": []
    },
    {
      "cell_type": "code",
      "metadata": {
        "id": "ZB9BZjuZB-kV",
        "colab_type": "code",
        "colab": {}
      },
      "source": [
        "#this is code for establishing, identifing, and looping in dictionaries \n",
        "index:value pattern (e.g. '4+': 4433)\n",
        "{'4+': 4433, '9+': 987, '12+': 1155, '17+': 622}\n",
        "content_ratings = {'4+': 4433, '9+': 987, '12+': 1155, '17+': 622}\n",
        "is_in_dictionary = '17+' in content_ratings\n",
        "if is_in_dictionary:\n",
        "    result = \"It exists\"\n",
        "    print(result)\n",
        "---------------------------------------------------------\n",
        "content_ratings = {'4+': 0, '9+': 0, '12+': 0, '17+': 0}\n",
        "\n",
        "for row in apps_data[1:]:\n",
        "    c_rating = row[10]\n",
        "    if c_rating in content_ratings:\n",
        "        content_ratings[c_rating] += 1\n",
        "----------------------------------------------------------\n",
        "content_ratings = {}\n",
        "\n",
        "for row in apps_data[1:]:\n",
        "    c_rating = row[10]\n",
        "    if c_rating in content_ratings:\n",
        "        content_ratings[c_rating] += 1\n",
        "    else:\n",
        "        content_ratings[c_rating] = 1\n",
        "        \n",
        "print(content_ratings)\n",
        "-------------------------------------------------------\n",
        "genre_counting = {}\n",
        "\n",
        "for row in apps_data[1:]:\n",
        "    genre = row[11]    \n",
        "    if genre in genre_counting:\n",
        "        genre_counting[genre] += 1\n",
        "    else:\n",
        "        genre_counting[genre] = 1\n",
        "        \n",
        "print(genre_counting)\n",
        "-------------------------------------------------------\n",
        "content_ratings = {'4+': 4433, '12+': 1155, '9+': 987, '17+': 622}\n",
        "total_number_of_apps = 7197\n",
        "c_ratings_proportions = {}\n",
        "for key in content_ratings:\n",
        "    proportion = content_ratings[key] / total_number_of_apps    \n",
        "    c_ratings_proportions[key] = proportion\n",
        "\n",
        "c_ratings_percentages = {}\n",
        "for key in c_ratings_proportions:\n",
        "    percentage = c_ratings_proportions[key] * 100\n",
        "    c_ratings_percentages[key] = percentage\n",
        "    \n",
        "c_ratings_proportions = {}\n",
        "c_ratings_percentages = {}\n",
        "\n",
        "for key in content_ratings:\n",
        "    proportion = content_ratings[key] / total_number_of_apps\n",
        "    percentage = proportion * 100\n",
        "    \n",
        "    c_ratings_proportions[key] = proportion\n",
        "    c_ratings_percentages[key] = percentage\n",
        "-------------------------------------------------------------\n",
        "#min and max\n",
        "apps_data = list(read_file)\n",
        "data_sizes = []\n",
        "for row in apps_data[1:]:\n",
        "    size = float(row[2])\n",
        "    data_sizes.append(size)\n",
        "    \n",
        "min_size = min(data_sizes)\n",
        "max_size = max(data_sizes)\n",
        "-------------------------------------------------------------\n",
        "apps_data = list(read_file)\n",
        "n_user_ratings = []\n",
        "for row in apps_data[1:]:\n",
        "    n_user_ratings.append(int(row[5]))\n",
        "    \n",
        "ratings_max = max(n_user_ratings)\n",
        "ratings_min = min(n_user_ratings)\n",
        "\n",
        "user_ratings_freq = {'0 - 10000': 0, '10000 - 100000': 0, '100000 - 500000': 0,\n",
        "                    '500000 - 1000000': 0, '1000000+': 0}\n",
        "\n",
        "for row in apps_data[1:]:\n",
        "    user_ratings = int(row[5])\n",
        "    \n",
        "    if user_ratings <= 10000:\n",
        "        user_ratings_freq['0 - 10000'] += 1\n",
        "        \n",
        "    elif 10000 < user_ratings <= 100000:\n",
        "        user_ratings_freq['10000 - 100000'] += 1\n",
        "        \n",
        "    elif 100000 < user_ratings <= 500000:\n",
        "        user_ratings_freq['100000 - 500000'] += 1\n",
        "        \n",
        "    elif 500000 < user_ratings <= 1000000:\n",
        "        user_ratings_freq['500000 - 1000000'] += 1\n",
        "        \n",
        "    elif user_ratings > 1000000:\n",
        "        user_ratings_freq['1000000+'] += 1\n",
        "\n",
        "\n",
        "print(user_ratings_freq)"
      ],
      "execution_count": null,
      "outputs": []
    }
  ]
}